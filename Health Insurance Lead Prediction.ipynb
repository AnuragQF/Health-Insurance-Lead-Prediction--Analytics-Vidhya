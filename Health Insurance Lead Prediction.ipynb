{
 "cells": [
  {
   "cell_type": "code",
   "execution_count": 1,
   "metadata": {},
   "outputs": [],
   "source": [
    "import pandas as pd \n",
    "import numpy as np\n",
    "import matplotlib.pyplot as plt\n",
    "import seaborn as sns\n",
    "\n",
    "# to suppress warnings \n",
    "from warnings import filterwarnings\n",
    "filterwarnings('ignore')\n",
    "\n",
    "# import train-test split \n",
    "from sklearn.model_selection import train_test_split\n",
    "\n",
    "# import functions to perform feature selection\n",
    "#from mlxtend.feature_selection import SequentialFeatureSelector as sfs\n",
    "from sklearn.feature_selection import RFE\n",
    "from mlxtend .feature_selection import SequentialFeatureSelector as sfs\n",
    "\n",
    "# import functions to perform cross validation\n",
    "from sklearn.model_selection import LeaveOneOut\n",
    "from sklearn.model_selection import cross_val_score\n",
    "from sklearn.model_selection import KFold\n",
    "\n",
    "#Plotting Parameters\n",
    "plt.rcParams['figure.figsize'] = [15,8]"
   ]
  },
  {
   "cell_type": "markdown",
   "metadata": {},
   "source": [
    "### Attributes Description\n",
    "\n",
    "ID\t--> Unique Identifier for a row<br>\n",
    "City_Code -->\tCode for the City of the customers<br>\n",
    "Region_Code -->\tCode for the Region of the customers<br>\n",
    "Accomodation_Type -->\tCustomer Owns or Rents the house<br>\n",
    "Reco_Insurance_Type -->\tJoint or Individual type for the recommended insurance  <br>\n",
    "Upper_Age -->\tMaximum age of the customer <br>\n",
    "Lower _Age -->\tMinimum age of the customer<br>\n",
    "Is_Spouse -->\tIf the customers are married to each other (in case of joint insurance) <br>\n",
    "Health_Indicator --> Encoded values for health of the customer<br>\n",
    "Holding_Policy_Duration\t--> Duration (in years) of holding policy (a policy that customer has already subscribed to with the company)<br>\n",
    "Holding_Policy_Type --> Type of holding policy<br>\n",
    "Reco_Policy_Cat\t--> Encoded value for recommended health insurance<br>\n",
    "Reco_Policy_Premium -->\tAnnual Premium (INR) for the recommended health insurance<br>\n",
    "Response (Target) -->\t\n",
    "* 0 : Customer did not show interest in the recommended policy,\n",
    "* 1 : Customer showed interest in the recommended policy"
   ]
  },
  {
   "cell_type": "code",
   "execution_count": 178,
   "metadata": {},
   "outputs": [],
   "source": [
    "train = pd.read_csv(\"C:/Users/91899/Desktop/Analyatics Vidhya/Health Insurance Lead Prediction/train.csv\")\n",
    "test = pd.read_csv(\"C:/Users/91899/Desktop/Analyatics Vidhya/Health Insurance Lead Prediction/test.csv\")"
   ]
  },
  {
   "cell_type": "code",
   "execution_count": 179,
   "metadata": {},
   "outputs": [
    {
     "data": {
      "text/html": [
       "<div>\n",
       "<style scoped>\n",
       "    .dataframe tbody tr th:only-of-type {\n",
       "        vertical-align: middle;\n",
       "    }\n",
       "\n",
       "    .dataframe tbody tr th {\n",
       "        vertical-align: top;\n",
       "    }\n",
       "\n",
       "    .dataframe thead th {\n",
       "        text-align: right;\n",
       "    }\n",
       "</style>\n",
       "<table border=\"1\" class=\"dataframe\">\n",
       "  <thead>\n",
       "    <tr style=\"text-align: right;\">\n",
       "      <th></th>\n",
       "      <th>ID</th>\n",
       "      <th>City_Code</th>\n",
       "      <th>Region_Code</th>\n",
       "      <th>Accomodation_Type</th>\n",
       "      <th>Reco_Insurance_Type</th>\n",
       "      <th>Upper_Age</th>\n",
       "      <th>Lower_Age</th>\n",
       "      <th>Is_Spouse</th>\n",
       "      <th>Health Indicator</th>\n",
       "      <th>Holding_Policy_Duration</th>\n",
       "      <th>Holding_Policy_Type</th>\n",
       "      <th>Reco_Policy_Cat</th>\n",
       "      <th>Reco_Policy_Premium</th>\n",
       "      <th>Response</th>\n",
       "    </tr>\n",
       "  </thead>\n",
       "  <tbody>\n",
       "    <tr>\n",
       "      <td>0</td>\n",
       "      <td>1</td>\n",
       "      <td>C3</td>\n",
       "      <td>3213</td>\n",
       "      <td>Rented</td>\n",
       "      <td>Individual</td>\n",
       "      <td>36</td>\n",
       "      <td>36</td>\n",
       "      <td>No</td>\n",
       "      <td>X1</td>\n",
       "      <td>14+</td>\n",
       "      <td>3.0</td>\n",
       "      <td>22</td>\n",
       "      <td>11628.0</td>\n",
       "      <td>0</td>\n",
       "    </tr>\n",
       "    <tr>\n",
       "      <td>1</td>\n",
       "      <td>2</td>\n",
       "      <td>C5</td>\n",
       "      <td>1117</td>\n",
       "      <td>Owned</td>\n",
       "      <td>Joint</td>\n",
       "      <td>75</td>\n",
       "      <td>22</td>\n",
       "      <td>No</td>\n",
       "      <td>X2</td>\n",
       "      <td>NaN</td>\n",
       "      <td>NaN</td>\n",
       "      <td>22</td>\n",
       "      <td>30510.0</td>\n",
       "      <td>0</td>\n",
       "    </tr>\n",
       "    <tr>\n",
       "      <td>2</td>\n",
       "      <td>3</td>\n",
       "      <td>C5</td>\n",
       "      <td>3732</td>\n",
       "      <td>Owned</td>\n",
       "      <td>Individual</td>\n",
       "      <td>32</td>\n",
       "      <td>32</td>\n",
       "      <td>No</td>\n",
       "      <td>NaN</td>\n",
       "      <td>1.0</td>\n",
       "      <td>1.0</td>\n",
       "      <td>19</td>\n",
       "      <td>7450.0</td>\n",
       "      <td>1</td>\n",
       "    </tr>\n",
       "    <tr>\n",
       "      <td>3</td>\n",
       "      <td>4</td>\n",
       "      <td>C24</td>\n",
       "      <td>4378</td>\n",
       "      <td>Owned</td>\n",
       "      <td>Joint</td>\n",
       "      <td>52</td>\n",
       "      <td>48</td>\n",
       "      <td>No</td>\n",
       "      <td>X1</td>\n",
       "      <td>14+</td>\n",
       "      <td>3.0</td>\n",
       "      <td>19</td>\n",
       "      <td>17780.0</td>\n",
       "      <td>0</td>\n",
       "    </tr>\n",
       "    <tr>\n",
       "      <td>4</td>\n",
       "      <td>5</td>\n",
       "      <td>C8</td>\n",
       "      <td>2190</td>\n",
       "      <td>Rented</td>\n",
       "      <td>Individual</td>\n",
       "      <td>44</td>\n",
       "      <td>44</td>\n",
       "      <td>No</td>\n",
       "      <td>X2</td>\n",
       "      <td>3.0</td>\n",
       "      <td>1.0</td>\n",
       "      <td>16</td>\n",
       "      <td>10404.0</td>\n",
       "      <td>0</td>\n",
       "    </tr>\n",
       "    <tr>\n",
       "      <td>5</td>\n",
       "      <td>6</td>\n",
       "      <td>C9</td>\n",
       "      <td>1785</td>\n",
       "      <td>Rented</td>\n",
       "      <td>Individual</td>\n",
       "      <td>52</td>\n",
       "      <td>52</td>\n",
       "      <td>No</td>\n",
       "      <td>X2</td>\n",
       "      <td>5.0</td>\n",
       "      <td>1.0</td>\n",
       "      <td>22</td>\n",
       "      <td>15264.0</td>\n",
       "      <td>1</td>\n",
       "    </tr>\n",
       "    <tr>\n",
       "      <td>6</td>\n",
       "      <td>7</td>\n",
       "      <td>C3</td>\n",
       "      <td>679</td>\n",
       "      <td>Owned</td>\n",
       "      <td>Individual</td>\n",
       "      <td>28</td>\n",
       "      <td>28</td>\n",
       "      <td>No</td>\n",
       "      <td>NaN</td>\n",
       "      <td>NaN</td>\n",
       "      <td>NaN</td>\n",
       "      <td>17</td>\n",
       "      <td>10640.0</td>\n",
       "      <td>0</td>\n",
       "    </tr>\n",
       "    <tr>\n",
       "      <td>7</td>\n",
       "      <td>8</td>\n",
       "      <td>C1</td>\n",
       "      <td>3175</td>\n",
       "      <td>Owned</td>\n",
       "      <td>Joint</td>\n",
       "      <td>75</td>\n",
       "      <td>73</td>\n",
       "      <td>Yes</td>\n",
       "      <td>X4</td>\n",
       "      <td>9.0</td>\n",
       "      <td>4.0</td>\n",
       "      <td>17</td>\n",
       "      <td>29344.0</td>\n",
       "      <td>1</td>\n",
       "    </tr>\n",
       "    <tr>\n",
       "      <td>8</td>\n",
       "      <td>9</td>\n",
       "      <td>C15</td>\n",
       "      <td>3497</td>\n",
       "      <td>Owned</td>\n",
       "      <td>Joint</td>\n",
       "      <td>52</td>\n",
       "      <td>43</td>\n",
       "      <td>No</td>\n",
       "      <td>X1</td>\n",
       "      <td>14.0</td>\n",
       "      <td>3.0</td>\n",
       "      <td>1</td>\n",
       "      <td>27283.2</td>\n",
       "      <td>0</td>\n",
       "    </tr>\n",
       "    <tr>\n",
       "      <td>9</td>\n",
       "      <td>10</td>\n",
       "      <td>C1</td>\n",
       "      <td>530</td>\n",
       "      <td>Owned</td>\n",
       "      <td>Joint</td>\n",
       "      <td>59</td>\n",
       "      <td>26</td>\n",
       "      <td>Yes</td>\n",
       "      <td>NaN</td>\n",
       "      <td>7.0</td>\n",
       "      <td>4.0</td>\n",
       "      <td>18</td>\n",
       "      <td>21100.8</td>\n",
       "      <td>1</td>\n",
       "    </tr>\n",
       "  </tbody>\n",
       "</table>\n",
       "</div>"
      ],
      "text/plain": [
       "   ID City_Code  Region_Code Accomodation_Type Reco_Insurance_Type  Upper_Age  \\\n",
       "0   1        C3         3213            Rented          Individual         36   \n",
       "1   2        C5         1117             Owned               Joint         75   \n",
       "2   3        C5         3732             Owned          Individual         32   \n",
       "3   4       C24         4378             Owned               Joint         52   \n",
       "4   5        C8         2190            Rented          Individual         44   \n",
       "5   6        C9         1785            Rented          Individual         52   \n",
       "6   7        C3          679             Owned          Individual         28   \n",
       "7   8        C1         3175             Owned               Joint         75   \n",
       "8   9       C15         3497             Owned               Joint         52   \n",
       "9  10        C1          530             Owned               Joint         59   \n",
       "\n",
       "   Lower_Age Is_Spouse Health Indicator Holding_Policy_Duration  \\\n",
       "0         36        No               X1                     14+   \n",
       "1         22        No               X2                     NaN   \n",
       "2         32        No              NaN                     1.0   \n",
       "3         48        No               X1                     14+   \n",
       "4         44        No               X2                     3.0   \n",
       "5         52        No               X2                     5.0   \n",
       "6         28        No              NaN                     NaN   \n",
       "7         73       Yes               X4                     9.0   \n",
       "8         43        No               X1                    14.0   \n",
       "9         26       Yes              NaN                     7.0   \n",
       "\n",
       "   Holding_Policy_Type  Reco_Policy_Cat  Reco_Policy_Premium  Response  \n",
       "0                  3.0               22              11628.0         0  \n",
       "1                  NaN               22              30510.0         0  \n",
       "2                  1.0               19               7450.0         1  \n",
       "3                  3.0               19              17780.0         0  \n",
       "4                  1.0               16              10404.0         0  \n",
       "5                  1.0               22              15264.0         1  \n",
       "6                  NaN               17              10640.0         0  \n",
       "7                  4.0               17              29344.0         1  \n",
       "8                  3.0                1              27283.2         0  \n",
       "9                  4.0               18              21100.8         1  "
      ]
     },
     "execution_count": 179,
     "metadata": {},
     "output_type": "execute_result"
    }
   ],
   "source": [
    "train.head(10)"
   ]
  },
  {
   "cell_type": "code",
   "execution_count": 180,
   "metadata": {},
   "outputs": [
    {
     "data": {
      "text/plain": [
       "(50882, 14)"
      ]
     },
     "execution_count": 180,
     "metadata": {},
     "output_type": "execute_result"
    }
   ],
   "source": [
    "train.shape"
   ]
  },
  {
   "cell_type": "code",
   "execution_count": 181,
   "metadata": {},
   "outputs": [
    {
     "name": "stdout",
     "output_type": "stream",
     "text": [
      "<class 'pandas.core.frame.DataFrame'>\n",
      "RangeIndex: 50882 entries, 0 to 50881\n",
      "Data columns (total 14 columns):\n",
      "ID                         50882 non-null int64\n",
      "City_Code                  50882 non-null object\n",
      "Region_Code                50882 non-null int64\n",
      "Accomodation_Type          50882 non-null object\n",
      "Reco_Insurance_Type        50882 non-null object\n",
      "Upper_Age                  50882 non-null int64\n",
      "Lower_Age                  50882 non-null int64\n",
      "Is_Spouse                  50882 non-null object\n",
      "Health Indicator           39191 non-null object\n",
      "Holding_Policy_Duration    30631 non-null object\n",
      "Holding_Policy_Type        30631 non-null float64\n",
      "Reco_Policy_Cat            50882 non-null int64\n",
      "Reco_Policy_Premium        50882 non-null float64\n",
      "Response                   50882 non-null int64\n",
      "dtypes: float64(2), int64(6), object(6)\n",
      "memory usage: 5.4+ MB\n"
     ]
    }
   ],
   "source": [
    "# Lets find out the datatypes of features\n",
    "train.info()"
   ]
  },
  {
   "cell_type": "code",
   "execution_count": 182,
   "metadata": {},
   "outputs": [
    {
     "data": {
      "text/html": [
       "<div>\n",
       "<style scoped>\n",
       "    .dataframe tbody tr th:only-of-type {\n",
       "        vertical-align: middle;\n",
       "    }\n",
       "\n",
       "    .dataframe tbody tr th {\n",
       "        vertical-align: top;\n",
       "    }\n",
       "\n",
       "    .dataframe thead th {\n",
       "        text-align: right;\n",
       "    }\n",
       "</style>\n",
       "<table border=\"1\" class=\"dataframe\">\n",
       "  <thead>\n",
       "    <tr style=\"text-align: right;\">\n",
       "      <th></th>\n",
       "      <th>ID</th>\n",
       "      <th>Region_Code</th>\n",
       "      <th>Upper_Age</th>\n",
       "      <th>Lower_Age</th>\n",
       "      <th>Holding_Policy_Type</th>\n",
       "      <th>Reco_Policy_Cat</th>\n",
       "      <th>Reco_Policy_Premium</th>\n",
       "      <th>Response</th>\n",
       "    </tr>\n",
       "  </thead>\n",
       "  <tbody>\n",
       "    <tr>\n",
       "      <td>count</td>\n",
       "      <td>50882.000000</td>\n",
       "      <td>50882.000000</td>\n",
       "      <td>50882.000000</td>\n",
       "      <td>50882.000000</td>\n",
       "      <td>30631.000000</td>\n",
       "      <td>50882.000000</td>\n",
       "      <td>50882.000000</td>\n",
       "      <td>50882.000000</td>\n",
       "    </tr>\n",
       "    <tr>\n",
       "      <td>mean</td>\n",
       "      <td>25441.500000</td>\n",
       "      <td>1732.788707</td>\n",
       "      <td>44.856275</td>\n",
       "      <td>42.738866</td>\n",
       "      <td>2.439228</td>\n",
       "      <td>15.115188</td>\n",
       "      <td>14183.950069</td>\n",
       "      <td>0.239947</td>\n",
       "    </tr>\n",
       "    <tr>\n",
       "      <td>std</td>\n",
       "      <td>14688.512535</td>\n",
       "      <td>1424.081652</td>\n",
       "      <td>17.310271</td>\n",
       "      <td>17.319375</td>\n",
       "      <td>1.025923</td>\n",
       "      <td>6.340663</td>\n",
       "      <td>6590.074873</td>\n",
       "      <td>0.427055</td>\n",
       "    </tr>\n",
       "    <tr>\n",
       "      <td>min</td>\n",
       "      <td>1.000000</td>\n",
       "      <td>1.000000</td>\n",
       "      <td>18.000000</td>\n",
       "      <td>16.000000</td>\n",
       "      <td>1.000000</td>\n",
       "      <td>1.000000</td>\n",
       "      <td>2280.000000</td>\n",
       "      <td>0.000000</td>\n",
       "    </tr>\n",
       "    <tr>\n",
       "      <td>25%</td>\n",
       "      <td>12721.250000</td>\n",
       "      <td>523.000000</td>\n",
       "      <td>28.000000</td>\n",
       "      <td>27.000000</td>\n",
       "      <td>1.000000</td>\n",
       "      <td>12.000000</td>\n",
       "      <td>9248.000000</td>\n",
       "      <td>0.000000</td>\n",
       "    </tr>\n",
       "    <tr>\n",
       "      <td>50%</td>\n",
       "      <td>25441.500000</td>\n",
       "      <td>1391.000000</td>\n",
       "      <td>44.000000</td>\n",
       "      <td>40.000000</td>\n",
       "      <td>3.000000</td>\n",
       "      <td>17.000000</td>\n",
       "      <td>13178.000000</td>\n",
       "      <td>0.000000</td>\n",
       "    </tr>\n",
       "    <tr>\n",
       "      <td>75%</td>\n",
       "      <td>38161.750000</td>\n",
       "      <td>2667.000000</td>\n",
       "      <td>59.000000</td>\n",
       "      <td>57.000000</td>\n",
       "      <td>3.000000</td>\n",
       "      <td>20.000000</td>\n",
       "      <td>18096.000000</td>\n",
       "      <td>0.000000</td>\n",
       "    </tr>\n",
       "    <tr>\n",
       "      <td>max</td>\n",
       "      <td>50882.000000</td>\n",
       "      <td>6194.000000</td>\n",
       "      <td>75.000000</td>\n",
       "      <td>75.000000</td>\n",
       "      <td>4.000000</td>\n",
       "      <td>22.000000</td>\n",
       "      <td>43350.400000</td>\n",
       "      <td>1.000000</td>\n",
       "    </tr>\n",
       "  </tbody>\n",
       "</table>\n",
       "</div>"
      ],
      "text/plain": [
       "                 ID   Region_Code     Upper_Age     Lower_Age  \\\n",
       "count  50882.000000  50882.000000  50882.000000  50882.000000   \n",
       "mean   25441.500000   1732.788707     44.856275     42.738866   \n",
       "std    14688.512535   1424.081652     17.310271     17.319375   \n",
       "min        1.000000      1.000000     18.000000     16.000000   \n",
       "25%    12721.250000    523.000000     28.000000     27.000000   \n",
       "50%    25441.500000   1391.000000     44.000000     40.000000   \n",
       "75%    38161.750000   2667.000000     59.000000     57.000000   \n",
       "max    50882.000000   6194.000000     75.000000     75.000000   \n",
       "\n",
       "       Holding_Policy_Type  Reco_Policy_Cat  Reco_Policy_Premium      Response  \n",
       "count         30631.000000     50882.000000         50882.000000  50882.000000  \n",
       "mean              2.439228        15.115188         14183.950069      0.239947  \n",
       "std               1.025923         6.340663          6590.074873      0.427055  \n",
       "min               1.000000         1.000000          2280.000000      0.000000  \n",
       "25%               1.000000        12.000000          9248.000000      0.000000  \n",
       "50%               3.000000        17.000000         13178.000000      0.000000  \n",
       "75%               3.000000        20.000000         18096.000000      0.000000  \n",
       "max               4.000000        22.000000         43350.400000      1.000000  "
      ]
     },
     "execution_count": 182,
     "metadata": {},
     "output_type": "execute_result"
    }
   ],
   "source": [
    "train.describe()"
   ]
  },
  {
   "cell_type": "code",
   "execution_count": 183,
   "metadata": {},
   "outputs": [
    {
     "name": "stdout",
     "output_type": "stream",
     "text": [
      "<class 'pandas.core.frame.DataFrame'>\n",
      "RangeIndex: 21805 entries, 0 to 21804\n",
      "Data columns (total 13 columns):\n",
      "ID                         21805 non-null int64\n",
      "City_Code                  21805 non-null object\n",
      "Region_Code                21805 non-null int64\n",
      "Accomodation_Type          21805 non-null object\n",
      "Reco_Insurance_Type        21805 non-null object\n",
      "Upper_Age                  21805 non-null int64\n",
      "Lower_Age                  21805 non-null int64\n",
      "Is_Spouse                  21805 non-null object\n",
      "Health Indicator           16778 non-null object\n",
      "Holding_Policy_Duration    13202 non-null object\n",
      "Holding_Policy_Type        13202 non-null float64\n",
      "Reco_Policy_Cat            21805 non-null int64\n",
      "Reco_Policy_Premium        21805 non-null float64\n",
      "dtypes: float64(2), int64(5), object(6)\n",
      "memory usage: 2.2+ MB\n"
     ]
    }
   ],
   "source": [
    "test.info()"
   ]
  },
  {
   "cell_type": "code",
   "execution_count": 184,
   "metadata": {},
   "outputs": [
    {
     "data": {
      "text/plain": [
       "ID                             0\n",
       "City_Code                      0\n",
       "Region_Code                    0\n",
       "Accomodation_Type              0\n",
       "Reco_Insurance_Type            0\n",
       "Upper_Age                      0\n",
       "Lower_Age                      0\n",
       "Is_Spouse                      0\n",
       "Health Indicator           11691\n",
       "Holding_Policy_Duration    20251\n",
       "Holding_Policy_Type        20251\n",
       "Reco_Policy_Cat                0\n",
       "Reco_Policy_Premium            0\n",
       "Response                       0\n",
       "dtype: int64"
      ]
     },
     "execution_count": 184,
     "metadata": {},
     "output_type": "execute_result"
    }
   ],
   "source": [
    "# Lets find if there are any Nan values\n",
    "train.isna().sum()"
   ]
  },
  {
   "cell_type": "code",
   "execution_count": 185,
   "metadata": {},
   "outputs": [
    {
     "data": {
      "text/plain": [
       "ID                            0\n",
       "City_Code                     0\n",
       "Region_Code                   0\n",
       "Accomodation_Type             0\n",
       "Reco_Insurance_Type           0\n",
       "Upper_Age                     0\n",
       "Lower_Age                     0\n",
       "Is_Spouse                     0\n",
       "Health Indicator           5027\n",
       "Holding_Policy_Duration    8603\n",
       "Holding_Policy_Type        8603\n",
       "Reco_Policy_Cat               0\n",
       "Reco_Policy_Premium           0\n",
       "dtype: int64"
      ]
     },
     "execution_count": 185,
     "metadata": {},
     "output_type": "execute_result"
    }
   ],
   "source": [
    "test.isna().sum()"
   ]
  },
  {
   "cell_type": "code",
   "execution_count": 186,
   "metadata": {},
   "outputs": [
    {
     "data": {
      "text/plain": [
       "ID                          0.000000\n",
       "City_Code                   0.000000\n",
       "Region_Code                 0.000000\n",
       "Accomodation_Type           0.000000\n",
       "Reco_Insurance_Type         0.000000\n",
       "Upper_Age                   0.000000\n",
       "Lower_Age                   0.000000\n",
       "Is_Spouse                   0.000000\n",
       "Health Indicator           22.976691\n",
       "Holding_Policy_Duration    39.799929\n",
       "Holding_Policy_Type        39.799929\n",
       "Reco_Policy_Cat             0.000000\n",
       "Reco_Policy_Premium         0.000000\n",
       "Response                    0.000000\n",
       "dtype: float64"
      ]
     },
     "execution_count": 186,
     "metadata": {},
     "output_type": "execute_result"
    }
   ],
   "source": [
    "(train.isna().sum()/train.shape[0]) * 100"
   ]
  },
  {
   "cell_type": "code",
   "execution_count": 187,
   "metadata": {},
   "outputs": [
    {
     "data": {
      "text/plain": [
       "ID                          0.000000\n",
       "City_Code                   0.000000\n",
       "Region_Code                 0.000000\n",
       "Accomodation_Type           0.000000\n",
       "Reco_Insurance_Type         0.000000\n",
       "Upper_Age                   0.000000\n",
       "Lower_Age                   0.000000\n",
       "Is_Spouse                   0.000000\n",
       "Health Indicator           23.054345\n",
       "Holding_Policy_Duration    39.454254\n",
       "Holding_Policy_Type        39.454254\n",
       "Reco_Policy_Cat             0.000000\n",
       "Reco_Policy_Premium         0.000000\n",
       "dtype: float64"
      ]
     },
     "execution_count": 187,
     "metadata": {},
     "output_type": "execute_result"
    }
   ],
   "source": [
    "(test.isna().sum()/test.shape[0]) * 100"
   ]
  },
  {
   "cell_type": "code",
   "execution_count": 188,
   "metadata": {},
   "outputs": [],
   "source": [
    "# Approximately 40% of the data is Nan in Holding_Policy_Duration and Holding_Policy_type.\n",
    "# So instead of filling it with some values which we don't know it would be good for our modeling, let's drop these columns.\n",
    "# So, Health Indicator is also having 23% Nan values, let's drop this column also."
   ]
  },
  {
   "cell_type": "code",
   "execution_count": 189,
   "metadata": {},
   "outputs": [],
   "source": [
    "train_df = train.drop([\"Health Indicator\", \"Holding_Policy_Duration\", \"Holding_Policy_Type\", \"Lower_Age\",\"ID\"], axis =1, inplace = False)\n",
    "test_df = test.drop([\"Health Indicator\", \"Holding_Policy_Duration\", \"Holding_Policy_Type\", \"Lower_Age\", \"ID\"], axis =1, inplace = False)"
   ]
  },
  {
   "cell_type": "code",
   "execution_count": 190,
   "metadata": {},
   "outputs": [
    {
     "name": "stdout",
     "output_type": "stream",
     "text": [
      "<class 'pandas.core.frame.DataFrame'>\n",
      "RangeIndex: 50882 entries, 0 to 50881\n",
      "Data columns (total 9 columns):\n",
      "City_Code              50882 non-null object\n",
      "Region_Code            50882 non-null int64\n",
      "Accomodation_Type      50882 non-null object\n",
      "Reco_Insurance_Type    50882 non-null object\n",
      "Upper_Age              50882 non-null int64\n",
      "Is_Spouse              50882 non-null object\n",
      "Reco_Policy_Cat        50882 non-null int64\n",
      "Reco_Policy_Premium    50882 non-null float64\n",
      "Response               50882 non-null int64\n",
      "dtypes: float64(1), int64(4), object(4)\n",
      "memory usage: 3.5+ MB\n"
     ]
    }
   ],
   "source": [
    "train_df.info()"
   ]
  },
  {
   "cell_type": "code",
   "execution_count": 191,
   "metadata": {},
   "outputs": [
    {
     "data": {
      "text/plain": [
       "array([3213, 1117, 3732, ..., 5326, 6149, 5450], dtype=int64)"
      ]
     },
     "execution_count": 191,
     "metadata": {},
     "output_type": "execute_result"
    }
   ],
   "source": [
    "train_df[\"Region_Code\"].unique()"
   ]
  },
  {
   "cell_type": "code",
   "execution_count": 192,
   "metadata": {},
   "outputs": [
    {
     "data": {
      "text/plain": [
       "0    38673\n",
       "1    12209\n",
       "Name: Response, dtype: int64"
      ]
     },
     "execution_count": 192,
     "metadata": {},
     "output_type": "execute_result"
    }
   ],
   "source": [
    "train_df[\"Response\"].value_counts()"
   ]
  },
  {
   "cell_type": "code",
   "execution_count": 193,
   "metadata": {},
   "outputs": [
    {
     "data": {
      "text/plain": [
       "3.1675812924891473"
      ]
     },
     "execution_count": 193,
     "metadata": {},
     "output_type": "execute_result"
    }
   ],
   "source": [
    "# It is an imbalanced dataset\n",
    "(train_df[\"Response\"].value_counts()[0]/ train_df[\"Response\"].value_counts()[1]) "
   ]
  },
  {
   "cell_type": "code",
   "execution_count": null,
   "metadata": {},
   "outputs": [],
   "source": []
  },
  {
   "cell_type": "code",
   "execution_count": null,
   "metadata": {},
   "outputs": [],
   "source": []
  },
  {
   "cell_type": "code",
   "execution_count": null,
   "metadata": {},
   "outputs": [],
   "source": []
  },
  {
   "cell_type": "code",
   "execution_count": 194,
   "metadata": {},
   "outputs": [
    {
     "data": {
      "image/png": "[encoded data removed]",
      "text/plain": [
       "<Figure size 1080x576 with 4 Axes>"
      ]
     },
     "metadata": {
      "needs_background": "light"
     },
     "output_type": "display_data"
    }
   ],
   "source": [
    "fig, axes = plt.subplots( 2,2 , figsize = (15,8))\n",
    "sns.distplot(train[\"Upper_Age\"], ax = axes[0,0])\n",
    "sns.distplot(train[\"Region_Code\"], ax = axes[0,1])\n",
    "sns.distplot(train[\"Reco_Policy_Cat\"], ax = axes[1,0])\n",
    "sns.distplot(train[\"Reco_Policy_Premium\"], ax = axes[1,1])\n",
    "plt.show()"
   ]
  },
  {
   "cell_type": "code",
   "execution_count": 195,
   "metadata": {},
   "outputs": [
    {
     "data": {
      "image/png": "[encoded data removed]",
      "text/plain": [
       "<Figure size 432x288 with 1 Axes>"
      ]
     },
     "metadata": {
      "needs_background": "light"
     },
     "output_type": "display_data"
    }
   ],
   "source": [
    "sns.barplot(train[\"Upper_Age\"], train[\"Response\"])\n",
    "plt.show()"
   ]
  },
  {
   "cell_type": "code",
   "execution_count": 196,
   "metadata": {},
   "outputs": [
    {
     "data": {
      "image/png": "[encoded data removed]",
      "text/plain": [
       "<Figure size 432x288 with 1 Axes>"
      ]
     },
     "metadata": {
      "needs_background": "light"
     },
     "output_type": "display_data"
    }
   ],
   "source": [
    "sns.scatterplot(train[\"Region_Code\"], train[\"Response\"])\n",
    "plt.show()"
   ]
  },
  {
   "cell_type": "code",
   "execution_count": 197,
   "metadata": {},
   "outputs": [
    {
     "data": {
      "image/png": "[encoded data removed]",
      "text/plain": [
       "<Figure size 432x288 with 1 Axes>"
      ]
     },
     "metadata": {
      "needs_background": "light"
     },
     "output_type": "display_data"
    }
   ],
   "source": [
    "sns.barplot(train[\"Reco_Policy_Cat\"], train[\"Response\"])\n",
    "plt.show()"
   ]
  },
  {
   "cell_type": "code",
   "execution_count": 198,
   "metadata": {},
   "outputs": [
    {
     "data": {
      "image/png": "[encoded data removed]",
      "text/plain": [
       "<Figure size 432x288 with 1 Axes>"
      ]
     },
     "metadata": {
      "needs_background": "light"
     },
     "output_type": "display_data"
    }
   ],
   "source": [
    "sns.scatterplot(train[\"Reco_Policy_Premium\"], train[\"Response\"])\n",
    "plt.show()"
   ]
  },
  {
   "cell_type": "code",
   "execution_count": 199,
   "metadata": {},
   "outputs": [],
   "source": [
    "## Feature Engineering"
   ]
  },
  {
   "cell_type": "code",
   "execution_count": 200,
   "metadata": {},
   "outputs": [
    {
     "data": {
      "image/png": "[encoded data removed]",
      "text/plain": [
       "<Figure size 432x288 with 2 Axes>"
      ]
     },
     "metadata": {
      "needs_background": "light"
     },
     "output_type": "display_data"
    }
   ],
   "source": [
    "sns.heatmap(train_df.corr(), annot = True)\n",
    "plt.show()"
   ]
  },
  {
   "cell_type": "code",
   "execution_count": 202,
   "metadata": {},
   "outputs": [
    {
     "data": {
      "image/png": "[encoded data removed]",
      "text/plain": [
       "<Figure size 432x288 with 1 Axes>"
      ]
     },
     "metadata": {
      "needs_background": "light"
     },
     "output_type": "display_data"
    }
   ],
   "source": [
    "sns.boxplot(train_df[\"Reco_Policy_Premium\"], whis = 2.7)\n",
    "plt.show()"
   ]
  },
  {
   "cell_type": "code",
   "execution_count": 203,
   "metadata": {},
   "outputs": [
    {
     "data": {
      "text/plain": [
       "8848.0"
      ]
     },
     "execution_count": 203,
     "metadata": {},
     "output_type": "execute_result"
    }
   ],
   "source": [
    "q1 = train_df['Reco_Policy_Premium'].quantile(0.25)\n",
    "q3 = train_df['Reco_Policy_Premium'].quantile(0.75)\n",
    "IQR = q3 - q1\n",
    "IQR"
   ]
  },
  {
   "cell_type": "code",
   "execution_count": 204,
   "metadata": {},
   "outputs": [
    {
     "data": {
      "text/plain": [
       "41985.600000000006"
      ]
     },
     "execution_count": 204,
     "metadata": {},
     "output_type": "execute_result"
    }
   ],
   "source": [
    "upper_limit = q3 + 2.7*IQR\n",
    "upper_limit"
   ]
  },
  {
   "cell_type": "code",
   "execution_count": 205,
   "metadata": {},
   "outputs": [
    {
     "data": {
      "text/plain": [
       "-4024.0"
      ]
     },
     "execution_count": 205,
     "metadata": {},
     "output_type": "execute_result"
    }
   ],
   "source": [
    "lower_limit = q1 - 1.5*IQR\n",
    "lower_limit"
   ]
  },
  {
   "cell_type": "code",
   "execution_count": 206,
   "metadata": {},
   "outputs": [
    {
     "data": {
      "text/html": [
       "<div>\n",
       "<style scoped>\n",
       "    .dataframe tbody tr th:only-of-type {\n",
       "        vertical-align: middle;\n",
       "    }\n",
       "\n",
       "    .dataframe tbody tr th {\n",
       "        vertical-align: top;\n",
       "    }\n",
       "\n",
       "    .dataframe thead th {\n",
       "        text-align: right;\n",
       "    }\n",
       "</style>\n",
       "<table border=\"1\" class=\"dataframe\">\n",
       "  <thead>\n",
       "    <tr style=\"text-align: right;\">\n",
       "      <th></th>\n",
       "      <th>City_Code</th>\n",
       "      <th>Region_Code</th>\n",
       "      <th>Accomodation_Type</th>\n",
       "      <th>Reco_Insurance_Type</th>\n",
       "      <th>Upper_Age</th>\n",
       "      <th>Is_Spouse</th>\n",
       "      <th>Reco_Policy_Cat</th>\n",
       "      <th>Reco_Policy_Premium</th>\n",
       "      <th>Response</th>\n",
       "    </tr>\n",
       "  </thead>\n",
       "  <tbody>\n",
       "    <tr>\n",
       "      <td>1905</td>\n",
       "      <td>C24</td>\n",
       "      <td>1868</td>\n",
       "      <td>Owned</td>\n",
       "      <td>Joint</td>\n",
       "      <td>75</td>\n",
       "      <td>No</td>\n",
       "      <td>22</td>\n",
       "      <td>42316.8</td>\n",
       "      <td>1</td>\n",
       "    </tr>\n",
       "    <tr>\n",
       "      <td>5826</td>\n",
       "      <td>C1</td>\n",
       "      <td>1732</td>\n",
       "      <td>Rented</td>\n",
       "      <td>Joint</td>\n",
       "      <td>73</td>\n",
       "      <td>No</td>\n",
       "      <td>6</td>\n",
       "      <td>42240.0</td>\n",
       "      <td>0</td>\n",
       "    </tr>\n",
       "    <tr>\n",
       "      <td>7080</td>\n",
       "      <td>C2</td>\n",
       "      <td>1717</td>\n",
       "      <td>Owned</td>\n",
       "      <td>Joint</td>\n",
       "      <td>75</td>\n",
       "      <td>No</td>\n",
       "      <td>18</td>\n",
       "      <td>43350.4</td>\n",
       "      <td>0</td>\n",
       "    </tr>\n",
       "    <tr>\n",
       "      <td>7975</td>\n",
       "      <td>C2</td>\n",
       "      <td>2329</td>\n",
       "      <td>Rented</td>\n",
       "      <td>Joint</td>\n",
       "      <td>75</td>\n",
       "      <td>Yes</td>\n",
       "      <td>22</td>\n",
       "      <td>42256.0</td>\n",
       "      <td>0</td>\n",
       "    </tr>\n",
       "    <tr>\n",
       "      <td>14908</td>\n",
       "      <td>C7</td>\n",
       "      <td>5033</td>\n",
       "      <td>Owned</td>\n",
       "      <td>Joint</td>\n",
       "      <td>75</td>\n",
       "      <td>Yes</td>\n",
       "      <td>21</td>\n",
       "      <td>42066.0</td>\n",
       "      <td>0</td>\n",
       "    </tr>\n",
       "    <tr>\n",
       "      <td>44606</td>\n",
       "      <td>C1</td>\n",
       "      <td>1823</td>\n",
       "      <td>Owned</td>\n",
       "      <td>Joint</td>\n",
       "      <td>74</td>\n",
       "      <td>Yes</td>\n",
       "      <td>21</td>\n",
       "      <td>42739.2</td>\n",
       "      <td>0</td>\n",
       "    </tr>\n",
       "    <tr>\n",
       "      <td>46547</td>\n",
       "      <td>C24</td>\n",
       "      <td>1194</td>\n",
       "      <td>Owned</td>\n",
       "      <td>Joint</td>\n",
       "      <td>75</td>\n",
       "      <td>No</td>\n",
       "      <td>19</td>\n",
       "      <td>43046.4</td>\n",
       "      <td>0</td>\n",
       "    </tr>\n",
       "  </tbody>\n",
       "</table>\n",
       "</div>"
      ],
      "text/plain": [
       "      City_Code  Region_Code Accomodation_Type Reco_Insurance_Type  Upper_Age  \\\n",
       "1905        C24         1868             Owned               Joint         75   \n",
       "5826         C1         1732            Rented               Joint         73   \n",
       "7080         C2         1717             Owned               Joint         75   \n",
       "7975         C2         2329            Rented               Joint         75   \n",
       "14908        C7         5033             Owned               Joint         75   \n",
       "44606        C1         1823             Owned               Joint         74   \n",
       "46547       C24         1194             Owned               Joint         75   \n",
       "\n",
       "      Is_Spouse  Reco_Policy_Cat  Reco_Policy_Premium  Response  \n",
       "1905         No               22              42316.8         1  \n",
       "5826         No                6              42240.0         0  \n",
       "7080         No               18              43350.4         0  \n",
       "7975        Yes               22              42256.0         0  \n",
       "14908       Yes               21              42066.0         0  \n",
       "44606       Yes               21              42739.2         0  \n",
       "46547        No               19              43046.4         0  "
      ]
     },
     "execution_count": 206,
     "metadata": {},
     "output_type": "execute_result"
    }
   ],
   "source": [
    "train_df[train_df['Reco_Policy_Premium'] > upper_limit]"
   ]
  },
  {
   "cell_type": "code",
   "execution_count": 207,
   "metadata": {},
   "outputs": [],
   "source": [
    "train_df.drop(train_df[train_df['Reco_Policy_Premium'] > upper_limit].index, axis =0, inplace = True)"
   ]
  },
  {
   "cell_type": "code",
   "execution_count": 208,
   "metadata": {},
   "outputs": [
    {
     "data": {
      "image/png": "[encoded data removed]",
      "text/plain": [
       "<Figure size 432x288 with 1 Axes>"
      ]
     },
     "metadata": {
      "needs_background": "light"
     },
     "output_type": "display_data"
    }
   ],
   "source": [
    "sns.boxplot(train_df[\"Upper_Age\"])\n",
    "plt.show()"
   ]
  },
  {
   "cell_type": "code",
   "execution_count": 209,
   "metadata": {},
   "outputs": [
    {
     "data": {
      "image/png": "[encoded data removed]",
      "text/plain": [
       "<Figure size 432x288 with 1 Axes>"
      ]
     },
     "metadata": {
      "needs_background": "light"
     },
     "output_type": "display_data"
    }
   ],
   "source": [
    "sns.boxplot(train_df[\"Reco_Policy_Cat\"])\n",
    "plt.show()"
   ]
  },
  {
   "cell_type": "code",
   "execution_count": 210,
   "metadata": {},
   "outputs": [
    {
     "data": {
      "image/png": "[encoded data removed]",
      "text/plain": [
       "<Figure size 432x288 with 1 Axes>"
      ]
     },
     "metadata": {
      "needs_background": "light"
     },
     "output_type": "display_data"
    }
   ],
   "source": [
    "sns.boxplot(train_df[\"Region_Code\"])\n",
    "plt.show()"
   ]
  },
  {
   "cell_type": "code",
   "execution_count": 105,
   "metadata": {},
   "outputs": [
    {
     "data": {
      "text/plain": [
       "Index(['City_Code', 'Region_Code', 'Accomodation_Type', 'Reco_Insurance_Type',\n",
       "       'Upper_Age', 'Is_Spouse', 'Reco_Policy_Cat', 'Reco_Policy_Premium',\n",
       "       'Response', 'city_code'],\n",
       "      dtype='object')"
      ]
     },
     "execution_count": 105,
     "metadata": {},
     "output_type": "execute_result"
    }
   ],
   "source": [
    "train_df.columns"
   ]
  },
  {
   "cell_type": "code",
   "execution_count": 106,
   "metadata": {},
   "outputs": [
    {
     "data": {
      "text/plain": [
       "C31      15\n",
       "C36      36\n",
       "C35      56\n",
       "C30      58\n",
       "C34     130\n",
       "C32     160\n",
       "C28     285\n",
       "C33     286\n",
       "C27     295\n",
       "C25     366\n",
       "C29     387\n",
       "C26     499\n",
       "C22     516\n",
       "C24     551\n",
       "C23     587\n",
       "C21     679\n",
       "C14     746\n",
       "C18     797\n",
       "C12     868\n",
       "C19     899\n",
       "C20     926\n",
       "C13    1005\n",
       "C16    1135\n",
       "C11    1147\n",
       "C17    1159\n",
       "C15    1186\n",
       "C5     1364\n",
       "C10    1611\n",
       "C8     1806\n",
       "C7     1909\n",
       "C6     1950\n",
       "C9     2185\n",
       "C4     3671\n",
       "C3     4889\n",
       "C2     7745\n",
       "C1     8971\n",
       "Name: City_Code, dtype: int64"
      ]
     },
     "execution_count": 106,
     "metadata": {},
     "output_type": "execute_result"
    }
   ],
   "source": [
    "train_df[\"City_Code\"].value_counts(ascending = True)"
   ]
  },
  {
   "cell_type": "code",
   "execution_count": 266,
   "metadata": {},
   "outputs": [],
   "source": [
    "Zone_C1 = [\"C1\" , \"C2\" ,\"C3\" , \"C4\" , \"C5\" , \"C6\" , \"C7\" , \"C8\", \"C9\" , \"C10\"]\n",
    "Zone_C2 = [\"C11\" , \"C12\" , \"C13\" , \"C14\", \"C15\" , \"C16\", \"C17\" , \"C18\", \"C19\" , \"C20\"]\n",
    "Zone_C3 = [\"C21\" , \"C22\" , \"C23\" , \"C24\", \"C25\" , \"C26\", \"C27\" , \"C28\", \"C29\" , \"C30\"]\n",
    "\n",
    "def city_code(x):\n",
    "    if(x in Zone_C1):\n",
    "        return (\"Zone C1\")\n",
    "    elif(x in Zone_C2):\n",
    "        return (\"Zone C2\")\n",
    "    elif(x in Zone_C3):\n",
    "        return (\"Zone C3\")\n",
    "    else:\n",
    "        return(\"Zone C4\")\n",
    "train_df[\"city_code\"] = train_df[\"City_Code\"].apply(city_code)"
   ]
  },
  {
   "cell_type": "code",
   "execution_count": 267,
   "metadata": {},
   "outputs": [],
   "source": [
    "test_df[\"city_code\"] = test_df[\"City_Code\"].apply(city_code)"
   ]
  },
  {
   "cell_type": "code",
   "execution_count": 268,
   "metadata": {},
   "outputs": [
    {
     "data": {
      "text/plain": [
       "Zone C1    36101\n",
       "Zone C2     9868\n",
       "Zone C3     4223\n",
       "Zone C4      683\n",
       "Name: city_code, dtype: int64"
      ]
     },
     "execution_count": 268,
     "metadata": {},
     "output_type": "execute_result"
    }
   ],
   "source": [
    "train_df[\"city_code\"].value_counts()"
   ]
  },
  {
   "cell_type": "code",
   "execution_count": 269,
   "metadata": {},
   "outputs": [
    {
     "data": {
      "text/plain": [
       "Owned     27946\n",
       "Rented    22929\n",
       "Name: Accomodation_Type, dtype: int64"
      ]
     },
     "execution_count": 269,
     "metadata": {},
     "output_type": "execute_result"
    }
   ],
   "source": [
    "train_df[\"Accomodation_Type\"].value_counts()"
   ]
  },
  {
   "cell_type": "code",
   "execution_count": 270,
   "metadata": {},
   "outputs": [],
   "source": [
    "from sklearn.preprocessing import LabelEncoder\n",
    "lb = LabelEncoder()\n",
    "train_df[\"Accomodation_Type\"] = lb.fit_transform(train_df[\"Accomodation_Type\"])\n",
    "test_df[\"Accomodation_Type\"] = lb.fit_transform(test_df[\"Accomodation_Type\"])"
   ]
  },
  {
   "cell_type": "code",
   "execution_count": 271,
   "metadata": {},
   "outputs": [],
   "source": [
    "train_df[\"Reco_Insurance_Type\"] = lb.fit_transform(train_df[\"Reco_Insurance_Type\"])\n",
    "test_df[\"Reco_Insurance_Type\"] = lb.fit_transform(test_df[\"Reco_Insurance_Type\"])"
   ]
  },
  {
   "cell_type": "code",
   "execution_count": 272,
   "metadata": {},
   "outputs": [],
   "source": [
    "train_df[\"Is_Spouse\"] = lb.fit_transform(train_df[\"Is_Spouse\"])\n",
    "test_df[\"Is_Spouse\"] = lb.fit_transform(test_df[\"Is_Spouse\"])"
   ]
  },
  {
   "cell_type": "code",
   "execution_count": 273,
   "metadata": {},
   "outputs": [],
   "source": [
    "train_df[\"city_code\"] = lb.fit_transform(train_df[\"city_code\"])\n",
    "test_df[\"city_code\"] = lb.fit_transform(test_df[\"city_code\"])"
   ]
  },
  {
   "cell_type": "code",
   "execution_count": 274,
   "metadata": {},
   "outputs": [],
   "source": [
    "Low_Prem = [1, 2 ,3 , 4 , 5 , 6 , 7 , 8, 9 , 10]\n",
    "Med_Prem = [11 , 12 , 13 , 14, 15 , 16, 17 ]\n",
    "High_Prem = [18, 19,20, 21,22]\n",
    "\n",
    "def policy_cat(x):\n",
    "    if(x in Low_Prem):\n",
    "        return (\"Low_Prem\")\n",
    "    elif(x in Med_Prem):\n",
    "        return (\"Med_Prem\")\n",
    "    else:\n",
    "        return(\"High_Prem\")\n",
    "train_df[\"Policy_cat\"] = train_df[\"Reco_Policy_Cat\"].apply(policy_cat)\n",
    "test_df[\"Policy_cat\"] = test_df[\"Reco_Policy_Cat\"].apply(policy_cat)"
   ]
  },
  {
   "cell_type": "code",
   "execution_count": 275,
   "metadata": {},
   "outputs": [],
   "source": [
    "train_df[\"Policy_cat\"] = lb.fit_transform(train_df[\"Policy_cat\"])\n",
    "test_df[\"Policy_cat\"] = lb.fit_transform(test_df[\"Policy_cat\"])"
   ]
  },
  {
   "cell_type": "code",
   "execution_count": 276,
   "metadata": {},
   "outputs": [],
   "source": [
    "from sklearn.preprocessing import MinMaxScaler\n",
    "mms = MinMaxScaler()"
   ]
  },
  {
   "cell_type": "code",
   "execution_count": 277,
   "metadata": {},
   "outputs": [],
   "source": [
    "train_df[[\"Upper_Age\", \"Reco_Policy_Premium\", \"Region_Code\"]] = mms.fit_transform(train_df[[\"Upper_Age\", \"Reco_Policy_Premium\", \"Region_Code\"]])"
   ]
  },
  {
   "cell_type": "code",
   "execution_count": 368,
   "metadata": {},
   "outputs": [],
   "source": [
    "test_df[[\"Upper_Age\", \"Reco_Policy_Premium\", \"Region_Code\"]] = mms.fit_transform(test_df[[\"Upper_Age\", \"Reco_Policy_Premium\", \"Region_Code\"]])"
   ]
  },
  {
   "cell_type": "code",
   "execution_count": null,
   "metadata": {},
   "outputs": [],
   "source": []
  },
  {
   "cell_type": "code",
   "execution_count": 278,
   "metadata": {},
   "outputs": [
    {
     "data": {
      "text/html": [
       "<div>\n",
       "<style scoped>\n",
       "    .dataframe tbody tr th:only-of-type {\n",
       "        vertical-align: middle;\n",
       "    }\n",
       "\n",
       "    .dataframe tbody tr th {\n",
       "        vertical-align: top;\n",
       "    }\n",
       "\n",
       "    .dataframe thead th {\n",
       "        text-align: right;\n",
       "    }\n",
       "</style>\n",
       "<table border=\"1\" class=\"dataframe\">\n",
       "  <thead>\n",
       "    <tr style=\"text-align: right;\">\n",
       "      <th></th>\n",
       "      <th>City_Code</th>\n",
       "      <th>Region_Code</th>\n",
       "      <th>Accomodation_Type</th>\n",
       "      <th>Reco_Insurance_Type</th>\n",
       "      <th>Upper_Age</th>\n",
       "      <th>Is_Spouse</th>\n",
       "      <th>Reco_Policy_Cat</th>\n",
       "      <th>Reco_Policy_Premium</th>\n",
       "      <th>Response</th>\n",
       "      <th>city_code</th>\n",
       "      <th>Policy_cat</th>\n",
       "    </tr>\n",
       "  </thead>\n",
       "  <tbody>\n",
       "    <tr>\n",
       "      <td>0</td>\n",
       "      <td>C3</td>\n",
       "      <td>0.518650</td>\n",
       "      <td>1</td>\n",
       "      <td>0</td>\n",
       "      <td>0.315789</td>\n",
       "      <td>0</td>\n",
       "      <td>22</td>\n",
       "      <td>0.235746</td>\n",
       "      <td>0</td>\n",
       "      <td>0</td>\n",
       "      <td>0</td>\n",
       "    </tr>\n",
       "    <tr>\n",
       "      <td>1</td>\n",
       "      <td>C5</td>\n",
       "      <td>0.180203</td>\n",
       "      <td>0</td>\n",
       "      <td>1</td>\n",
       "      <td>1.000000</td>\n",
       "      <td>0</td>\n",
       "      <td>22</td>\n",
       "      <td>0.711930</td>\n",
       "      <td>0</td>\n",
       "      <td>0</td>\n",
       "      <td>0</td>\n",
       "    </tr>\n",
       "    <tr>\n",
       "      <td>2</td>\n",
       "      <td>C5</td>\n",
       "      <td>0.602454</td>\n",
       "      <td>0</td>\n",
       "      <td>0</td>\n",
       "      <td>0.245614</td>\n",
       "      <td>0</td>\n",
       "      <td>19</td>\n",
       "      <td>0.130382</td>\n",
       "      <td>1</td>\n",
       "      <td>0</td>\n",
       "      <td>0</td>\n",
       "    </tr>\n",
       "    <tr>\n",
       "      <td>3</td>\n",
       "      <td>C24</td>\n",
       "      <td>0.706766</td>\n",
       "      <td>0</td>\n",
       "      <td>1</td>\n",
       "      <td>0.596491</td>\n",
       "      <td>0</td>\n",
       "      <td>19</td>\n",
       "      <td>0.390893</td>\n",
       "      <td>0</td>\n",
       "      <td>2</td>\n",
       "      <td>0</td>\n",
       "    </tr>\n",
       "    <tr>\n",
       "      <td>4</td>\n",
       "      <td>C8</td>\n",
       "      <td>0.353464</td>\n",
       "      <td>1</td>\n",
       "      <td>0</td>\n",
       "      <td>0.456140</td>\n",
       "      <td>0</td>\n",
       "      <td>16</td>\n",
       "      <td>0.204878</td>\n",
       "      <td>0</td>\n",
       "      <td>0</td>\n",
       "      <td>2</td>\n",
       "    </tr>\n",
       "  </tbody>\n",
       "</table>\n",
       "</div>"
      ],
      "text/plain": [
       "  City_Code  Region_Code  Accomodation_Type  Reco_Insurance_Type  Upper_Age  \\\n",
       "0        C3     0.518650                  1                    0   0.315789   \n",
       "1        C5     0.180203                  0                    1   1.000000   \n",
       "2        C5     0.602454                  0                    0   0.245614   \n",
       "3       C24     0.706766                  0                    1   0.596491   \n",
       "4        C8     0.353464                  1                    0   0.456140   \n",
       "\n",
       "   Is_Spouse  Reco_Policy_Cat  Reco_Policy_Premium  Response  city_code  \\\n",
       "0          0               22             0.235746         0          0   \n",
       "1          0               22             0.711930         0          0   \n",
       "2          0               19             0.130382         1          0   \n",
       "3          0               19             0.390893         0          2   \n",
       "4          0               16             0.204878         0          0   \n",
       "\n",
       "   Policy_cat  \n",
       "0           0  \n",
       "1           0  \n",
       "2           0  \n",
       "3           0  \n",
       "4           2  "
      ]
     },
     "execution_count": 278,
     "metadata": {},
     "output_type": "execute_result"
    }
   ],
   "source": [
    "train_df.head()"
   ]
  },
  {
   "cell_type": "code",
   "execution_count": 369,
   "metadata": {},
   "outputs": [
    {
     "data": {
      "text/html": [
       "<div>\n",
       "<style scoped>\n",
       "    .dataframe tbody tr th:only-of-type {\n",
       "        vertical-align: middle;\n",
       "    }\n",
       "\n",
       "    .dataframe tbody tr th {\n",
       "        vertical-align: top;\n",
       "    }\n",
       "\n",
       "    .dataframe thead th {\n",
       "        text-align: right;\n",
       "    }\n",
       "</style>\n",
       "<table border=\"1\" class=\"dataframe\">\n",
       "  <thead>\n",
       "    <tr style=\"text-align: right;\">\n",
       "      <th></th>\n",
       "      <th>City_Code</th>\n",
       "      <th>Region_Code</th>\n",
       "      <th>Accomodation_Type</th>\n",
       "      <th>Reco_Insurance_Type</th>\n",
       "      <th>Upper_Age</th>\n",
       "      <th>Is_Spouse</th>\n",
       "      <th>Reco_Policy_Cat</th>\n",
       "      <th>Reco_Policy_Premium</th>\n",
       "      <th>city_code</th>\n",
       "      <th>Policy_cat</th>\n",
       "    </tr>\n",
       "  </thead>\n",
       "  <tbody>\n",
       "    <tr>\n",
       "      <td>0</td>\n",
       "      <td>C1</td>\n",
       "      <td>0.025065</td>\n",
       "      <td>0</td>\n",
       "      <td>0</td>\n",
       "      <td>0.210526</td>\n",
       "      <td>0</td>\n",
       "      <td>5</td>\n",
       "      <td>0.235009</td>\n",
       "      <td>0</td>\n",
       "      <td>1</td>\n",
       "    </tr>\n",
       "    <tr>\n",
       "      <td>1</td>\n",
       "      <td>C4</td>\n",
       "      <td>0.000970</td>\n",
       "      <td>0</td>\n",
       "      <td>1</td>\n",
       "      <td>0.894737</td>\n",
       "      <td>1</td>\n",
       "      <td>18</td>\n",
       "      <td>0.722007</td>\n",
       "      <td>0</td>\n",
       "      <td>0</td>\n",
       "    </tr>\n",
       "    <tr>\n",
       "      <td>2</td>\n",
       "      <td>C1</td>\n",
       "      <td>0.091041</td>\n",
       "      <td>1</td>\n",
       "      <td>0</td>\n",
       "      <td>0.175439</td>\n",
       "      <td>0</td>\n",
       "      <td>17</td>\n",
       "      <td>0.170286</td>\n",
       "      <td>0</td>\n",
       "      <td>2</td>\n",
       "    </tr>\n",
       "    <tr>\n",
       "      <td>3</td>\n",
       "      <td>C3</td>\n",
       "      <td>0.190168</td>\n",
       "      <td>1</td>\n",
       "      <td>0</td>\n",
       "      <td>0.087719</td>\n",
       "      <td>0</td>\n",
       "      <td>18</td>\n",
       "      <td>0.166587</td>\n",
       "      <td>0</td>\n",
       "      <td>0</td>\n",
       "    </tr>\n",
       "    <tr>\n",
       "      <td>4</td>\n",
       "      <td>C1</td>\n",
       "      <td>0.153622</td>\n",
       "      <td>0</td>\n",
       "      <td>0</td>\n",
       "      <td>1.000000</td>\n",
       "      <td>0</td>\n",
       "      <td>5</td>\n",
       "      <td>0.489669</td>\n",
       "      <td>0</td>\n",
       "      <td>1</td>\n",
       "    </tr>\n",
       "  </tbody>\n",
       "</table>\n",
       "</div>"
      ],
      "text/plain": [
       "  City_Code  Region_Code  Accomodation_Type  Reco_Insurance_Type  Upper_Age  \\\n",
       "0        C1     0.025065                  0                    0   0.210526   \n",
       "1        C4     0.000970                  0                    1   0.894737   \n",
       "2        C1     0.091041                  1                    0   0.175439   \n",
       "3        C3     0.190168                  1                    0   0.087719   \n",
       "4        C1     0.153622                  0                    0   1.000000   \n",
       "\n",
       "   Is_Spouse  Reco_Policy_Cat  Reco_Policy_Premium  city_code  Policy_cat  \n",
       "0          0                5             0.235009          0           1  \n",
       "1          1               18             0.722007          0           0  \n",
       "2          0               17             0.170286          0           2  \n",
       "3          0               18             0.166587          0           0  \n",
       "4          0                5             0.489669          0           1  "
      ]
     },
     "execution_count": 369,
     "metadata": {},
     "output_type": "execute_result"
    }
   ],
   "source": [
    "test_df.head()"
   ]
  },
  {
   "cell_type": "code",
   "execution_count": null,
   "metadata": {},
   "outputs": [],
   "source": []
  },
  {
   "cell_type": "code",
   "execution_count": 438,
   "metadata": {},
   "outputs": [],
   "source": [
    "X = train_df.drop([\"City_Code\", \"Reco_Policy_Cat\",\"Policy_cat\", \"Response\"], inplace = False, axis =1)\n",
    "y = train_df[\"Response\"]"
   ]
  },
  {
   "cell_type": "code",
   "execution_count": 439,
   "metadata": {},
   "outputs": [],
   "source": [
    "test_data = test_df.drop([\"City_Code\", \"Reco_Policy_Cat\", \"Policy_cat\"], inplace = False, axis =1)"
   ]
  },
  {
   "cell_type": "code",
   "execution_count": 440,
   "metadata": {},
   "outputs": [],
   "source": [
    "from sklearn.model_selection import train_test_split\n",
    "X_train, X_test, y_train, y_test = train_test_split(X, y, test_size = 0.20)"
   ]
  },
  {
   "cell_type": "code",
   "execution_count": 441,
   "metadata": {},
   "outputs": [],
   "source": [
    "#Regressions\n",
    "from sklearn.tree import DecisionTreeRegressor\n",
    "from sklearn.ensemble import ExtraTreesRegressor\n",
    "from sklearn.ensemble import RandomForestClassifier\n",
    "import xgboost\n",
    "from sklearn.ensemble import VotingRegressor\n",
    "from sklearn.ensemble import AdaBoostClassifier\n",
    "from sklearn.ensemble import GradientBoostingRegressor\n",
    "from sklearn.neighbors import KNeighborsRegressor\n",
    "from sklearn.linear_model import ElasticNet\n",
    "from sklearn.linear_model import LogisticRegression\n",
    "from catboost import CatBoostClassifier\n",
    "from lightgbm import LGBMClassifier\n",
    "import scikitplot as skplt\n",
    "#Evalution Metrix\n",
    "from sklearn.metrics import r2_score\n",
    "from sklearn.model_selection import cross_validate\n",
    "from sklearn.metrics import precision_score, recall_score, f1_score, accuracy_score,classification_report"
   ]
  },
  {
   "cell_type": "code",
   "execution_count": 442,
   "metadata": {},
   "outputs": [],
   "source": [
    "from imblearn.over_sampling import SMOTE\n",
    "smote = SMOTE()"
   ]
  },
  {
   "cell_type": "code",
   "execution_count": 443,
   "metadata": {},
   "outputs": [],
   "source": [
    "X_train_smote, y_train_smote = smote.fit_resample(X_train, y_train)"
   ]
  },
  {
   "cell_type": "code",
   "execution_count": 444,
   "metadata": {},
   "outputs": [
    {
     "name": "stdout",
     "output_type": "stream",
     "text": [
      "Before SMOTE: Counter({0: 30959, 1: 9741})\n",
      "After SMOTE: Counter({0: 30959, 1: 30959})\n"
     ]
    }
   ],
   "source": [
    "from collections import Counter\n",
    "print(\"Before SMOTE:\", Counter(y_train))\n",
    "print(\"After SMOTE:\", Counter(y_train_smote))"
   ]
  },
  {
   "cell_type": "code",
   "execution_count": 445,
   "metadata": {},
   "outputs": [
    {
     "name": "stdout",
     "output_type": "stream",
     "text": [
      "Precision:  0.236381644106966\n",
      "Recall Score:  0.5804620997162545\n",
      "F1 score:  0.33595307917888556\n"
     ]
    }
   ],
   "source": [
    "print(\"Precision: \", precision_score(y_test, y_pred.round()))\n",
    "print(\"Recall Score: \", recall_score(y_test ,y_pred.round()))\n",
    "print(\"F1 score: \", f1_score( y_test, y_pred.round()))"
   ]
  },
  {
   "cell_type": "code",
   "execution_count": 399,
   "metadata": {},
   "outputs": [
    {
     "data": {
      "text/plain": [
       "<AxesSubplot:title={'center':'Confusion Matrix'}, xlabel='Predicted label', ylabel='True label'>"
      ]
     },
     "execution_count": 399,
     "metadata": {},
     "output_type": "execute_result"
    },
    {
     "data": {
      "image/png": "[encoded data removed]",
      "text/plain": [
       "<Figure size 432x288 with 2 Axes>"
      ]
     },
     "metadata": {
      "needs_background": "light"
     },
     "output_type": "display_data"
    }
   ],
   "source": [
    "skplt.metrics.plot_confusion_matrix(y_pred.round(), y_test)"
   ]
  },
  {
   "cell_type": "code",
   "execution_count": null,
   "metadata": {},
   "outputs": [],
   "source": []
  },
  {
   "cell_type": "code",
   "execution_count": 446,
   "metadata": {},
   "outputs": [],
   "source": [
    "et = ExtraTreesRegressor(n_jobs=-1,n_estimators=500)\n",
    "rf = RandomForestClassifier(max_depth=8,bootstrap=True,n_jobs=-1,n_estimators=200,max_features='sqrt')\n",
    "xgb = xgboost.XGBRegressor(n_jobs=-1,colsample_bytree=0.7, learning_rate=0.07,\n",
    "                           max_depth=5, min_child_weight=4, n_estimators=500,nthread=4, subsample=0.7)\n",
    "gbr = GradientBoostingRegressor(random_state=0)\n",
    "xgb = xgboost.XGBRegressor(n_jobs=-1)\n",
    "et = ExtraTreesRegressor(n_jobs=-1)\n",
    "ds = DecisionTreeRegressor()\n",
    "catboost_reg = CatBoostClassifier()"
   ]
  },
  {
   "cell_type": "code",
   "execution_count": 447,
   "metadata": {},
   "outputs": [],
   "source": [
    "pipelines = {\n",
    "\"LinearRegression\": LinearRegression(),\n",
    "\"AdaBoostRegressor\":AdaBoostClassifier(random_state=0, n_estimators=100),\n",
    "\"ElasticNet\":ElasticNet(random_state=0),\n",
    "\"GradientBoostingRegressor\":GradientBoostingRegressor(random_state=0),\n",
    "\"DecisionTreeRegressor\": DecisionTreeRegressor(),\n",
    "\"ExtraTreesRegressor\": ExtraTreesRegressor(n_jobs=-1),\n",
    "\"RandomForestRegressor\": RandomForestClassifier(n_jobs=-1),\n",
    "\"XGBRegressor\":xgboost.XGBRegressor(n_jobs=-1),\n",
    "\"LGBM\": LGBMClassifier(boosting_type='gbdt',num_leaves=31,max_depth=-1,learning_rate=0.1,n_estimators=150,subsample_for_bin=200000),\n",
    "\"CatBoostRegressor\":CatBoostClassifier(iterations=900, depth=5, learning_rate=0.05,loss_function = 'Logloss')\n",
    "}"
   ]
  },
  {
   "cell_type": "code",
   "execution_count": 448,
   "metadata": {},
   "outputs": [
    {
     "name": "stdout",
     "output_type": "stream",
     "text": [
      "--------------------------------------------------------------\n",
      "Model: LinearRegression\n",
      "-----Training Data Evaluation-----\n",
      "Accuracy Score: 0.5645208845208846\n",
      "--------------------------------------------------------------\n",
      "Model: AdaBoostRegressor\n",
      "-----Training Data Evaluation-----\n",
      "Accuracy Score: 0.4696805896805897\n",
      "--------------------------------------------------------------\n",
      "Model: ElasticNet\n",
      "-----Training Data Evaluation-----\n",
      "Accuracy Score: 0.7575429975429976\n",
      "--------------------------------------------------------------\n",
      "Model: GradientBoostingRegressor\n",
      "-----Training Data Evaluation-----\n",
      "Accuracy Score: 0.5602948402948403\n",
      "--------------------------------------------------------------\n",
      "Model: DecisionTreeRegressor\n",
      "-----Training Data Evaluation-----\n",
      "Accuracy Score: 0.6178869778869779\n",
      "--------------------------------------------------------------\n",
      "Model: ExtraTreesRegressor\n",
      "-----Training Data Evaluation-----\n",
      "Accuracy Score: 0.6615233415233415\n",
      "--------------------------------------------------------------\n",
      "Model: RandomForestRegressor\n",
      "-----Training Data Evaluation-----\n",
      "Accuracy Score: 0.6437346437346437\n",
      "--------------------------------------------------------------\n",
      "Model: XGBRegressor\n",
      "-----Training Data Evaluation-----\n",
      "Accuracy Score: 0.7302211302211302\n",
      "--------------------------------------------------------------\n",
      "Model: LGBM\n",
      "-----Training Data Evaluation-----\n",
      "Accuracy Score: 0.7390663390663391\n",
      "--------------------------------------------------------------\n",
      "Model: CatBoostRegressor\n",
      "-----Training Data Evaluation-----\n",
      "Accuracy Score: 0.7478132678132678\n"
     ]
    }
   ],
   "source": [
    "dic =  {\"Model\":[],\"R2_Train\":[],\"RMSE_Train\":[]}\n",
    "for name, model in pipelines.items():\n",
    "    if name == 'CatBoostRegressor':\n",
    "        model.fit(X_train_smote, y_train_smote,verbose=False)\n",
    "    else:\n",
    "        model.fit(X_train_smote, y_train_smote)\n",
    "    #y_test_pre = model.predict(test_df)\n",
    "    predict_test  = model.predict(X_test)\n",
    "    print(\"--------------------------------------------------------------\")\n",
    "    print(\"Model:\", name)\n",
    "    print(\"-----Training Data Evaluation-----\")\n",
    "    print(\"Accuracy Score:\", accuracy_score(y_test, predict_test.round()))\n",
    "    dic[\"Model\"].append(name)"
   ]
  },
  {
   "cell_type": "code",
   "execution_count": 450,
   "metadata": {},
   "outputs": [
    {
     "name": "stdout",
     "output_type": "stream",
     "text": [
      "0:\tlearn: 0.6909869\ttotal: 21.9ms\tremaining: 19.6s\n",
      "1:\tlearn: 0.6898011\ttotal: 49.8ms\tremaining: 22.4s\n",
      "2:\tlearn: 0.6880266\ttotal: 74ms\tremaining: 22.1s\n",
      "3:\tlearn: 0.6871894\ttotal: 95.7ms\tremaining: 21.4s\n",
      "4:\tlearn: 0.6850319\ttotal: 121ms\tremaining: 21.7s\n",
      "5:\tlearn: 0.6840795\ttotal: 144ms\tremaining: 21.5s\n",
      "6:\tlearn: 0.6830299\ttotal: 166ms\tremaining: 21.1s\n",
      "7:\tlearn: 0.6814587\ttotal: 188ms\tremaining: 21s\n",
      "8:\tlearn: 0.6802249\ttotal: 211ms\tremaining: 20.9s\n",
      "9:\tlearn: 0.6787866\ttotal: 233ms\tremaining: 20.7s\n",
      "10:\tlearn: 0.6771743\ttotal: 257ms\tremaining: 20.8s\n",
      "11:\tlearn: 0.6763495\ttotal: 280ms\tremaining: 20.7s\n",
      "12:\tlearn: 0.6760279\ttotal: 305ms\tremaining: 20.8s\n",
      "13:\tlearn: 0.6746108\ttotal: 330ms\tremaining: 20.9s\n",
      "14:\tlearn: 0.6740670\ttotal: 353ms\tremaining: 20.8s\n",
      "15:\tlearn: 0.6731682\ttotal: 375ms\tremaining: 20.7s\n",
      "16:\tlearn: 0.6726189\ttotal: 398ms\tremaining: 20.6s\n",
      "17:\tlearn: 0.6719961\ttotal: 422ms\tremaining: 20.7s\n",
      "18:\tlearn: 0.6713726\ttotal: 444ms\tremaining: 20.6s\n",
      "19:\tlearn: 0.6709273\ttotal: 467ms\tremaining: 20.5s\n",
      "20:\tlearn: 0.6706349\ttotal: 491ms\tremaining: 20.6s\n",
      "21:\tlearn: 0.6698383\ttotal: 513ms\tremaining: 20.5s\n",
      "22:\tlearn: 0.6697380\ttotal: 536ms\tremaining: 20.4s\n",
      "23:\tlearn: 0.6687432\ttotal: 564ms\tremaining: 20.6s\n",
      "24:\tlearn: 0.6680204\ttotal: 589ms\tremaining: 20.6s\n",
      "25:\tlearn: 0.6668209\ttotal: 613ms\tremaining: 20.6s\n",
      "26:\tlearn: 0.6665244\ttotal: 635ms\tremaining: 20.5s\n",
      "27:\tlearn: 0.6654257\ttotal: 660ms\tremaining: 20.6s\n",
      "28:\tlearn: 0.6648405\ttotal: 682ms\tremaining: 20.5s\n",
      "29:\tlearn: 0.6642301\ttotal: 713ms\tremaining: 20.7s\n",
      "30:\tlearn: 0.6633224\ttotal: 735ms\tremaining: 20.6s\n",
      "31:\tlearn: 0.6621181\ttotal: 757ms\tremaining: 20.5s\n",
      "32:\tlearn: 0.6618303\ttotal: 784ms\tremaining: 20.6s\n",
      "33:\tlearn: 0.6607076\ttotal: 807ms\tremaining: 20.6s\n",
      "34:\tlearn: 0.6601813\ttotal: 829ms\tremaining: 20.5s\n",
      "35:\tlearn: 0.6596457\ttotal: 861ms\tremaining: 20.7s\n",
      "36:\tlearn: 0.6584634\ttotal: 886ms\tremaining: 20.7s\n",
      "37:\tlearn: 0.6578569\ttotal: 908ms\tremaining: 20.6s\n",
      "38:\tlearn: 0.6567552\ttotal: 933ms\tremaining: 20.6s\n",
      "39:\tlearn: 0.6563945\ttotal: 970ms\tremaining: 20.9s\n",
      "40:\tlearn: 0.6557842\ttotal: 1s\tremaining: 21s\n",
      "41:\tlearn: 0.6553665\ttotal: 1.03s\tremaining: 21s\n",
      "42:\tlearn: 0.6541208\ttotal: 1.05s\tremaining: 21s\n",
      "43:\tlearn: 0.6536771\ttotal: 1.07s\tremaining: 20.9s\n",
      "44:\tlearn: 0.6526423\ttotal: 1.1s\tremaining: 20.9s\n",
      "45:\tlearn: 0.6514635\ttotal: 1.12s\tremaining: 20.8s\n",
      "46:\tlearn: 0.6513981\ttotal: 1.15s\tremaining: 20.9s\n",
      "47:\tlearn: 0.6512942\ttotal: 1.18s\tremaining: 21s\n",
      "48:\tlearn: 0.6509217\ttotal: 1.21s\tremaining: 20.9s\n",
      "49:\tlearn: 0.6504217\ttotal: 1.23s\tremaining: 20.9s\n",
      "50:\tlearn: 0.6501621\ttotal: 1.25s\tremaining: 20.9s\n",
      "51:\tlearn: 0.6492407\ttotal: 1.28s\tremaining: 20.9s\n",
      "52:\tlearn: 0.6491798\ttotal: 1.31s\tremaining: 21s\n",
      "53:\tlearn: 0.6488764\ttotal: 1.33s\tremaining: 20.9s\n",
      "54:\tlearn: 0.6483712\ttotal: 1.37s\tremaining: 21s\n",
      "55:\tlearn: 0.6474304\ttotal: 1.39s\tremaining: 21s\n",
      "56:\tlearn: 0.6468023\ttotal: 1.41s\tremaining: 20.9s\n",
      "57:\tlearn: 0.6461875\ttotal: 1.44s\tremaining: 20.9s\n",
      "58:\tlearn: 0.6453549\ttotal: 1.47s\tremaining: 20.9s\n",
      "59:\tlearn: 0.6449787\ttotal: 1.49s\tremaining: 20.9s\n",
      "60:\tlearn: 0.6446323\ttotal: 1.53s\tremaining: 21.1s\n",
      "61:\tlearn: 0.6439650\ttotal: 1.56s\tremaining: 21.1s\n",
      "62:\tlearn: 0.6435346\ttotal: 1.58s\tremaining: 21s\n",
      "63:\tlearn: 0.6430700\ttotal: 1.61s\tremaining: 21.1s\n",
      "64:\tlearn: 0.6429949\ttotal: 1.64s\tremaining: 21s\n",
      "65:\tlearn: 0.6421801\ttotal: 1.67s\tremaining: 21.1s\n",
      "66:\tlearn: 0.6416745\ttotal: 1.69s\tremaining: 21s\n",
      "67:\tlearn: 0.6412717\ttotal: 1.72s\tremaining: 21s\n",
      "68:\tlearn: 0.6409213\ttotal: 1.74s\tremaining: 21s\n",
      "69:\tlearn: 0.6399661\ttotal: 1.76s\tremaining: 20.9s\n",
      "70:\tlearn: 0.6396233\ttotal: 1.79s\tremaining: 21s\n",
      "71:\tlearn: 0.6387049\ttotal: 1.82s\tremaining: 20.9s\n",
      "72:\tlearn: 0.6382766\ttotal: 1.84s\tremaining: 20.9s\n",
      "73:\tlearn: 0.6370742\ttotal: 1.87s\tremaining: 20.9s\n",
      "74:\tlearn: 0.6369017\ttotal: 1.89s\tremaining: 20.8s\n",
      "75:\tlearn: 0.6360304\ttotal: 1.92s\tremaining: 20.8s\n",
      "76:\tlearn: 0.6358428\ttotal: 1.95s\tremaining: 20.8s\n",
      "77:\tlearn: 0.6357433\ttotal: 1.97s\tremaining: 20.8s\n",
      "78:\tlearn: 0.6356378\ttotal: 1.99s\tremaining: 20.7s\n",
      "79:\tlearn: 0.6351266\ttotal: 2.02s\tremaining: 20.7s\n",
      "80:\tlearn: 0.6342033\ttotal: 2.04s\tremaining: 20.6s\n",
      "81:\tlearn: 0.6341477\ttotal: 2.07s\tremaining: 20.7s\n",
      "82:\tlearn: 0.6333732\ttotal: 2.09s\tremaining: 20.6s\n",
      "83:\tlearn: 0.6330491\ttotal: 2.13s\tremaining: 20.7s\n",
      "84:\tlearn: 0.6326244\ttotal: 2.15s\tremaining: 20.6s\n",
      "85:\tlearn: 0.6319875\ttotal: 2.17s\tremaining: 20.6s\n",
      "86:\tlearn: 0.6313880\ttotal: 2.2s\tremaining: 20.6s\n",
      "87:\tlearn: 0.6310144\ttotal: 2.23s\tremaining: 20.5s\n",
      "88:\tlearn: 0.6305960\ttotal: 2.25s\tremaining: 20.6s\n",
      "89:\tlearn: 0.6302937\ttotal: 2.29s\tremaining: 20.6s\n",
      "90:\tlearn: 0.6300398\ttotal: 2.31s\tremaining: 20.6s\n",
      "91:\tlearn: 0.6297199\ttotal: 2.34s\tremaining: 20.5s\n",
      "92:\tlearn: 0.6293485\ttotal: 2.36s\tremaining: 20.5s\n",
      "93:\tlearn: 0.6288320\ttotal: 2.39s\tremaining: 20.5s\n",
      "94:\tlearn: 0.6282171\ttotal: 2.42s\tremaining: 20.5s\n",
      "95:\tlearn: 0.6281363\ttotal: 2.44s\tremaining: 20.5s\n",
      "96:\tlearn: 0.6278340\ttotal: 2.47s\tremaining: 20.4s\n",
      "97:\tlearn: 0.6272886\ttotal: 2.5s\tremaining: 20.4s\n",
      "98:\tlearn: 0.6269812\ttotal: 2.52s\tremaining: 20.4s\n",
      "99:\tlearn: 0.6269379\ttotal: 2.55s\tremaining: 20.4s\n",
      "100:\tlearn: 0.6262427\ttotal: 2.58s\tremaining: 20.4s\n",
      "101:\tlearn: 0.6259554\ttotal: 2.6s\tremaining: 20.3s\n",
      "102:\tlearn: 0.6251239\ttotal: 2.62s\tremaining: 20.3s\n",
      "103:\tlearn: 0.6245585\ttotal: 2.64s\tremaining: 20.2s\n",
      "104:\tlearn: 0.6245249\ttotal: 2.67s\tremaining: 20.2s\n",
      "105:\tlearn: 0.6235720\ttotal: 2.69s\tremaining: 20.1s\n",
      "106:\tlearn: 0.6229859\ttotal: 2.72s\tremaining: 20.1s\n",
      "107:\tlearn: 0.6225700\ttotal: 2.74s\tremaining: 20.1s\n",
      "108:\tlearn: 0.6213066\ttotal: 2.77s\tremaining: 20.1s\n",
      "109:\tlearn: 0.6205622\ttotal: 2.79s\tremaining: 20s\n",
      "110:\tlearn: 0.6201304\ttotal: 2.82s\tremaining: 20s\n",
      "111:\tlearn: 0.6200993\ttotal: 2.85s\tremaining: 20.1s\n",
      "112:\tlearn: 0.6195787\ttotal: 2.88s\tremaining: 20s\n",
      "113:\tlearn: 0.6192081\ttotal: 2.91s\tremaining: 20.1s\n",
      "114:\tlearn: 0.6187942\ttotal: 2.93s\tremaining: 20s\n",
      "115:\tlearn: 0.6183464\ttotal: 2.96s\tremaining: 20s\n",
      "116:\tlearn: 0.6179007\ttotal: 2.98s\tremaining: 20s\n",
      "117:\tlearn: 0.6178792\ttotal: 3s\tremaining: 19.9s\n",
      "118:\tlearn: 0.6175576\ttotal: 3.03s\tremaining: 19.9s\n",
      "119:\tlearn: 0.6169274\ttotal: 3.06s\tremaining: 19.9s\n",
      "120:\tlearn: 0.6168701\ttotal: 3.08s\tremaining: 19.8s\n",
      "121:\tlearn: 0.6164599\ttotal: 3.1s\tremaining: 19.8s\n",
      "122:\tlearn: 0.6154846\ttotal: 3.13s\tremaining: 19.8s\n",
      "123:\tlearn: 0.6149557\ttotal: 3.15s\tremaining: 19.7s\n",
      "124:\tlearn: 0.6137248\ttotal: 3.18s\tremaining: 19.7s\n",
      "125:\tlearn: 0.6129918\ttotal: 3.2s\tremaining: 19.7s\n",
      "126:\tlearn: 0.6120285\ttotal: 3.22s\tremaining: 19.6s\n",
      "127:\tlearn: 0.6112723\ttotal: 3.25s\tremaining: 19.6s\n",
      "128:\tlearn: 0.6108347\ttotal: 3.28s\tremaining: 19.6s\n",
      "129:\tlearn: 0.6104728\ttotal: 3.31s\tremaining: 19.6s\n",
      "130:\tlearn: 0.6096168\ttotal: 3.33s\tremaining: 19.5s\n",
      "131:\tlearn: 0.6092556\ttotal: 3.36s\tremaining: 19.6s\n",
      "132:\tlearn: 0.6085671\ttotal: 3.39s\tremaining: 19.5s\n",
      "133:\tlearn: 0.6085127\ttotal: 3.41s\tremaining: 19.5s\n",
      "134:\tlearn: 0.6084459\ttotal: 3.45s\tremaining: 19.5s\n",
      "135:\tlearn: 0.6084034\ttotal: 3.48s\tremaining: 19.6s\n",
      "136:\tlearn: 0.6080410\ttotal: 3.52s\tremaining: 19.6s\n",
      "137:\tlearn: 0.6079839\ttotal: 3.54s\tremaining: 19.5s\n",
      "138:\tlearn: 0.6074734\ttotal: 3.58s\tremaining: 19.6s\n",
      "139:\tlearn: 0.6065070\ttotal: 3.62s\tremaining: 19.6s\n",
      "140:\tlearn: 0.6061157\ttotal: 3.66s\tremaining: 19.7s\n",
      "141:\tlearn: 0.6058127\ttotal: 3.71s\tremaining: 19.8s\n",
      "142:\tlearn: 0.6055137\ttotal: 3.75s\tremaining: 19.9s\n",
      "143:\tlearn: 0.6053233\ttotal: 3.79s\tremaining: 19.9s\n",
      "144:\tlearn: 0.6049643\ttotal: 3.83s\tremaining: 19.9s\n",
      "145:\tlearn: 0.6045760\ttotal: 3.88s\tremaining: 20.1s\n",
      "146:\tlearn: 0.6040661\ttotal: 3.93s\tremaining: 20.1s\n",
      "147:\tlearn: 0.6034527\ttotal: 3.97s\tremaining: 20.2s\n",
      "148:\tlearn: 0.6031406\ttotal: 4.01s\tremaining: 20.2s\n",
      "149:\tlearn: 0.6025622\ttotal: 4.04s\tremaining: 20.2s\n",
      "150:\tlearn: 0.6020947\ttotal: 4.07s\tremaining: 20.2s\n",
      "151:\tlearn: 0.6019428\ttotal: 4.1s\tremaining: 20.2s\n",
      "152:\tlearn: 0.6017395\ttotal: 4.13s\tremaining: 20.2s\n",
      "153:\tlearn: 0.6005767\ttotal: 4.16s\tremaining: 20.2s\n",
      "154:\tlearn: 0.6001123\ttotal: 4.19s\tremaining: 20.1s\n",
      "155:\tlearn: 0.6000601\ttotal: 4.22s\tremaining: 20.1s\n",
      "156:\tlearn: 0.5990384\ttotal: 4.24s\tremaining: 20.1s\n",
      "157:\tlearn: 0.5989894\ttotal: 4.27s\tremaining: 20s\n",
      "158:\tlearn: 0.5989271\ttotal: 4.29s\tremaining: 20s\n",
      "159:\tlearn: 0.5982188\ttotal: 4.32s\tremaining: 20s\n",
      "160:\tlearn: 0.5981983\ttotal: 4.34s\tremaining: 19.9s\n",
      "161:\tlearn: 0.5976537\ttotal: 4.37s\tremaining: 19.9s\n",
      "162:\tlearn: 0.5968487\ttotal: 4.39s\tremaining: 19.8s\n",
      "163:\tlearn: 0.5967137\ttotal: 4.41s\tremaining: 19.8s\n",
      "164:\tlearn: 0.5963685\ttotal: 4.43s\tremaining: 19.8s\n"
     ]
    },
    {
     "name": "stdout",
     "output_type": "stream",
     "text": [
      "165:\tlearn: 0.5962721\ttotal: 4.46s\tremaining: 19.7s\n",
      "166:\tlearn: 0.5960719\ttotal: 4.5s\tremaining: 19.7s\n",
      "167:\tlearn: 0.5958357\ttotal: 4.52s\tremaining: 19.7s\n",
      "168:\tlearn: 0.5958037\ttotal: 4.55s\tremaining: 19.7s\n",
      "169:\tlearn: 0.5955025\ttotal: 4.57s\tremaining: 19.6s\n",
      "170:\tlearn: 0.5948791\ttotal: 4.59s\tremaining: 19.6s\n",
      "171:\tlearn: 0.5946184\ttotal: 4.61s\tremaining: 19.5s\n",
      "172:\tlearn: 0.5943132\ttotal: 4.63s\tremaining: 19.5s\n",
      "173:\tlearn: 0.5933791\ttotal: 4.66s\tremaining: 19.4s\n",
      "174:\tlearn: 0.5931480\ttotal: 4.68s\tremaining: 19.4s\n",
      "175:\tlearn: 0.5930100\ttotal: 4.71s\tremaining: 19.4s\n",
      "176:\tlearn: 0.5929433\ttotal: 4.73s\tremaining: 19.3s\n",
      "177:\tlearn: 0.5925753\ttotal: 4.75s\tremaining: 19.3s\n",
      "178:\tlearn: 0.5923890\ttotal: 4.77s\tremaining: 19.2s\n",
      "179:\tlearn: 0.5920188\ttotal: 4.79s\tremaining: 19.2s\n",
      "180:\tlearn: 0.5919429\ttotal: 4.81s\tremaining: 19.1s\n",
      "181:\tlearn: 0.5910050\ttotal: 4.83s\tremaining: 19.1s\n",
      "182:\tlearn: 0.5907007\ttotal: 4.87s\tremaining: 19.1s\n",
      "183:\tlearn: 0.5904685\ttotal: 4.89s\tremaining: 19s\n",
      "184:\tlearn: 0.5899505\ttotal: 4.91s\tremaining: 19s\n",
      "185:\tlearn: 0.5892934\ttotal: 4.93s\tremaining: 18.9s\n",
      "186:\tlearn: 0.5890282\ttotal: 4.95s\tremaining: 18.9s\n",
      "187:\tlearn: 0.5889461\ttotal: 4.97s\tremaining: 18.8s\n",
      "188:\tlearn: 0.5887390\ttotal: 5s\tremaining: 18.8s\n",
      "189:\tlearn: 0.5886733\ttotal: 5.02s\tremaining: 18.8s\n",
      "190:\tlearn: 0.5883681\ttotal: 5.05s\tremaining: 18.7s\n",
      "191:\tlearn: 0.5879265\ttotal: 5.07s\tremaining: 18.7s\n",
      "192:\tlearn: 0.5871550\ttotal: 5.09s\tremaining: 18.7s\n",
      "193:\tlearn: 0.5868925\ttotal: 5.12s\tremaining: 18.6s\n",
      "194:\tlearn: 0.5866864\ttotal: 5.14s\tremaining: 18.6s\n",
      "195:\tlearn: 0.5863457\ttotal: 5.16s\tremaining: 18.5s\n",
      "196:\tlearn: 0.5863051\ttotal: 5.18s\tremaining: 18.5s\n",
      "197:\tlearn: 0.5860319\ttotal: 5.2s\tremaining: 18.5s\n",
      "198:\tlearn: 0.5856510\ttotal: 5.24s\tremaining: 18.4s\n",
      "199:\tlearn: 0.5850186\ttotal: 5.26s\tremaining: 18.4s\n",
      "200:\tlearn: 0.5847582\ttotal: 5.28s\tremaining: 18.4s\n",
      "201:\tlearn: 0.5847296\ttotal: 5.3s\tremaining: 18.3s\n",
      "202:\tlearn: 0.5845428\ttotal: 5.33s\tremaining: 18.3s\n",
      "203:\tlearn: 0.5844787\ttotal: 5.35s\tremaining: 18.2s\n",
      "204:\tlearn: 0.5841084\ttotal: 5.37s\tremaining: 18.2s\n",
      "205:\tlearn: 0.5837245\ttotal: 5.39s\tremaining: 18.2s\n",
      "206:\tlearn: 0.5834102\ttotal: 5.42s\tremaining: 18.2s\n",
      "207:\tlearn: 0.5832052\ttotal: 5.45s\tremaining: 18.1s\n",
      "208:\tlearn: 0.5826464\ttotal: 5.47s\tremaining: 18.1s\n",
      "209:\tlearn: 0.5816213\ttotal: 5.49s\tremaining: 18s\n",
      "210:\tlearn: 0.5814942\ttotal: 5.51s\tremaining: 18s\n",
      "211:\tlearn: 0.5813072\ttotal: 5.53s\tremaining: 18s\n",
      "212:\tlearn: 0.5811675\ttotal: 5.55s\tremaining: 17.9s\n",
      "213:\tlearn: 0.5804267\ttotal: 5.58s\tremaining: 17.9s\n",
      "214:\tlearn: 0.5799248\ttotal: 5.61s\tremaining: 17.9s\n",
      "215:\tlearn: 0.5798714\ttotal: 5.63s\tremaining: 17.8s\n",
      "216:\tlearn: 0.5793084\ttotal: 5.65s\tremaining: 17.8s\n",
      "217:\tlearn: 0.5792504\ttotal: 5.67s\tremaining: 17.7s\n",
      "218:\tlearn: 0.5789153\ttotal: 5.7s\tremaining: 17.7s\n",
      "219:\tlearn: 0.5783351\ttotal: 5.72s\tremaining: 17.7s\n",
      "220:\tlearn: 0.5781764\ttotal: 5.74s\tremaining: 17.6s\n",
      "221:\tlearn: 0.5781356\ttotal: 5.76s\tremaining: 17.6s\n",
      "222:\tlearn: 0.5777494\ttotal: 5.79s\tremaining: 17.6s\n",
      "223:\tlearn: 0.5777082\ttotal: 5.81s\tremaining: 17.5s\n",
      "224:\tlearn: 0.5769470\ttotal: 5.83s\tremaining: 17.5s\n",
      "225:\tlearn: 0.5766670\ttotal: 5.86s\tremaining: 17.5s\n",
      "226:\tlearn: 0.5766411\ttotal: 5.88s\tremaining: 17.4s\n",
      "227:\tlearn: 0.5759798\ttotal: 5.9s\tremaining: 17.4s\n",
      "228:\tlearn: 0.5754302\ttotal: 5.92s\tremaining: 17.3s\n",
      "229:\tlearn: 0.5748669\ttotal: 5.94s\tremaining: 17.3s\n",
      "230:\tlearn: 0.5739578\ttotal: 5.97s\tremaining: 17.3s\n",
      "231:\tlearn: 0.5732844\ttotal: 6s\tremaining: 17.3s\n",
      "232:\tlearn: 0.5730728\ttotal: 6.02s\tremaining: 17.2s\n",
      "233:\tlearn: 0.5722546\ttotal: 6.04s\tremaining: 17.2s\n",
      "234:\tlearn: 0.5716476\ttotal: 6.07s\tremaining: 17.2s\n",
      "235:\tlearn: 0.5709896\ttotal: 6.09s\tremaining: 17.1s\n",
      "236:\tlearn: 0.5708841\ttotal: 6.11s\tremaining: 17.1s\n",
      "237:\tlearn: 0.5700413\ttotal: 6.13s\tremaining: 17.1s\n",
      "238:\tlearn: 0.5699909\ttotal: 6.16s\tremaining: 17s\n",
      "239:\tlearn: 0.5697836\ttotal: 6.19s\tremaining: 17s\n",
      "240:\tlearn: 0.5697368\ttotal: 6.21s\tremaining: 17s\n",
      "241:\tlearn: 0.5693941\ttotal: 6.24s\tremaining: 17s\n",
      "242:\tlearn: 0.5683805\ttotal: 6.27s\tremaining: 16.9s\n",
      "243:\tlearn: 0.5682119\ttotal: 6.29s\tremaining: 16.9s\n",
      "244:\tlearn: 0.5679413\ttotal: 6.32s\tremaining: 16.9s\n",
      "245:\tlearn: 0.5672144\ttotal: 6.35s\tremaining: 16.9s\n",
      "246:\tlearn: 0.5668043\ttotal: 6.37s\tremaining: 16.8s\n",
      "247:\tlearn: 0.5666728\ttotal: 6.4s\tremaining: 16.8s\n",
      "248:\tlearn: 0.5661750\ttotal: 6.42s\tremaining: 16.8s\n",
      "249:\tlearn: 0.5657655\ttotal: 6.45s\tremaining: 16.8s\n",
      "250:\tlearn: 0.5648562\ttotal: 6.47s\tremaining: 16.7s\n",
      "251:\tlearn: 0.5642058\ttotal: 6.5s\tremaining: 16.7s\n",
      "252:\tlearn: 0.5636809\ttotal: 6.52s\tremaining: 16.7s\n",
      "253:\tlearn: 0.5631837\ttotal: 6.55s\tremaining: 16.7s\n",
      "254:\tlearn: 0.5631564\ttotal: 6.58s\tremaining: 16.6s\n",
      "255:\tlearn: 0.5628537\ttotal: 6.6s\tremaining: 16.6s\n",
      "256:\tlearn: 0.5621004\ttotal: 6.65s\tremaining: 16.6s\n",
      "257:\tlearn: 0.5620626\ttotal: 6.7s\tremaining: 16.7s\n",
      "258:\tlearn: 0.5620105\ttotal: 6.72s\tremaining: 16.6s\n",
      "259:\tlearn: 0.5616888\ttotal: 6.75s\tremaining: 16.6s\n",
      "260:\tlearn: 0.5616457\ttotal: 6.78s\tremaining: 16.6s\n",
      "261:\tlearn: 0.5609921\ttotal: 6.8s\tremaining: 16.6s\n",
      "262:\tlearn: 0.5607260\ttotal: 6.82s\tremaining: 16.5s\n",
      "263:\tlearn: 0.5606021\ttotal: 6.85s\tremaining: 16.5s\n",
      "264:\tlearn: 0.5598597\ttotal: 6.87s\tremaining: 16.5s\n",
      "265:\tlearn: 0.5594791\ttotal: 6.89s\tremaining: 16.4s\n",
      "266:\tlearn: 0.5589537\ttotal: 6.92s\tremaining: 16.4s\n",
      "267:\tlearn: 0.5584146\ttotal: 6.95s\tremaining: 16.4s\n",
      "268:\tlearn: 0.5579935\ttotal: 6.97s\tremaining: 16.4s\n",
      "269:\tlearn: 0.5574706\ttotal: 7.01s\tremaining: 16.4s\n",
      "270:\tlearn: 0.5569958\ttotal: 7.03s\tremaining: 16.3s\n",
      "271:\tlearn: 0.5564421\ttotal: 7.05s\tremaining: 16.3s\n",
      "272:\tlearn: 0.5561153\ttotal: 7.08s\tremaining: 16.3s\n",
      "273:\tlearn: 0.5554922\ttotal: 7.1s\tremaining: 16.2s\n",
      "274:\tlearn: 0.5550339\ttotal: 7.13s\tremaining: 16.2s\n",
      "275:\tlearn: 0.5547326\ttotal: 7.15s\tremaining: 16.2s\n",
      "276:\tlearn: 0.5542355\ttotal: 7.17s\tremaining: 16.1s\n",
      "277:\tlearn: 0.5537711\ttotal: 7.2s\tremaining: 16.1s\n",
      "278:\tlearn: 0.5536962\ttotal: 7.22s\tremaining: 16.1s\n",
      "279:\tlearn: 0.5532975\ttotal: 7.25s\tremaining: 16.1s\n",
      "280:\tlearn: 0.5529930\ttotal: 7.27s\tremaining: 16s\n",
      "281:\tlearn: 0.5524027\ttotal: 7.3s\tremaining: 16s\n",
      "282:\tlearn: 0.5518236\ttotal: 7.32s\tremaining: 16s\n",
      "283:\tlearn: 0.5514010\ttotal: 7.35s\tremaining: 15.9s\n",
      "284:\tlearn: 0.5509032\ttotal: 7.37s\tremaining: 15.9s\n",
      "285:\tlearn: 0.5508559\ttotal: 7.4s\tremaining: 15.9s\n",
      "286:\tlearn: 0.5505931\ttotal: 7.42s\tremaining: 15.8s\n",
      "287:\tlearn: 0.5502002\ttotal: 7.44s\tremaining: 15.8s\n",
      "288:\tlearn: 0.5501331\ttotal: 7.46s\tremaining: 15.8s\n",
      "289:\tlearn: 0.5493223\ttotal: 7.49s\tremaining: 15.8s\n",
      "290:\tlearn: 0.5487669\ttotal: 7.51s\tremaining: 15.7s\n",
      "291:\tlearn: 0.5478256\ttotal: 7.55s\tremaining: 15.7s\n",
      "292:\tlearn: 0.5474400\ttotal: 7.57s\tremaining: 15.7s\n",
      "293:\tlearn: 0.5471560\ttotal: 7.59s\tremaining: 15.7s\n",
      "294:\tlearn: 0.5471192\ttotal: 7.62s\tremaining: 15.6s\n",
      "295:\tlearn: 0.5469075\ttotal: 7.65s\tremaining: 15.6s\n",
      "296:\tlearn: 0.5465875\ttotal: 7.67s\tremaining: 15.6s\n",
      "297:\tlearn: 0.5458797\ttotal: 7.7s\tremaining: 15.6s\n",
      "298:\tlearn: 0.5458278\ttotal: 7.72s\tremaining: 15.5s\n",
      "299:\tlearn: 0.5454436\ttotal: 7.74s\tremaining: 15.5s\n",
      "300:\tlearn: 0.5451416\ttotal: 7.76s\tremaining: 15.5s\n",
      "301:\tlearn: 0.5450664\ttotal: 7.79s\tremaining: 15.4s\n",
      "302:\tlearn: 0.5443152\ttotal: 7.82s\tremaining: 15.4s\n",
      "303:\tlearn: 0.5434813\ttotal: 7.84s\tremaining: 15.4s\n",
      "304:\tlearn: 0.5431795\ttotal: 7.87s\tremaining: 15.4s\n",
      "305:\tlearn: 0.5428960\ttotal: 7.89s\tremaining: 15.3s\n",
      "306:\tlearn: 0.5425204\ttotal: 7.92s\tremaining: 15.3s\n",
      "307:\tlearn: 0.5421405\ttotal: 7.94s\tremaining: 15.3s\n",
      "308:\tlearn: 0.5415397\ttotal: 7.97s\tremaining: 15.2s\n",
      "309:\tlearn: 0.5412861\ttotal: 7.99s\tremaining: 15.2s\n",
      "310:\tlearn: 0.5407804\ttotal: 8.01s\tremaining: 15.2s\n",
      "311:\tlearn: 0.5406375\ttotal: 8.04s\tremaining: 15.1s\n",
      "312:\tlearn: 0.5404671\ttotal: 8.06s\tremaining: 15.1s\n",
      "313:\tlearn: 0.5400227\ttotal: 8.09s\tremaining: 15.1s\n",
      "314:\tlearn: 0.5393214\ttotal: 8.11s\tremaining: 15.1s\n",
      "315:\tlearn: 0.5392642\ttotal: 8.14s\tremaining: 15s\n",
      "316:\tlearn: 0.5386261\ttotal: 8.16s\tremaining: 15s\n",
      "317:\tlearn: 0.5385231\ttotal: 8.19s\tremaining: 15s\n",
      "318:\tlearn: 0.5383236\ttotal: 8.21s\tremaining: 15s\n",
      "319:\tlearn: 0.5380692\ttotal: 8.24s\tremaining: 14.9s\n",
      "320:\tlearn: 0.5378516\ttotal: 8.27s\tremaining: 14.9s\n",
      "321:\tlearn: 0.5377820\ttotal: 8.29s\tremaining: 14.9s\n",
      "322:\tlearn: 0.5374886\ttotal: 8.32s\tremaining: 14.9s\n",
      "323:\tlearn: 0.5371143\ttotal: 8.34s\tremaining: 14.8s\n",
      "324:\tlearn: 0.5366089\ttotal: 8.37s\tremaining: 14.8s\n",
      "325:\tlearn: 0.5364176\ttotal: 8.39s\tremaining: 14.8s\n",
      "326:\tlearn: 0.5360688\ttotal: 8.41s\tremaining: 14.7s\n"
     ]
    },
    {
     "name": "stdout",
     "output_type": "stream",
     "text": [
      "327:\tlearn: 0.5359697\ttotal: 8.44s\tremaining: 14.7s\n",
      "328:\tlearn: 0.5354111\ttotal: 8.46s\tremaining: 14.7s\n",
      "329:\tlearn: 0.5352079\ttotal: 8.48s\tremaining: 14.7s\n",
      "330:\tlearn: 0.5351570\ttotal: 8.5s\tremaining: 14.6s\n",
      "331:\tlearn: 0.5351097\ttotal: 8.52s\tremaining: 14.6s\n",
      "332:\tlearn: 0.5347068\ttotal: 8.55s\tremaining: 14.6s\n",
      "333:\tlearn: 0.5345308\ttotal: 8.57s\tremaining: 14.5s\n",
      "334:\tlearn: 0.5339793\ttotal: 8.59s\tremaining: 14.5s\n",
      "335:\tlearn: 0.5338878\ttotal: 8.61s\tremaining: 14.5s\n",
      "336:\tlearn: 0.5337916\ttotal: 8.64s\tremaining: 14.4s\n",
      "337:\tlearn: 0.5335572\ttotal: 8.66s\tremaining: 14.4s\n",
      "338:\tlearn: 0.5332360\ttotal: 8.69s\tremaining: 14.4s\n",
      "339:\tlearn: 0.5331878\ttotal: 8.71s\tremaining: 14.3s\n",
      "340:\tlearn: 0.5329906\ttotal: 8.73s\tremaining: 14.3s\n",
      "341:\tlearn: 0.5329451\ttotal: 8.75s\tremaining: 14.3s\n",
      "342:\tlearn: 0.5327730\ttotal: 8.77s\tremaining: 14.2s\n",
      "343:\tlearn: 0.5327011\ttotal: 8.8s\tremaining: 14.2s\n",
      "344:\tlearn: 0.5326071\ttotal: 8.83s\tremaining: 14.2s\n",
      "345:\tlearn: 0.5325188\ttotal: 8.85s\tremaining: 14.2s\n",
      "346:\tlearn: 0.5320835\ttotal: 8.87s\tremaining: 14.1s\n",
      "347:\tlearn: 0.5320295\ttotal: 8.9s\tremaining: 14.1s\n",
      "348:\tlearn: 0.5319721\ttotal: 8.93s\tremaining: 14.1s\n",
      "349:\tlearn: 0.5319289\ttotal: 8.95s\tremaining: 14.1s\n",
      "350:\tlearn: 0.5318794\ttotal: 8.98s\tremaining: 14.1s\n",
      "351:\tlearn: 0.5318316\ttotal: 9.02s\tremaining: 14s\n",
      "352:\tlearn: 0.5317892\ttotal: 9.05s\tremaining: 14s\n",
      "353:\tlearn: 0.5317563\ttotal: 9.07s\tremaining: 14s\n",
      "354:\tlearn: 0.5317184\ttotal: 9.11s\tremaining: 14s\n",
      "355:\tlearn: 0.5315704\ttotal: 9.14s\tremaining: 14s\n",
      "356:\tlearn: 0.5312486\ttotal: 9.18s\tremaining: 14s\n",
      "357:\tlearn: 0.5310408\ttotal: 9.22s\tremaining: 14s\n",
      "358:\tlearn: 0.5309113\ttotal: 9.25s\tremaining: 13.9s\n",
      "359:\tlearn: 0.5308941\ttotal: 9.29s\tremaining: 13.9s\n",
      "360:\tlearn: 0.5308437\ttotal: 9.33s\tremaining: 13.9s\n",
      "361:\tlearn: 0.5305676\ttotal: 9.36s\tremaining: 13.9s\n",
      "362:\tlearn: 0.5305138\ttotal: 9.4s\tremaining: 13.9s\n",
      "363:\tlearn: 0.5300939\ttotal: 9.44s\tremaining: 13.9s\n",
      "364:\tlearn: 0.5297586\ttotal: 9.47s\tremaining: 13.9s\n",
      "365:\tlearn: 0.5297050\ttotal: 9.51s\tremaining: 13.9s\n",
      "366:\tlearn: 0.5296572\ttotal: 9.54s\tremaining: 13.8s\n",
      "367:\tlearn: 0.5296086\ttotal: 9.57s\tremaining: 13.8s\n",
      "368:\tlearn: 0.5295757\ttotal: 9.6s\tremaining: 13.8s\n",
      "369:\tlearn: 0.5295339\ttotal: 9.63s\tremaining: 13.8s\n",
      "370:\tlearn: 0.5294741\ttotal: 9.65s\tremaining: 13.8s\n",
      "371:\tlearn: 0.5292093\ttotal: 9.68s\tremaining: 13.7s\n",
      "372:\tlearn: 0.5289838\ttotal: 9.71s\tremaining: 13.7s\n",
      "373:\tlearn: 0.5289460\ttotal: 9.73s\tremaining: 13.7s\n",
      "374:\tlearn: 0.5288967\ttotal: 9.76s\tremaining: 13.7s\n",
      "375:\tlearn: 0.5286700\ttotal: 9.79s\tremaining: 13.6s\n",
      "376:\tlearn: 0.5285051\ttotal: 9.82s\tremaining: 13.6s\n",
      "377:\tlearn: 0.5284341\ttotal: 9.84s\tremaining: 13.6s\n",
      "378:\tlearn: 0.5284037\ttotal: 9.87s\tremaining: 13.6s\n",
      "379:\tlearn: 0.5282454\ttotal: 9.89s\tremaining: 13.5s\n",
      "380:\tlearn: 0.5282035\ttotal: 9.91s\tremaining: 13.5s\n",
      "381:\tlearn: 0.5281106\ttotal: 9.93s\tremaining: 13.5s\n",
      "382:\tlearn: 0.5280693\ttotal: 9.96s\tremaining: 13.4s\n",
      "383:\tlearn: 0.5280186\ttotal: 9.99s\tremaining: 13.4s\n",
      "384:\tlearn: 0.5279830\ttotal: 10s\tremaining: 13.4s\n",
      "385:\tlearn: 0.5279497\ttotal: 10s\tremaining: 13.4s\n",
      "386:\tlearn: 0.5277089\ttotal: 10.1s\tremaining: 13.3s\n",
      "387:\tlearn: 0.5276652\ttotal: 10.1s\tremaining: 13.3s\n",
      "388:\tlearn: 0.5276204\ttotal: 10.1s\tremaining: 13.3s\n",
      "389:\tlearn: 0.5275910\ttotal: 10.1s\tremaining: 13.2s\n",
      "390:\tlearn: 0.5275563\ttotal: 10.1s\tremaining: 13.2s\n",
      "391:\tlearn: 0.5272828\ttotal: 10.2s\tremaining: 13.2s\n",
      "392:\tlearn: 0.5271175\ttotal: 10.2s\tremaining: 13.1s\n",
      "393:\tlearn: 0.5269827\ttotal: 10.2s\tremaining: 13.1s\n",
      "394:\tlearn: 0.5267045\ttotal: 10.2s\tremaining: 13.1s\n",
      "395:\tlearn: 0.5261453\ttotal: 10.3s\tremaining: 13.1s\n",
      "396:\tlearn: 0.5256334\ttotal: 10.3s\tremaining: 13s\n",
      "397:\tlearn: 0.5255942\ttotal: 10.3s\tremaining: 13s\n",
      "398:\tlearn: 0.5255597\ttotal: 10.3s\tremaining: 13s\n",
      "399:\tlearn: 0.5254201\ttotal: 10.4s\tremaining: 12.9s\n",
      "400:\tlearn: 0.5253785\ttotal: 10.4s\tremaining: 12.9s\n",
      "401:\tlearn: 0.5252161\ttotal: 10.4s\tremaining: 12.9s\n",
      "402:\tlearn: 0.5249762\ttotal: 10.4s\tremaining: 12.9s\n",
      "403:\tlearn: 0.5248433\ttotal: 10.5s\tremaining: 12.8s\n",
      "404:\tlearn: 0.5244931\ttotal: 10.5s\tremaining: 12.8s\n",
      "405:\tlearn: 0.5244516\ttotal: 10.5s\tremaining: 12.8s\n",
      "406:\tlearn: 0.5243496\ttotal: 10.5s\tremaining: 12.7s\n",
      "407:\tlearn: 0.5243107\ttotal: 10.6s\tremaining: 12.7s\n",
      "408:\tlearn: 0.5239870\ttotal: 10.6s\tremaining: 12.7s\n",
      "409:\tlearn: 0.5239488\ttotal: 10.6s\tremaining: 12.7s\n",
      "410:\tlearn: 0.5237695\ttotal: 10.6s\tremaining: 12.6s\n",
      "411:\tlearn: 0.5236919\ttotal: 10.6s\tremaining: 12.6s\n",
      "412:\tlearn: 0.5236294\ttotal: 10.7s\tremaining: 12.6s\n",
      "413:\tlearn: 0.5232562\ttotal: 10.7s\tremaining: 12.5s\n",
      "414:\tlearn: 0.5229932\ttotal: 10.7s\tremaining: 12.5s\n",
      "415:\tlearn: 0.5227587\ttotal: 10.7s\tremaining: 12.5s\n",
      "416:\tlearn: 0.5223504\ttotal: 10.8s\tremaining: 12.5s\n",
      "417:\tlearn: 0.5220556\ttotal: 10.8s\tremaining: 12.4s\n",
      "418:\tlearn: 0.5216789\ttotal: 10.8s\tremaining: 12.4s\n",
      "419:\tlearn: 0.5213655\ttotal: 10.8s\tremaining: 12.4s\n",
      "420:\tlearn: 0.5212937\ttotal: 10.9s\tremaining: 12.4s\n",
      "421:\tlearn: 0.5211908\ttotal: 10.9s\tremaining: 12.3s\n",
      "422:\tlearn: 0.5211547\ttotal: 10.9s\tremaining: 12.3s\n",
      "423:\tlearn: 0.5210609\ttotal: 10.9s\tremaining: 12.3s\n",
      "424:\tlearn: 0.5209295\ttotal: 11s\tremaining: 12.2s\n",
      "425:\tlearn: 0.5208675\ttotal: 11s\tremaining: 12.2s\n",
      "426:\tlearn: 0.5205193\ttotal: 11s\tremaining: 12.2s\n",
      "427:\tlearn: 0.5201936\ttotal: 11s\tremaining: 12.2s\n",
      "428:\tlearn: 0.5198078\ttotal: 11s\tremaining: 12.1s\n",
      "429:\tlearn: 0.5195677\ttotal: 11.1s\tremaining: 12.1s\n",
      "430:\tlearn: 0.5195213\ttotal: 11.1s\tremaining: 12.1s\n",
      "431:\tlearn: 0.5194099\ttotal: 11.1s\tremaining: 12.1s\n",
      "432:\tlearn: 0.5191336\ttotal: 11.1s\tremaining: 12s\n",
      "433:\tlearn: 0.5188995\ttotal: 11.2s\tremaining: 12s\n",
      "434:\tlearn: 0.5188517\ttotal: 11.2s\tremaining: 12s\n",
      "435:\tlearn: 0.5182790\ttotal: 11.2s\tremaining: 11.9s\n",
      "436:\tlearn: 0.5180470\ttotal: 11.2s\tremaining: 11.9s\n",
      "437:\tlearn: 0.5177127\ttotal: 11.3s\tremaining: 11.9s\n",
      "438:\tlearn: 0.5173179\ttotal: 11.3s\tremaining: 11.8s\n",
      "439:\tlearn: 0.5171105\ttotal: 11.3s\tremaining: 11.8s\n",
      "440:\tlearn: 0.5170724\ttotal: 11.3s\tremaining: 11.8s\n",
      "441:\tlearn: 0.5169817\ttotal: 11.4s\tremaining: 11.8s\n",
      "442:\tlearn: 0.5167797\ttotal: 11.4s\tremaining: 11.7s\n",
      "443:\tlearn: 0.5167265\ttotal: 11.4s\tremaining: 11.7s\n",
      "444:\tlearn: 0.5164696\ttotal: 11.4s\tremaining: 11.7s\n",
      "445:\tlearn: 0.5164514\ttotal: 11.4s\tremaining: 11.7s\n",
      "446:\tlearn: 0.5162777\ttotal: 11.5s\tremaining: 11.6s\n",
      "447:\tlearn: 0.5158276\ttotal: 11.5s\tremaining: 11.6s\n",
      "448:\tlearn: 0.5154244\ttotal: 11.5s\tremaining: 11.6s\n",
      "449:\tlearn: 0.5151688\ttotal: 11.5s\tremaining: 11.5s\n",
      "450:\tlearn: 0.5148997\ttotal: 11.6s\tremaining: 11.5s\n",
      "451:\tlearn: 0.5148614\ttotal: 11.6s\tremaining: 11.5s\n",
      "452:\tlearn: 0.5147018\ttotal: 11.6s\tremaining: 11.5s\n",
      "453:\tlearn: 0.5146588\ttotal: 11.6s\tremaining: 11.4s\n",
      "454:\tlearn: 0.5145597\ttotal: 11.7s\tremaining: 11.4s\n",
      "455:\tlearn: 0.5142114\ttotal: 11.7s\tremaining: 11.4s\n",
      "456:\tlearn: 0.5141498\ttotal: 11.7s\tremaining: 11.4s\n",
      "457:\tlearn: 0.5139403\ttotal: 11.7s\tremaining: 11.3s\n",
      "458:\tlearn: 0.5138982\ttotal: 11.8s\tremaining: 11.3s\n",
      "459:\tlearn: 0.5138555\ttotal: 11.8s\tremaining: 11.3s\n",
      "460:\tlearn: 0.5135433\ttotal: 11.8s\tremaining: 11.2s\n",
      "461:\tlearn: 0.5135189\ttotal: 11.8s\tremaining: 11.2s\n",
      "462:\tlearn: 0.5134733\ttotal: 11.8s\tremaining: 11.2s\n",
      "463:\tlearn: 0.5134225\ttotal: 11.9s\tremaining: 11.2s\n",
      "464:\tlearn: 0.5133628\ttotal: 11.9s\tremaining: 11.1s\n",
      "465:\tlearn: 0.5131767\ttotal: 11.9s\tremaining: 11.1s\n",
      "466:\tlearn: 0.5131402\ttotal: 11.9s\tremaining: 11.1s\n",
      "467:\tlearn: 0.5130964\ttotal: 12s\tremaining: 11s\n",
      "468:\tlearn: 0.5130674\ttotal: 12s\tremaining: 11s\n",
      "469:\tlearn: 0.5129121\ttotal: 12s\tremaining: 11s\n",
      "470:\tlearn: 0.5128590\ttotal: 12s\tremaining: 11s\n",
      "471:\tlearn: 0.5124842\ttotal: 12.1s\tremaining: 10.9s\n",
      "472:\tlearn: 0.5124437\ttotal: 12.1s\tremaining: 10.9s\n",
      "473:\tlearn: 0.5121523\ttotal: 12.1s\tremaining: 10.9s\n",
      "474:\tlearn: 0.5121209\ttotal: 12.1s\tremaining: 10.9s\n",
      "475:\tlearn: 0.5120837\ttotal: 12.2s\tremaining: 10.8s\n",
      "476:\tlearn: 0.5120269\ttotal: 12.2s\tremaining: 10.8s\n",
      "477:\tlearn: 0.5119811\ttotal: 12.2s\tremaining: 10.8s\n",
      "478:\tlearn: 0.5118329\ttotal: 12.2s\tremaining: 10.8s\n",
      "479:\tlearn: 0.5117100\ttotal: 12.3s\tremaining: 10.7s\n",
      "480:\tlearn: 0.5116667\ttotal: 12.3s\tremaining: 10.7s\n",
      "481:\tlearn: 0.5116363\ttotal: 12.3s\tremaining: 10.7s\n",
      "482:\tlearn: 0.5115879\ttotal: 12.3s\tremaining: 10.6s\n",
      "483:\tlearn: 0.5113513\ttotal: 12.4s\tremaining: 10.6s\n",
      "484:\tlearn: 0.5111811\ttotal: 12.4s\tremaining: 10.6s\n",
      "485:\tlearn: 0.5111481\ttotal: 12.4s\tremaining: 10.6s\n",
      "486:\tlearn: 0.5109819\ttotal: 12.4s\tremaining: 10.5s\n"
     ]
    },
    {
     "name": "stdout",
     "output_type": "stream",
     "text": [
      "487:\tlearn: 0.5107283\ttotal: 12.4s\tremaining: 10.5s\n",
      "488:\tlearn: 0.5105128\ttotal: 12.5s\tremaining: 10.5s\n",
      "489:\tlearn: 0.5104821\ttotal: 12.5s\tremaining: 10.5s\n",
      "490:\tlearn: 0.5102909\ttotal: 12.5s\tremaining: 10.4s\n",
      "491:\tlearn: 0.5102012\ttotal: 12.6s\tremaining: 10.4s\n",
      "492:\tlearn: 0.5101643\ttotal: 12.6s\tremaining: 10.4s\n",
      "493:\tlearn: 0.5101235\ttotal: 12.6s\tremaining: 10.4s\n",
      "494:\tlearn: 0.5101039\ttotal: 12.6s\tremaining: 10.3s\n",
      "495:\tlearn: 0.5100827\ttotal: 12.6s\tremaining: 10.3s\n",
      "496:\tlearn: 0.5100624\ttotal: 12.7s\tremaining: 10.3s\n",
      "497:\tlearn: 0.5100154\ttotal: 12.7s\tremaining: 10.2s\n",
      "498:\tlearn: 0.5097240\ttotal: 12.7s\tremaining: 10.2s\n",
      "499:\tlearn: 0.5095170\ttotal: 12.7s\tremaining: 10.2s\n",
      "500:\tlearn: 0.5094796\ttotal: 12.8s\tremaining: 10.2s\n",
      "501:\tlearn: 0.5094464\ttotal: 12.8s\tremaining: 10.1s\n",
      "502:\tlearn: 0.5094231\ttotal: 12.8s\tremaining: 10.1s\n",
      "503:\tlearn: 0.5091743\ttotal: 12.8s\tremaining: 10.1s\n",
      "504:\tlearn: 0.5091197\ttotal: 12.9s\tremaining: 10.1s\n",
      "505:\tlearn: 0.5089500\ttotal: 12.9s\tremaining: 10s\n",
      "506:\tlearn: 0.5087712\ttotal: 12.9s\tremaining: 10s\n",
      "507:\tlearn: 0.5087406\ttotal: 12.9s\tremaining: 9.98s\n",
      "508:\tlearn: 0.5087082\ttotal: 13s\tremaining: 9.95s\n",
      "509:\tlearn: 0.5084591\ttotal: 13s\tremaining: 9.93s\n",
      "510:\tlearn: 0.5083640\ttotal: 13s\tremaining: 9.9s\n",
      "511:\tlearn: 0.5083334\ttotal: 13s\tremaining: 9.87s\n",
      "512:\tlearn: 0.5081957\ttotal: 13.1s\tremaining: 9.85s\n",
      "513:\tlearn: 0.5080596\ttotal: 13.1s\tremaining: 9.82s\n",
      "514:\tlearn: 0.5079552\ttotal: 13.1s\tremaining: 9.8s\n",
      "515:\tlearn: 0.5079176\ttotal: 13.1s\tremaining: 9.77s\n",
      "516:\tlearn: 0.5078640\ttotal: 13.1s\tremaining: 9.74s\n",
      "517:\tlearn: 0.5075056\ttotal: 13.2s\tremaining: 9.71s\n",
      "518:\tlearn: 0.5074443\ttotal: 13.2s\tremaining: 9.69s\n",
      "519:\tlearn: 0.5074051\ttotal: 13.2s\tremaining: 9.66s\n",
      "520:\tlearn: 0.5072018\ttotal: 13.2s\tremaining: 9.64s\n",
      "521:\tlearn: 0.5071030\ttotal: 13.3s\tremaining: 9.61s\n",
      "522:\tlearn: 0.5070770\ttotal: 13.3s\tremaining: 9.58s\n",
      "523:\tlearn: 0.5069950\ttotal: 13.3s\tremaining: 9.55s\n",
      "524:\tlearn: 0.5069465\ttotal: 13.3s\tremaining: 9.53s\n",
      "525:\tlearn: 0.5067799\ttotal: 13.4s\tremaining: 9.5s\n",
      "526:\tlearn: 0.5065320\ttotal: 13.4s\tremaining: 9.47s\n",
      "527:\tlearn: 0.5064757\ttotal: 13.4s\tremaining: 9.45s\n",
      "528:\tlearn: 0.5064333\ttotal: 13.4s\tremaining: 9.42s\n",
      "529:\tlearn: 0.5062167\ttotal: 13.5s\tremaining: 9.39s\n",
      "530:\tlearn: 0.5060728\ttotal: 13.5s\tremaining: 9.37s\n",
      "531:\tlearn: 0.5060465\ttotal: 13.5s\tremaining: 9.34s\n",
      "532:\tlearn: 0.5060242\ttotal: 13.5s\tremaining: 9.31s\n",
      "533:\tlearn: 0.5059969\ttotal: 13.5s\tremaining: 9.28s\n",
      "534:\tlearn: 0.5059803\ttotal: 13.6s\tremaining: 9.26s\n",
      "535:\tlearn: 0.5059628\ttotal: 13.6s\tremaining: 9.23s\n",
      "536:\tlearn: 0.5058693\ttotal: 13.6s\tremaining: 9.21s\n",
      "537:\tlearn: 0.5058387\ttotal: 13.6s\tremaining: 9.18s\n",
      "538:\tlearn: 0.5055007\ttotal: 13.7s\tremaining: 9.15s\n",
      "539:\tlearn: 0.5054520\ttotal: 13.7s\tremaining: 9.12s\n",
      "540:\tlearn: 0.5051476\ttotal: 13.7s\tremaining: 9.09s\n",
      "541:\tlearn: 0.5050507\ttotal: 13.7s\tremaining: 9.07s\n",
      "542:\tlearn: 0.5050229\ttotal: 13.7s\tremaining: 9.04s\n",
      "543:\tlearn: 0.5048829\ttotal: 13.8s\tremaining: 9.02s\n",
      "544:\tlearn: 0.5046923\ttotal: 13.8s\tremaining: 8.99s\n",
      "545:\tlearn: 0.5046150\ttotal: 13.8s\tremaining: 8.96s\n",
      "546:\tlearn: 0.5044395\ttotal: 13.8s\tremaining: 8.94s\n",
      "547:\tlearn: 0.5043241\ttotal: 13.9s\tremaining: 8.91s\n",
      "548:\tlearn: 0.5041787\ttotal: 13.9s\tremaining: 8.88s\n",
      "549:\tlearn: 0.5041332\ttotal: 13.9s\tremaining: 8.85s\n",
      "550:\tlearn: 0.5040771\ttotal: 13.9s\tremaining: 8.82s\n",
      "551:\tlearn: 0.5039887\ttotal: 14s\tremaining: 8.8s\n",
      "552:\tlearn: 0.5039154\ttotal: 14s\tremaining: 8.78s\n",
      "553:\tlearn: 0.5038867\ttotal: 14s\tremaining: 8.75s\n",
      "554:\tlearn: 0.5038467\ttotal: 14s\tremaining: 8.73s\n",
      "555:\tlearn: 0.5036852\ttotal: 14.1s\tremaining: 8.7s\n",
      "556:\tlearn: 0.5036518\ttotal: 14.1s\tremaining: 8.67s\n",
      "557:\tlearn: 0.5036265\ttotal: 14.1s\tremaining: 8.64s\n",
      "558:\tlearn: 0.5034555\ttotal: 14.1s\tremaining: 8.62s\n",
      "559:\tlearn: 0.5034105\ttotal: 14.2s\tremaining: 8.6s\n",
      "560:\tlearn: 0.5033033\ttotal: 14.2s\tremaining: 8.57s\n",
      "561:\tlearn: 0.5031847\ttotal: 14.2s\tremaining: 8.54s\n",
      "562:\tlearn: 0.5031609\ttotal: 14.2s\tremaining: 8.52s\n",
      "563:\tlearn: 0.5030562\ttotal: 14.2s\tremaining: 8.49s\n",
      "564:\tlearn: 0.5030205\ttotal: 14.3s\tremaining: 8.46s\n",
      "565:\tlearn: 0.5028996\ttotal: 14.3s\tremaining: 8.44s\n",
      "566:\tlearn: 0.5028633\ttotal: 14.3s\tremaining: 8.41s\n",
      "567:\tlearn: 0.5028276\ttotal: 14.3s\tremaining: 8.38s\n",
      "568:\tlearn: 0.5027801\ttotal: 14.4s\tremaining: 8.36s\n",
      "569:\tlearn: 0.5027411\ttotal: 14.4s\tremaining: 8.33s\n",
      "570:\tlearn: 0.5027251\ttotal: 14.4s\tremaining: 8.3s\n",
      "571:\tlearn: 0.5025638\ttotal: 14.4s\tremaining: 8.28s\n",
      "572:\tlearn: 0.5022809\ttotal: 14.5s\tremaining: 8.25s\n",
      "573:\tlearn: 0.5022473\ttotal: 14.5s\tremaining: 8.23s\n",
      "574:\tlearn: 0.5020581\ttotal: 14.5s\tremaining: 8.21s\n",
      "575:\tlearn: 0.5020181\ttotal: 14.6s\tremaining: 8.19s\n",
      "576:\tlearn: 0.5019718\ttotal: 14.6s\tremaining: 8.16s\n",
      "577:\tlearn: 0.5019443\ttotal: 14.6s\tremaining: 8.14s\n",
      "578:\tlearn: 0.5019196\ttotal: 14.7s\tremaining: 8.12s\n",
      "579:\tlearn: 0.5015835\ttotal: 14.7s\tremaining: 8.1s\n",
      "580:\tlearn: 0.5015560\ttotal: 14.7s\tremaining: 8.08s\n",
      "581:\tlearn: 0.5014422\ttotal: 14.8s\tremaining: 8.06s\n",
      "582:\tlearn: 0.5013570\ttotal: 14.8s\tremaining: 8.04s\n",
      "583:\tlearn: 0.5013260\ttotal: 14.8s\tremaining: 8.02s\n",
      "584:\tlearn: 0.5013102\ttotal: 14.9s\tremaining: 8s\n",
      "585:\tlearn: 0.5012828\ttotal: 14.9s\tremaining: 7.98s\n",
      "586:\tlearn: 0.5011021\ttotal: 14.9s\tremaining: 7.96s\n",
      "587:\tlearn: 0.5010713\ttotal: 15s\tremaining: 7.94s\n",
      "588:\tlearn: 0.5010444\ttotal: 15s\tremaining: 7.92s\n",
      "589:\tlearn: 0.5009603\ttotal: 15s\tremaining: 7.9s\n",
      "590:\tlearn: 0.5009372\ttotal: 15.1s\tremaining: 7.88s\n",
      "591:\tlearn: 0.5008803\ttotal: 15.1s\tremaining: 7.86s\n",
      "592:\tlearn: 0.5008364\ttotal: 15.1s\tremaining: 7.84s\n",
      "593:\tlearn: 0.5008012\ttotal: 15.2s\tremaining: 7.81s\n",
      "594:\tlearn: 0.5007845\ttotal: 15.2s\tremaining: 7.79s\n",
      "595:\tlearn: 0.5007288\ttotal: 15.2s\tremaining: 7.76s\n",
      "596:\tlearn: 0.5006451\ttotal: 15.3s\tremaining: 7.74s\n",
      "597:\tlearn: 0.5006274\ttotal: 15.3s\tremaining: 7.71s\n",
      "598:\tlearn: 0.5004899\ttotal: 15.3s\tremaining: 7.69s\n",
      "599:\tlearn: 0.5004518\ttotal: 15.3s\tremaining: 7.67s\n",
      "600:\tlearn: 0.5004311\ttotal: 15.4s\tremaining: 7.64s\n",
      "601:\tlearn: 0.5003947\ttotal: 15.4s\tremaining: 7.62s\n",
      "602:\tlearn: 0.5003646\ttotal: 15.4s\tremaining: 7.59s\n",
      "603:\tlearn: 0.5002910\ttotal: 15.4s\tremaining: 7.57s\n",
      "604:\tlearn: 0.5002074\ttotal: 15.5s\tremaining: 7.54s\n",
      "605:\tlearn: 0.5000630\ttotal: 15.5s\tremaining: 7.51s\n",
      "606:\tlearn: 0.5000374\ttotal: 15.5s\tremaining: 7.49s\n",
      "607:\tlearn: 0.4999276\ttotal: 15.5s\tremaining: 7.46s\n",
      "608:\tlearn: 0.4998849\ttotal: 15.6s\tremaining: 7.44s\n",
      "609:\tlearn: 0.4998279\ttotal: 15.6s\tremaining: 7.41s\n",
      "610:\tlearn: 0.4996247\ttotal: 15.6s\tremaining: 7.39s\n",
      "611:\tlearn: 0.4995805\ttotal: 15.6s\tremaining: 7.36s\n",
      "612:\tlearn: 0.4995491\ttotal: 15.7s\tremaining: 7.33s\n",
      "613:\tlearn: 0.4995263\ttotal: 15.7s\tremaining: 7.31s\n",
      "614:\tlearn: 0.4995139\ttotal: 15.7s\tremaining: 7.28s\n",
      "615:\tlearn: 0.4994751\ttotal: 15.7s\tremaining: 7.26s\n",
      "616:\tlearn: 0.4993932\ttotal: 15.8s\tremaining: 7.23s\n",
      "617:\tlearn: 0.4992919\ttotal: 15.8s\tremaining: 7.2s\n",
      "618:\tlearn: 0.4991319\ttotal: 15.8s\tremaining: 7.18s\n",
      "619:\tlearn: 0.4990625\ttotal: 15.8s\tremaining: 7.15s\n",
      "620:\tlearn: 0.4990222\ttotal: 15.8s\tremaining: 7.12s\n",
      "621:\tlearn: 0.4989796\ttotal: 15.9s\tremaining: 7.1s\n",
      "622:\tlearn: 0.4987992\ttotal: 15.9s\tremaining: 7.07s\n",
      "623:\tlearn: 0.4985416\ttotal: 15.9s\tremaining: 7.04s\n",
      "624:\tlearn: 0.4985127\ttotal: 16s\tremaining: 7.02s\n",
      "625:\tlearn: 0.4984179\ttotal: 16s\tremaining: 6.99s\n",
      "626:\tlearn: 0.4982313\ttotal: 16s\tremaining: 6.97s\n",
      "627:\tlearn: 0.4981697\ttotal: 16s\tremaining: 6.94s\n",
      "628:\tlearn: 0.4981447\ttotal: 16.1s\tremaining: 6.92s\n",
      "629:\tlearn: 0.4980038\ttotal: 16.1s\tremaining: 6.89s\n",
      "630:\tlearn: 0.4978670\ttotal: 16.1s\tremaining: 6.87s\n",
      "631:\tlearn: 0.4978337\ttotal: 16.1s\tremaining: 6.84s\n",
      "632:\tlearn: 0.4977936\ttotal: 16.2s\tremaining: 6.81s\n",
      "633:\tlearn: 0.4977578\ttotal: 16.2s\tremaining: 6.79s\n",
      "634:\tlearn: 0.4976059\ttotal: 16.2s\tremaining: 6.76s\n",
      "635:\tlearn: 0.4974983\ttotal: 16.2s\tremaining: 6.73s\n",
      "636:\tlearn: 0.4974611\ttotal: 16.2s\tremaining: 6.71s\n",
      "637:\tlearn: 0.4974234\ttotal: 16.3s\tremaining: 6.68s\n",
      "638:\tlearn: 0.4971639\ttotal: 16.3s\tremaining: 6.66s\n",
      "639:\tlearn: 0.4971084\ttotal: 16.3s\tremaining: 6.63s\n",
      "640:\tlearn: 0.4970791\ttotal: 16.3s\tremaining: 6.6s\n",
      "641:\tlearn: 0.4969614\ttotal: 16.4s\tremaining: 6.58s\n",
      "642:\tlearn: 0.4969385\ttotal: 16.4s\tremaining: 6.55s\n",
      "643:\tlearn: 0.4968380\ttotal: 16.4s\tremaining: 6.52s\n",
      "644:\tlearn: 0.4967192\ttotal: 16.4s\tremaining: 6.5s\n",
      "645:\tlearn: 0.4967019\ttotal: 16.5s\tremaining: 6.47s\n",
      "646:\tlearn: 0.4964820\ttotal: 16.5s\tremaining: 6.45s\n",
      "647:\tlearn: 0.4964514\ttotal: 16.5s\tremaining: 6.42s\n",
      "648:\tlearn: 0.4962994\ttotal: 16.5s\tremaining: 6.39s\n",
      "649:\tlearn: 0.4962766\ttotal: 16.6s\tremaining: 6.37s\n",
      "650:\tlearn: 0.4962503\ttotal: 16.6s\tremaining: 6.34s\n",
      "651:\tlearn: 0.4962247\ttotal: 16.6s\tremaining: 6.31s\n"
     ]
    },
    {
     "name": "stdout",
     "output_type": "stream",
     "text": [
      "652:\tlearn: 0.4961252\ttotal: 16.6s\tremaining: 6.29s\n",
      "653:\tlearn: 0.4960901\ttotal: 16.6s\tremaining: 6.26s\n",
      "654:\tlearn: 0.4959736\ttotal: 16.7s\tremaining: 6.24s\n",
      "655:\tlearn: 0.4959529\ttotal: 16.7s\tremaining: 6.21s\n",
      "656:\tlearn: 0.4959248\ttotal: 16.7s\tremaining: 6.18s\n",
      "657:\tlearn: 0.4958951\ttotal: 16.7s\tremaining: 6.16s\n",
      "658:\tlearn: 0.4958783\ttotal: 16.8s\tremaining: 6.13s\n",
      "659:\tlearn: 0.4958444\ttotal: 16.8s\tremaining: 6.1s\n",
      "660:\tlearn: 0.4958275\ttotal: 16.8s\tremaining: 6.08s\n",
      "661:\tlearn: 0.4958044\ttotal: 16.8s\tremaining: 6.05s\n",
      "662:\tlearn: 0.4957808\ttotal: 16.9s\tremaining: 6.03s\n",
      "663:\tlearn: 0.4956864\ttotal: 16.9s\tremaining: 6s\n",
      "664:\tlearn: 0.4956254\ttotal: 16.9s\tremaining: 5.97s\n",
      "665:\tlearn: 0.4953631\ttotal: 16.9s\tremaining: 5.95s\n",
      "666:\tlearn: 0.4952798\ttotal: 17s\tremaining: 5.92s\n",
      "667:\tlearn: 0.4951421\ttotal: 17s\tremaining: 5.9s\n",
      "668:\tlearn: 0.4951166\ttotal: 17s\tremaining: 5.87s\n",
      "669:\tlearn: 0.4949504\ttotal: 17s\tremaining: 5.85s\n",
      "670:\tlearn: 0.4949283\ttotal: 17.1s\tremaining: 5.82s\n",
      "671:\tlearn: 0.4949003\ttotal: 17.1s\tremaining: 5.79s\n",
      "672:\tlearn: 0.4948761\ttotal: 17.1s\tremaining: 5.77s\n",
      "673:\tlearn: 0.4948538\ttotal: 17.1s\tremaining: 5.74s\n",
      "674:\tlearn: 0.4948224\ttotal: 17.1s\tremaining: 5.71s\n",
      "675:\tlearn: 0.4947986\ttotal: 17.2s\tremaining: 5.69s\n",
      "676:\tlearn: 0.4947096\ttotal: 17.2s\tremaining: 5.66s\n",
      "677:\tlearn: 0.4946745\ttotal: 17.2s\tremaining: 5.64s\n",
      "678:\tlearn: 0.4945931\ttotal: 17.2s\tremaining: 5.61s\n",
      "679:\tlearn: 0.4944763\ttotal: 17.3s\tremaining: 5.58s\n",
      "680:\tlearn: 0.4943734\ttotal: 17.3s\tremaining: 5.56s\n",
      "681:\tlearn: 0.4943562\ttotal: 17.3s\tremaining: 5.53s\n",
      "682:\tlearn: 0.4941050\ttotal: 17.3s\tremaining: 5.5s\n",
      "683:\tlearn: 0.4940781\ttotal: 17.4s\tremaining: 5.48s\n",
      "684:\tlearn: 0.4940436\ttotal: 17.4s\tremaining: 5.46s\n",
      "685:\tlearn: 0.4940289\ttotal: 17.4s\tremaining: 5.43s\n",
      "686:\tlearn: 0.4940145\ttotal: 17.4s\tremaining: 5.4s\n",
      "687:\tlearn: 0.4939452\ttotal: 17.4s\tremaining: 5.38s\n",
      "688:\tlearn: 0.4939110\ttotal: 17.5s\tremaining: 5.35s\n",
      "689:\tlearn: 0.4938852\ttotal: 17.5s\tremaining: 5.32s\n",
      "690:\tlearn: 0.4938542\ttotal: 17.5s\tremaining: 5.29s\n",
      "691:\tlearn: 0.4938281\ttotal: 17.5s\tremaining: 5.27s\n",
      "692:\tlearn: 0.4938047\ttotal: 17.6s\tremaining: 5.24s\n",
      "693:\tlearn: 0.4937235\ttotal: 17.6s\tremaining: 5.22s\n",
      "694:\tlearn: 0.4937007\ttotal: 17.6s\tremaining: 5.19s\n",
      "695:\tlearn: 0.4936283\ttotal: 17.6s\tremaining: 5.17s\n",
      "696:\tlearn: 0.4936066\ttotal: 17.6s\tremaining: 5.14s\n",
      "697:\tlearn: 0.4935347\ttotal: 17.7s\tremaining: 5.11s\n",
      "698:\tlearn: 0.4934481\ttotal: 17.7s\tremaining: 5.09s\n",
      "699:\tlearn: 0.4934003\ttotal: 17.7s\tremaining: 5.06s\n",
      "700:\tlearn: 0.4933724\ttotal: 17.7s\tremaining: 5.04s\n",
      "701:\tlearn: 0.4931711\ttotal: 17.8s\tremaining: 5.01s\n",
      "702:\tlearn: 0.4931361\ttotal: 17.8s\tremaining: 4.98s\n",
      "703:\tlearn: 0.4931046\ttotal: 17.8s\tremaining: 4.96s\n",
      "704:\tlearn: 0.4930529\ttotal: 17.8s\tremaining: 4.93s\n",
      "705:\tlearn: 0.4930064\ttotal: 17.9s\tremaining: 4.91s\n",
      "706:\tlearn: 0.4929814\ttotal: 17.9s\tremaining: 4.88s\n",
      "707:\tlearn: 0.4929629\ttotal: 17.9s\tremaining: 4.85s\n",
      "708:\tlearn: 0.4929311\ttotal: 17.9s\tremaining: 4.83s\n",
      "709:\tlearn: 0.4927669\ttotal: 18s\tremaining: 4.8s\n",
      "710:\tlearn: 0.4927417\ttotal: 18s\tremaining: 4.78s\n",
      "711:\tlearn: 0.4926265\ttotal: 18s\tremaining: 4.75s\n",
      "712:\tlearn: 0.4926040\ttotal: 18s\tremaining: 4.73s\n",
      "713:\tlearn: 0.4925690\ttotal: 18s\tremaining: 4.7s\n",
      "714:\tlearn: 0.4924492\ttotal: 18.1s\tremaining: 4.67s\n",
      "715:\tlearn: 0.4924217\ttotal: 18.1s\tremaining: 4.65s\n",
      "716:\tlearn: 0.4923630\ttotal: 18.1s\tremaining: 4.62s\n",
      "717:\tlearn: 0.4923488\ttotal: 18.1s\tremaining: 4.6s\n",
      "718:\tlearn: 0.4923216\ttotal: 18.2s\tremaining: 4.57s\n",
      "719:\tlearn: 0.4922940\ttotal: 18.2s\tremaining: 4.55s\n",
      "720:\tlearn: 0.4922171\ttotal: 18.2s\tremaining: 4.52s\n",
      "721:\tlearn: 0.4920076\ttotal: 18.2s\tremaining: 4.5s\n",
      "722:\tlearn: 0.4918933\ttotal: 18.3s\tremaining: 4.47s\n",
      "723:\tlearn: 0.4918654\ttotal: 18.3s\tremaining: 4.44s\n",
      "724:\tlearn: 0.4917066\ttotal: 18.3s\tremaining: 4.42s\n",
      "725:\tlearn: 0.4916773\ttotal: 18.3s\tremaining: 4.39s\n",
      "726:\tlearn: 0.4916193\ttotal: 18.4s\tremaining: 4.37s\n",
      "727:\tlearn: 0.4915955\ttotal: 18.4s\tremaining: 4.34s\n",
      "728:\tlearn: 0.4915663\ttotal: 18.4s\tremaining: 4.32s\n",
      "729:\tlearn: 0.4915503\ttotal: 18.4s\tremaining: 4.29s\n",
      "730:\tlearn: 0.4914600\ttotal: 18.4s\tremaining: 4.26s\n",
      "731:\tlearn: 0.4914086\ttotal: 18.5s\tremaining: 4.24s\n",
      "732:\tlearn: 0.4913831\ttotal: 18.5s\tremaining: 4.21s\n",
      "733:\tlearn: 0.4913170\ttotal: 18.5s\tremaining: 4.19s\n",
      "734:\tlearn: 0.4912924\ttotal: 18.5s\tremaining: 4.16s\n",
      "735:\tlearn: 0.4911772\ttotal: 18.6s\tremaining: 4.13s\n",
      "736:\tlearn: 0.4911464\ttotal: 18.6s\tremaining: 4.11s\n",
      "737:\tlearn: 0.4911173\ttotal: 18.6s\tremaining: 4.08s\n",
      "738:\tlearn: 0.4910992\ttotal: 18.6s\tremaining: 4.06s\n",
      "739:\tlearn: 0.4910694\ttotal: 18.6s\tremaining: 4.03s\n",
      "740:\tlearn: 0.4910477\ttotal: 18.7s\tremaining: 4.01s\n",
      "741:\tlearn: 0.4909984\ttotal: 18.7s\tremaining: 3.98s\n",
      "742:\tlearn: 0.4908730\ttotal: 18.7s\tremaining: 3.96s\n",
      "743:\tlearn: 0.4908062\ttotal: 18.8s\tremaining: 3.93s\n",
      "744:\tlearn: 0.4907157\ttotal: 18.8s\tremaining: 3.91s\n",
      "745:\tlearn: 0.4906907\ttotal: 18.8s\tremaining: 3.88s\n",
      "746:\tlearn: 0.4906689\ttotal: 18.8s\tremaining: 3.85s\n",
      "747:\tlearn: 0.4906335\ttotal: 18.8s\tremaining: 3.83s\n",
      "748:\tlearn: 0.4905982\ttotal: 18.9s\tremaining: 3.81s\n",
      "749:\tlearn: 0.4905328\ttotal: 18.9s\tremaining: 3.78s\n",
      "750:\tlearn: 0.4904982\ttotal: 18.9s\tremaining: 3.76s\n",
      "751:\tlearn: 0.4903617\ttotal: 19s\tremaining: 3.73s\n",
      "752:\tlearn: 0.4902781\ttotal: 19s\tremaining: 3.71s\n",
      "753:\tlearn: 0.4902566\ttotal: 19s\tremaining: 3.68s\n",
      "754:\tlearn: 0.4902391\ttotal: 19s\tremaining: 3.65s\n",
      "755:\tlearn: 0.4902165\ttotal: 19.1s\tremaining: 3.63s\n",
      "756:\tlearn: 0.4901368\ttotal: 19.1s\tremaining: 3.61s\n",
      "757:\tlearn: 0.4901176\ttotal: 19.1s\tremaining: 3.58s\n",
      "758:\tlearn: 0.4900947\ttotal: 19.1s\tremaining: 3.56s\n",
      "759:\tlearn: 0.4900308\ttotal: 19.2s\tremaining: 3.53s\n",
      "760:\tlearn: 0.4899873\ttotal: 19.2s\tremaining: 3.51s\n",
      "761:\tlearn: 0.4899602\ttotal: 19.2s\tremaining: 3.48s\n",
      "762:\tlearn: 0.4899442\ttotal: 19.3s\tremaining: 3.46s\n",
      "763:\tlearn: 0.4899242\ttotal: 19.3s\tremaining: 3.43s\n",
      "764:\tlearn: 0.4898796\ttotal: 19.3s\tremaining: 3.41s\n",
      "765:\tlearn: 0.4898493\ttotal: 19.3s\tremaining: 3.38s\n",
      "766:\tlearn: 0.4898224\ttotal: 19.4s\tremaining: 3.35s\n",
      "767:\tlearn: 0.4897975\ttotal: 19.4s\tremaining: 3.33s\n",
      "768:\tlearn: 0.4897765\ttotal: 19.4s\tremaining: 3.31s\n",
      "769:\tlearn: 0.4897446\ttotal: 19.4s\tremaining: 3.28s\n",
      "770:\tlearn: 0.4897101\ttotal: 19.5s\tremaining: 3.26s\n",
      "771:\tlearn: 0.4896840\ttotal: 19.5s\tremaining: 3.23s\n",
      "772:\tlearn: 0.4896538\ttotal: 19.5s\tremaining: 3.21s\n",
      "773:\tlearn: 0.4896180\ttotal: 19.5s\tremaining: 3.18s\n",
      "774:\tlearn: 0.4895942\ttotal: 19.6s\tremaining: 3.15s\n",
      "775:\tlearn: 0.4895022\ttotal: 19.6s\tremaining: 3.13s\n",
      "776:\tlearn: 0.4894705\ttotal: 19.6s\tremaining: 3.11s\n",
      "777:\tlearn: 0.4894446\ttotal: 19.6s\tremaining: 3.08s\n",
      "778:\tlearn: 0.4893504\ttotal: 19.7s\tremaining: 3.06s\n",
      "779:\tlearn: 0.4893277\ttotal: 19.7s\tremaining: 3.03s\n",
      "780:\tlearn: 0.4893009\ttotal: 19.7s\tremaining: 3s\n",
      "781:\tlearn: 0.4892845\ttotal: 19.7s\tremaining: 2.98s\n",
      "782:\tlearn: 0.4892523\ttotal: 19.8s\tremaining: 2.95s\n",
      "783:\tlearn: 0.4892244\ttotal: 19.8s\tremaining: 2.93s\n",
      "784:\tlearn: 0.4892066\ttotal: 19.8s\tremaining: 2.9s\n",
      "785:\tlearn: 0.4891914\ttotal: 19.9s\tremaining: 2.88s\n",
      "786:\tlearn: 0.4891627\ttotal: 19.9s\tremaining: 2.85s\n",
      "787:\tlearn: 0.4891435\ttotal: 19.9s\tremaining: 2.83s\n",
      "788:\tlearn: 0.4891216\ttotal: 19.9s\tremaining: 2.8s\n",
      "789:\tlearn: 0.4890990\ttotal: 19.9s\tremaining: 2.78s\n",
      "790:\tlearn: 0.4890653\ttotal: 20s\tremaining: 2.75s\n",
      "791:\tlearn: 0.4890387\ttotal: 20s\tremaining: 2.73s\n",
      "792:\tlearn: 0.4889145\ttotal: 20s\tremaining: 2.71s\n",
      "793:\tlearn: 0.4888906\ttotal: 20.1s\tremaining: 2.68s\n",
      "794:\tlearn: 0.4888496\ttotal: 20.1s\tremaining: 2.65s\n",
      "795:\tlearn: 0.4888129\ttotal: 20.1s\tremaining: 2.63s\n",
      "796:\tlearn: 0.4887882\ttotal: 20.2s\tremaining: 2.61s\n",
      "797:\tlearn: 0.4886003\ttotal: 20.2s\tremaining: 2.58s\n",
      "798:\tlearn: 0.4885264\ttotal: 20.2s\tremaining: 2.56s\n",
      "799:\tlearn: 0.4884943\ttotal: 20.3s\tremaining: 2.53s\n",
      "800:\tlearn: 0.4884679\ttotal: 20.3s\tremaining: 2.51s\n",
      "801:\tlearn: 0.4884468\ttotal: 20.3s\tremaining: 2.48s\n",
      "802:\tlearn: 0.4884276\ttotal: 20.4s\tremaining: 2.46s\n",
      "803:\tlearn: 0.4883519\ttotal: 20.4s\tremaining: 2.44s\n",
      "804:\tlearn: 0.4883274\ttotal: 20.4s\tremaining: 2.41s\n",
      "805:\tlearn: 0.4883043\ttotal: 20.5s\tremaining: 2.39s\n",
      "806:\tlearn: 0.4882758\ttotal: 20.5s\tremaining: 2.36s\n",
      "807:\tlearn: 0.4881725\ttotal: 20.6s\tremaining: 2.34s\n",
      "808:\tlearn: 0.4880853\ttotal: 20.6s\tremaining: 2.32s\n",
      "809:\tlearn: 0.4880696\ttotal: 20.6s\tremaining: 2.29s\n",
      "810:\tlearn: 0.4880556\ttotal: 20.7s\tremaining: 2.27s\n"
     ]
    },
    {
     "name": "stdout",
     "output_type": "stream",
     "text": [
      "811:\tlearn: 0.4880349\ttotal: 20.7s\tremaining: 2.25s\n",
      "812:\tlearn: 0.4880157\ttotal: 20.8s\tremaining: 2.22s\n",
      "813:\tlearn: 0.4879910\ttotal: 20.8s\tremaining: 2.2s\n",
      "814:\tlearn: 0.4879695\ttotal: 20.8s\tremaining: 2.17s\n",
      "815:\tlearn: 0.4879393\ttotal: 20.8s\tremaining: 2.15s\n",
      "816:\tlearn: 0.4879093\ttotal: 20.9s\tremaining: 2.12s\n",
      "817:\tlearn: 0.4877333\ttotal: 20.9s\tremaining: 2.1s\n",
      "818:\tlearn: 0.4876967\ttotal: 20.9s\tremaining: 2.07s\n",
      "819:\tlearn: 0.4876695\ttotal: 21s\tremaining: 2.05s\n",
      "820:\tlearn: 0.4876483\ttotal: 21s\tremaining: 2.02s\n",
      "821:\tlearn: 0.4876140\ttotal: 21s\tremaining: 2s\n",
      "822:\tlearn: 0.4875178\ttotal: 21.1s\tremaining: 1.97s\n",
      "823:\tlearn: 0.4874904\ttotal: 21.1s\tremaining: 1.94s\n",
      "824:\tlearn: 0.4874220\ttotal: 21.1s\tremaining: 1.92s\n",
      "825:\tlearn: 0.4873975\ttotal: 21.2s\tremaining: 1.9s\n",
      "826:\tlearn: 0.4873159\ttotal: 21.2s\tremaining: 1.87s\n",
      "827:\tlearn: 0.4872142\ttotal: 21.2s\tremaining: 1.84s\n",
      "828:\tlearn: 0.4872060\ttotal: 21.2s\tremaining: 1.82s\n",
      "829:\tlearn: 0.4871435\ttotal: 21.3s\tremaining: 1.79s\n",
      "830:\tlearn: 0.4871141\ttotal: 21.3s\tremaining: 1.77s\n",
      "831:\tlearn: 0.4870482\ttotal: 21.3s\tremaining: 1.74s\n",
      "832:\tlearn: 0.4870243\ttotal: 21.3s\tremaining: 1.72s\n",
      "833:\tlearn: 0.4869851\ttotal: 21.4s\tremaining: 1.69s\n",
      "834:\tlearn: 0.4869486\ttotal: 21.4s\tremaining: 1.67s\n",
      "835:\tlearn: 0.4869309\ttotal: 21.4s\tremaining: 1.64s\n",
      "836:\tlearn: 0.4868909\ttotal: 21.4s\tremaining: 1.61s\n",
      "837:\tlearn: 0.4868634\ttotal: 21.5s\tremaining: 1.59s\n",
      "838:\tlearn: 0.4867518\ttotal: 21.5s\tremaining: 1.56s\n",
      "839:\tlearn: 0.4866704\ttotal: 21.5s\tremaining: 1.54s\n",
      "840:\tlearn: 0.4866397\ttotal: 21.5s\tremaining: 1.51s\n",
      "841:\tlearn: 0.4866011\ttotal: 21.6s\tremaining: 1.49s\n",
      "842:\tlearn: 0.4864007\ttotal: 21.6s\tremaining: 1.46s\n",
      "843:\tlearn: 0.4863675\ttotal: 21.6s\tremaining: 1.43s\n",
      "844:\tlearn: 0.4863400\ttotal: 21.6s\tremaining: 1.41s\n",
      "845:\tlearn: 0.4863168\ttotal: 21.7s\tremaining: 1.38s\n",
      "846:\tlearn: 0.4862601\ttotal: 21.7s\tremaining: 1.36s\n",
      "847:\tlearn: 0.4861311\ttotal: 21.7s\tremaining: 1.33s\n",
      "848:\tlearn: 0.4861000\ttotal: 21.8s\tremaining: 1.31s\n",
      "849:\tlearn: 0.4860904\ttotal: 21.8s\tremaining: 1.28s\n",
      "850:\tlearn: 0.4860785\ttotal: 21.8s\tremaining: 1.25s\n",
      "851:\tlearn: 0.4860512\ttotal: 21.8s\tremaining: 1.23s\n",
      "852:\tlearn: 0.4859955\ttotal: 21.9s\tremaining: 1.2s\n",
      "853:\tlearn: 0.4859749\ttotal: 21.9s\tremaining: 1.18s\n",
      "854:\tlearn: 0.4859366\ttotal: 21.9s\tremaining: 1.15s\n",
      "855:\tlearn: 0.4858963\ttotal: 21.9s\tremaining: 1.13s\n",
      "856:\tlearn: 0.4857623\ttotal: 22s\tremaining: 1.1s\n",
      "857:\tlearn: 0.4857430\ttotal: 22s\tremaining: 1.08s\n",
      "858:\tlearn: 0.4857046\ttotal: 22s\tremaining: 1.05s\n",
      "859:\tlearn: 0.4856254\ttotal: 22s\tremaining: 1.02s\n",
      "860:\tlearn: 0.4856091\ttotal: 22.1s\tremaining: 1000ms\n",
      "861:\tlearn: 0.4855904\ttotal: 22.1s\tremaining: 974ms\n",
      "862:\tlearn: 0.4855582\ttotal: 22.1s\tremaining: 949ms\n",
      "863:\tlearn: 0.4854892\ttotal: 22.1s\tremaining: 923ms\n",
      "864:\tlearn: 0.4854693\ttotal: 22.2s\tremaining: 897ms\n",
      "865:\tlearn: 0.4854514\ttotal: 22.2s\tremaining: 871ms\n",
      "866:\tlearn: 0.4854319\ttotal: 22.2s\tremaining: 846ms\n",
      "867:\tlearn: 0.4852551\ttotal: 22.2s\tremaining: 820ms\n",
      "868:\tlearn: 0.4852458\ttotal: 22.3s\tremaining: 795ms\n",
      "869:\tlearn: 0.4852133\ttotal: 22.3s\tremaining: 769ms\n",
      "870:\tlearn: 0.4851871\ttotal: 22.3s\tremaining: 744ms\n",
      "871:\tlearn: 0.4851240\ttotal: 22.4s\tremaining: 718ms\n",
      "872:\tlearn: 0.4850964\ttotal: 22.4s\tremaining: 692ms\n",
      "873:\tlearn: 0.4850075\ttotal: 22.4s\tremaining: 667ms\n",
      "874:\tlearn: 0.4848298\ttotal: 22.4s\tremaining: 641ms\n",
      "875:\tlearn: 0.4848066\ttotal: 22.5s\tremaining: 615ms\n",
      "876:\tlearn: 0.4847509\ttotal: 22.5s\tremaining: 590ms\n",
      "877:\tlearn: 0.4846802\ttotal: 22.5s\tremaining: 564ms\n",
      "878:\tlearn: 0.4846680\ttotal: 22.5s\tremaining: 538ms\n",
      "879:\tlearn: 0.4846413\ttotal: 22.6s\tremaining: 513ms\n",
      "880:\tlearn: 0.4846095\ttotal: 22.6s\tremaining: 487ms\n",
      "881:\tlearn: 0.4845793\ttotal: 22.6s\tremaining: 461ms\n",
      "882:\tlearn: 0.4845611\ttotal: 22.6s\tremaining: 436ms\n",
      "883:\tlearn: 0.4845493\ttotal: 22.7s\tremaining: 410ms\n",
      "884:\tlearn: 0.4845180\ttotal: 22.7s\tremaining: 385ms\n",
      "885:\tlearn: 0.4844945\ttotal: 22.7s\tremaining: 359ms\n",
      "886:\tlearn: 0.4844472\ttotal: 22.7s\tremaining: 333ms\n",
      "887:\tlearn: 0.4844144\ttotal: 22.8s\tremaining: 308ms\n",
      "888:\tlearn: 0.4843917\ttotal: 22.8s\tremaining: 282ms\n",
      "889:\tlearn: 0.4843589\ttotal: 22.8s\tremaining: 256ms\n",
      "890:\tlearn: 0.4843412\ttotal: 22.9s\tremaining: 231ms\n",
      "891:\tlearn: 0.4843249\ttotal: 22.9s\tremaining: 205ms\n",
      "892:\tlearn: 0.4842579\ttotal: 22.9s\tremaining: 180ms\n",
      "893:\tlearn: 0.4841694\ttotal: 22.9s\tremaining: 154ms\n",
      "894:\tlearn: 0.4840909\ttotal: 23s\tremaining: 128ms\n",
      "895:\tlearn: 0.4840567\ttotal: 23s\tremaining: 103ms\n",
      "896:\tlearn: 0.4840410\ttotal: 23s\tremaining: 77ms\n",
      "897:\tlearn: 0.4840160\ttotal: 23s\tremaining: 51.3ms\n",
      "898:\tlearn: 0.4839768\ttotal: 23.1s\tremaining: 25.7ms\n",
      "899:\tlearn: 0.4839491\ttotal: 23.1s\tremaining: 0us\n"
     ]
    },
    {
     "data": {
      "text/plain": [
       "<catboost.core.CatBoostClassifier at 0x1f280e76588>"
      ]
     },
     "execution_count": 450,
     "metadata": {},
     "output_type": "execute_result"
    }
   ],
   "source": [
    "xgb = CatBoostClassifier(iterations=900, depth=5, learning_rate=0.05,loss_function = 'Logloss')\n",
    "xgb.fit(X_train_smote, y_train_smote)"
   ]
  },
  {
   "cell_type": "code",
   "execution_count": 451,
   "metadata": {},
   "outputs": [],
   "source": [
    "y_pred_xgb = xgb.predict(X_test)"
   ]
  },
  {
   "cell_type": "code",
   "execution_count": 452,
   "metadata": {},
   "outputs": [
    {
     "name": "stdout",
     "output_type": "stream",
     "text": [
      "Precision:  0.2631578947368421\n",
      "Recall Score:  0.02229428455614106\n",
      "F1 score:  0.041106128550074734\n"
     ]
    }
   ],
   "source": [
    "print(\"Precision: \", precision_score(y_test, y_pred_xgb.round()))\n",
    "print(\"Recall Score: \", recall_score(y_test ,y_pred_xgb.round()))\n",
    "print(\"F1 score: \", f1_score( y_test, y_pred_xgb.round()))"
   ]
  },
  {
   "cell_type": "code",
   "execution_count": 406,
   "metadata": {},
   "outputs": [],
   "source": [
    "import pickle\n",
    "# open a file, where you ant to store the data\n",
    "file = open('XGBRegressor.pkl', 'wb')\n",
    "\n",
    "# dump information to that file\n",
    "pickle.dump(xgb, file)"
   ]
  },
  {
   "cell_type": "code",
   "execution_count": 313,
   "metadata": {},
   "outputs": [
    {
     "data": {
      "text/html": [
       "<div>\n",
       "<style scoped>\n",
       "    .dataframe tbody tr th:only-of-type {\n",
       "        vertical-align: middle;\n",
       "    }\n",
       "\n",
       "    .dataframe tbody tr th {\n",
       "        vertical-align: top;\n",
       "    }\n",
       "\n",
       "    .dataframe thead th {\n",
       "        text-align: right;\n",
       "    }\n",
       "</style>\n",
       "<table border=\"1\" class=\"dataframe\">\n",
       "  <thead>\n",
       "    <tr style=\"text-align: right;\">\n",
       "      <th></th>\n",
       "      <th>Region_Code</th>\n",
       "      <th>Accomodation_Type</th>\n",
       "      <th>Reco_Insurance_Type</th>\n",
       "      <th>Upper_Age</th>\n",
       "      <th>Is_Spouse</th>\n",
       "      <th>Reco_Policy_Premium</th>\n",
       "      <th>Response</th>\n",
       "      <th>city_code</th>\n",
       "      <th>Policy_cat</th>\n",
       "    </tr>\n",
       "  </thead>\n",
       "  <tbody>\n",
       "    <tr>\n",
       "      <td>0</td>\n",
       "      <td>0.518650</td>\n",
       "      <td>1</td>\n",
       "      <td>0</td>\n",
       "      <td>0.315789</td>\n",
       "      <td>0</td>\n",
       "      <td>0.235746</td>\n",
       "      <td>0</td>\n",
       "      <td>0</td>\n",
       "      <td>0</td>\n",
       "    </tr>\n",
       "    <tr>\n",
       "      <td>1</td>\n",
       "      <td>0.180203</td>\n",
       "      <td>0</td>\n",
       "      <td>1</td>\n",
       "      <td>1.000000</td>\n",
       "      <td>0</td>\n",
       "      <td>0.711930</td>\n",
       "      <td>0</td>\n",
       "      <td>0</td>\n",
       "      <td>0</td>\n",
       "    </tr>\n",
       "    <tr>\n",
       "      <td>2</td>\n",
       "      <td>0.602454</td>\n",
       "      <td>0</td>\n",
       "      <td>0</td>\n",
       "      <td>0.245614</td>\n",
       "      <td>0</td>\n",
       "      <td>0.130382</td>\n",
       "      <td>1</td>\n",
       "      <td>0</td>\n",
       "      <td>0</td>\n",
       "    </tr>\n",
       "    <tr>\n",
       "      <td>3</td>\n",
       "      <td>0.706766</td>\n",
       "      <td>0</td>\n",
       "      <td>1</td>\n",
       "      <td>0.596491</td>\n",
       "      <td>0</td>\n",
       "      <td>0.390893</td>\n",
       "      <td>0</td>\n",
       "      <td>2</td>\n",
       "      <td>0</td>\n",
       "    </tr>\n",
       "    <tr>\n",
       "      <td>4</td>\n",
       "      <td>0.353464</td>\n",
       "      <td>1</td>\n",
       "      <td>0</td>\n",
       "      <td>0.456140</td>\n",
       "      <td>0</td>\n",
       "      <td>0.204878</td>\n",
       "      <td>0</td>\n",
       "      <td>0</td>\n",
       "      <td>2</td>\n",
       "    </tr>\n",
       "    <tr>\n",
       "      <td>...</td>\n",
       "      <td>...</td>\n",
       "      <td>...</td>\n",
       "      <td>...</td>\n",
       "      <td>...</td>\n",
       "      <td>...</td>\n",
       "      <td>...</td>\n",
       "      <td>...</td>\n",
       "      <td>...</td>\n",
       "      <td>...</td>\n",
       "    </tr>\n",
       "    <tr>\n",
       "      <td>50877</td>\n",
       "      <td>0.136283</td>\n",
       "      <td>1</td>\n",
       "      <td>0</td>\n",
       "      <td>0.070175</td>\n",
       "      <td>0</td>\n",
       "      <td>0.136787</td>\n",
       "      <td>0</td>\n",
       "      <td>0</td>\n",
       "      <td>0</td>\n",
       "    </tr>\n",
       "    <tr>\n",
       "      <td>50878</td>\n",
       "      <td>0.676086</td>\n",
       "      <td>1</td>\n",
       "      <td>0</td>\n",
       "      <td>0.157895</td>\n",
       "      <td>0</td>\n",
       "      <td>0.078885</td>\n",
       "      <td>0</td>\n",
       "      <td>0</td>\n",
       "      <td>1</td>\n",
       "    </tr>\n",
       "    <tr>\n",
       "      <td>50879</td>\n",
       "      <td>0.071209</td>\n",
       "      <td>1</td>\n",
       "      <td>0</td>\n",
       "      <td>0.789474</td>\n",
       "      <td>0</td>\n",
       "      <td>0.229341</td>\n",
       "      <td>0</td>\n",
       "      <td>0</td>\n",
       "      <td>2</td>\n",
       "    </tr>\n",
       "    <tr>\n",
       "      <td>50880</td>\n",
       "      <td>0.000484</td>\n",
       "      <td>0</td>\n",
       "      <td>1</td>\n",
       "      <td>0.929825</td>\n",
       "      <td>0</td>\n",
       "      <td>0.653149</td>\n",
       "      <td>1</td>\n",
       "      <td>0</td>\n",
       "      <td>2</td>\n",
       "    </tr>\n",
       "    <tr>\n",
       "      <td>50881</td>\n",
       "      <td>0.624092</td>\n",
       "      <td>1</td>\n",
       "      <td>0</td>\n",
       "      <td>0.105263</td>\n",
       "      <td>0</td>\n",
       "      <td>0.230602</td>\n",
       "      <td>0</td>\n",
       "      <td>0</td>\n",
       "      <td>0</td>\n",
       "    </tr>\n",
       "  </tbody>\n",
       "</table>\n",
       "<p>50875 rows × 9 columns</p>\n",
       "</div>"
      ],
      "text/plain": [
       "       Region_Code  Accomodation_Type  Reco_Insurance_Type  Upper_Age  \\\n",
       "0         0.518650                  1                    0   0.315789   \n",
       "1         0.180203                  0                    1   1.000000   \n",
       "2         0.602454                  0                    0   0.245614   \n",
       "3         0.706766                  0                    1   0.596491   \n",
       "4         0.353464                  1                    0   0.456140   \n",
       "...            ...                ...                  ...        ...   \n",
       "50877     0.136283                  1                    0   0.070175   \n",
       "50878     0.676086                  1                    0   0.157895   \n",
       "50879     0.071209                  1                    0   0.789474   \n",
       "50880     0.000484                  0                    1   0.929825   \n",
       "50881     0.624092                  1                    0   0.105263   \n",
       "\n",
       "       Is_Spouse  Reco_Policy_Premium  Response  city_code  Policy_cat  \n",
       "0              0             0.235746         0          0           0  \n",
       "1              0             0.711930         0          0           0  \n",
       "2              0             0.130382         1          0           0  \n",
       "3              0             0.390893         0          2           0  \n",
       "4              0             0.204878         0          0           2  \n",
       "...          ...                  ...       ...        ...         ...  \n",
       "50877          0             0.136787         0          0           0  \n",
       "50878          0             0.078885         0          0           1  \n",
       "50879          0             0.229341         0          0           2  \n",
       "50880          0             0.653149         1          0           2  \n",
       "50881          0             0.230602         0          0           0  \n",
       "\n",
       "[50875 rows x 9 columns]"
      ]
     },
     "execution_count": 313,
     "metadata": {},
     "output_type": "execute_result"
    }
   ],
   "source": [
    "test_data"
   ]
  },
  {
   "cell_type": "code",
   "execution_count": 407,
   "metadata": {},
   "outputs": [
    {
     "data": {
      "text/html": [
       "<div>\n",
       "<style scoped>\n",
       "    .dataframe tbody tr th:only-of-type {\n",
       "        vertical-align: middle;\n",
       "    }\n",
       "\n",
       "    .dataframe tbody tr th {\n",
       "        vertical-align: top;\n",
       "    }\n",
       "\n",
       "    .dataframe thead th {\n",
       "        text-align: right;\n",
       "    }\n",
       "</style>\n",
       "<table border=\"1\" class=\"dataframe\">\n",
       "  <thead>\n",
       "    <tr style=\"text-align: right;\">\n",
       "      <th></th>\n",
       "      <th>ID</th>\n",
       "      <th>Response</th>\n",
       "    </tr>\n",
       "  </thead>\n",
       "  <tbody>\n",
       "    <tr>\n",
       "      <td>0</td>\n",
       "      <td>50883</td>\n",
       "      <td>0</td>\n",
       "    </tr>\n",
       "    <tr>\n",
       "      <td>1</td>\n",
       "      <td>50884</td>\n",
       "      <td>0</td>\n",
       "    </tr>\n",
       "    <tr>\n",
       "      <td>2</td>\n",
       "      <td>50885</td>\n",
       "      <td>0</td>\n",
       "    </tr>\n",
       "    <tr>\n",
       "      <td>3</td>\n",
       "      <td>50886</td>\n",
       "      <td>0</td>\n",
       "    </tr>\n",
       "    <tr>\n",
       "      <td>4</td>\n",
       "      <td>50887</td>\n",
       "      <td>0</td>\n",
       "    </tr>\n",
       "    <tr>\n",
       "      <td>...</td>\n",
       "      <td>...</td>\n",
       "      <td>...</td>\n",
       "    </tr>\n",
       "    <tr>\n",
       "      <td>21800</td>\n",
       "      <td>72683</td>\n",
       "      <td>0</td>\n",
       "    </tr>\n",
       "    <tr>\n",
       "      <td>21801</td>\n",
       "      <td>72684</td>\n",
       "      <td>0</td>\n",
       "    </tr>\n",
       "    <tr>\n",
       "      <td>21802</td>\n",
       "      <td>72685</td>\n",
       "      <td>0</td>\n",
       "    </tr>\n",
       "    <tr>\n",
       "      <td>21803</td>\n",
       "      <td>72686</td>\n",
       "      <td>0</td>\n",
       "    </tr>\n",
       "    <tr>\n",
       "      <td>21804</td>\n",
       "      <td>72687</td>\n",
       "      <td>0</td>\n",
       "    </tr>\n",
       "  </tbody>\n",
       "</table>\n",
       "<p>21805 rows × 2 columns</p>\n",
       "</div>"
      ],
      "text/plain": [
       "          ID  Response\n",
       "0      50883         0\n",
       "1      50884         0\n",
       "2      50885         0\n",
       "3      50886         0\n",
       "4      50887         0\n",
       "...      ...       ...\n",
       "21800  72683         0\n",
       "21801  72684         0\n",
       "21802  72685         0\n",
       "21803  72686         0\n",
       "21804  72687         0\n",
       "\n",
       "[21805 rows x 2 columns]"
      ]
     },
     "execution_count": 407,
     "metadata": {},
     "output_type": "execute_result"
    }
   ],
   "source": [
    "result = xgb.predict(test_data)\n",
    "res = pd.DataFrame({\"ID\" : test[\"ID\"],\n",
    "                    \"Response\": result})\n",
    "res"
   ]
  },
  {
   "cell_type": "code",
   "execution_count": 408,
   "metadata": {},
   "outputs": [],
   "source": [
    "res.to_csv(\"XGBRegressor.csv\", index = False)"
   ]
  },
  {
   "cell_type": "code",
   "execution_count": null,
   "metadata": {},
   "outputs": [],
   "source": []
  },
  {
   "cell_type": "markdown",
   "metadata": {},
   "source": [
    "## Over Sampling"
   ]
  },
  {
   "cell_type": "code",
   "execution_count": 453,
   "metadata": {},
   "outputs": [],
   "source": [
    "from imblearn.over_sampling import RandomOverSampler\n",
    "os = RandomOverSampler(0.75)\n",
    "X_train_ns, y_train_ns = os.fit_resample(X_train, y_train)"
   ]
  },
  {
   "cell_type": "code",
   "execution_count": 454,
   "metadata": {},
   "outputs": [
    {
     "name": "stdout",
     "output_type": "stream",
     "text": [
      "--------------------------------------------------------------\n",
      "Model: LinearRegression\n",
      "-----Training Data Evaluation-----\n",
      "Accuracy Score: 0.7575429975429976\n",
      "--------------------------------------------------------------\n",
      "Model: AdaBoostRegressor\n",
      "-----Training Data Evaluation-----\n",
      "Accuracy Score: 0.7552825552825553\n",
      "--------------------------------------------------------------\n",
      "Model: ElasticNet\n",
      "-----Training Data Evaluation-----\n",
      "Accuracy Score: 0.7575429975429976\n",
      "--------------------------------------------------------------\n",
      "Model: GradientBoostingRegressor\n",
      "-----Training Data Evaluation-----\n",
      "Accuracy Score: 0.7552825552825553\n",
      "--------------------------------------------------------------\n",
      "Model: DecisionTreeRegressor\n",
      "-----Training Data Evaluation-----\n",
      "Accuracy Score: 0.6346928746928747\n",
      "--------------------------------------------------------------\n",
      "Model: ExtraTreesRegressor\n",
      "-----Training Data Evaluation-----\n",
      "Accuracy Score: 0.7094840294840294\n",
      "--------------------------------------------------------------\n",
      "Model: RandomForestRegressor\n",
      "-----Training Data Evaluation-----\n",
      "Accuracy Score: 0.6916953316953317\n",
      "--------------------------------------------------------------\n",
      "Model: XGBRegressor\n",
      "-----Training Data Evaluation-----\n",
      "Accuracy Score: 0.6893366093366093\n",
      "--------------------------------------------------------------\n",
      "Model: LGBM\n",
      "-----Training Data Evaluation-----\n",
      "Accuracy Score: 0.7278624078624079\n",
      "--------------------------------------------------------------\n",
      "Model: CatBoostRegressor\n",
      "-----Training Data Evaluation-----\n",
      "Accuracy Score: 0.7378869778869779\n"
     ]
    }
   ],
   "source": [
    "dic =  {\"Model\":[],\"R2_Train\":[],\"RMSE_Train\":[]}\n",
    "for name, model in pipelines.items():\n",
    "    if name == 'CatBoostRegressor':\n",
    "        model.fit(X_train_ns, y_train_ns,verbose=False)\n",
    "    else:\n",
    "        model.fit(X_train_ns, y_train_ns)\n",
    "    #y_test_pre = model.predict(test_df)\n",
    "    predict_test  = model.predict(X_test)\n",
    "    print(\"--------------------------------------------------------------\")\n",
    "    print(\"Model:\", name)\n",
    "    print(\"-----Training Data Evaluation-----\")\n",
    "    print(\"Accuracy Score:\", accuracy_score(y_test, predict_test.round()))\n",
    "    dic[\"Model\"].append(name)"
   ]
  },
  {
   "cell_type": "code",
   "execution_count": 456,
   "metadata": {},
   "outputs": [
    {
     "data": {
      "text/plain": [
       "GradientBoostingRegressor()"
      ]
     },
     "execution_count": 456,
     "metadata": {},
     "output_type": "execute_result"
    }
   ],
   "source": [
    "mod = GradientBoostingRegressor()\n",
    "mod.fit(X_train_ns, y_train_ns)"
   ]
  },
  {
   "cell_type": "code",
   "execution_count": 412,
   "metadata": {},
   "outputs": [
    {
     "name": "stderr",
     "output_type": "stream",
     "text": [
      "[Parallel(n_jobs=1)]: Using backend SequentialBackend with 1 concurrent workers.\n",
      "[Parallel(n_jobs=1)]: Done   1 out of   1 | elapsed:    5.7s remaining:    0.0s\n",
      "[Parallel(n_jobs=1)]: Done   8 out of   8 | elapsed:   17.5s finished\n",
      "\n",
      "[2021-02-28 23:31:44] Features: 1/8 -- score: nan[Parallel(n_jobs=1)]: Using backend SequentialBackend with 1 concurrent workers.\n",
      "[Parallel(n_jobs=1)]: Done   1 out of   1 | elapsed:    5.0s remaining:    0.0s\n",
      "[Parallel(n_jobs=1)]: Done   7 out of   7 | elapsed:   35.9s finished\n",
      "\n",
      "[2021-02-28 23:32:20] Features: 2/8 -- score: nan[Parallel(n_jobs=1)]: Using backend SequentialBackend with 1 concurrent workers.\n",
      "[Parallel(n_jobs=1)]: Done   1 out of   1 | elapsed:    5.0s remaining:    0.0s\n",
      "[Parallel(n_jobs=1)]: Done   6 out of   6 | elapsed:   31.9s finished\n",
      "\n",
      "[2021-02-28 23:32:52] Features: 3/8 -- score: nan[Parallel(n_jobs=1)]: Using backend SequentialBackend with 1 concurrent workers.\n",
      "[Parallel(n_jobs=1)]: Done   1 out of   1 | elapsed:    6.1s remaining:    0.0s\n",
      "[Parallel(n_jobs=1)]: Done   5 out of   5 | elapsed:   28.8s finished\n",
      "\n",
      "[2021-02-28 23:33:21] Features: 4/8 -- score: nan[Parallel(n_jobs=1)]: Using backend SequentialBackend with 1 concurrent workers.\n",
      "[Parallel(n_jobs=1)]: Done   1 out of   1 | elapsed:    6.8s remaining:    0.0s\n",
      "[Parallel(n_jobs=1)]: Done   4 out of   4 | elapsed:   29.4s finished\n",
      "\n",
      "[2021-02-28 23:33:51] Features: 5/8 -- score: nan[Parallel(n_jobs=1)]: Using backend SequentialBackend with 1 concurrent workers.\n",
      "[Parallel(n_jobs=1)]: Done   1 out of   1 | elapsed:   10.2s remaining:    0.0s\n",
      "[Parallel(n_jobs=1)]: Done   3 out of   3 | elapsed:   24.6s finished\n",
      "\n",
      "[2021-02-28 23:34:15] Features: 6/8 -- score: nan[Parallel(n_jobs=1)]: Using backend SequentialBackend with 1 concurrent workers.\n",
      "[Parallel(n_jobs=1)]: Done   1 out of   1 | elapsed:    8.7s remaining:    0.0s\n",
      "[Parallel(n_jobs=1)]: Done   2 out of   2 | elapsed:   20.5s finished\n",
      "\n",
      "[2021-02-28 23:34:36] Features: 7/8 -- score: nan[Parallel(n_jobs=1)]: Using backend SequentialBackend with 1 concurrent workers.\n",
      "[Parallel(n_jobs=1)]: Done   1 out of   1 | elapsed:   10.2s remaining:    0.0s\n",
      "[Parallel(n_jobs=1)]: Done   1 out of   1 | elapsed:   10.2s finished\n",
      "\n",
      "[2021-02-28 23:34:46] Features: 8/8 -- score: nan"
     ]
    },
    {
     "ename": "KeyError",
     "evalue": "None",
     "output_type": "error",
     "traceback": [
      "\u001b[1;31m---------------------------------------------------------------------------\u001b[0m",
      "\u001b[1;31mKeyError\u001b[0m                                  Traceback (most recent call last)",
      "\u001b[1;32m<ipython-input-412-1285dd21d532>\u001b[0m in \u001b[0;36m<module>\u001b[1;34m\u001b[0m\n\u001b[0;32m      1\u001b[0m \u001b[1;31m# Sequential feature Selection\u001b[0m\u001b[1;33m\u001b[0m\u001b[1;33m\u001b[0m\u001b[1;33m\u001b[0m\u001b[0m\n\u001b[0;32m      2\u001b[0m \u001b[0msf\u001b[0m \u001b[1;33m=\u001b[0m \u001b[0msfs\u001b[0m\u001b[1;33m(\u001b[0m\u001b[0mestimator\u001b[0m \u001b[1;33m=\u001b[0m \u001b[0mGradientBoostingRegressor\u001b[0m\u001b[1;33m(\u001b[0m\u001b[1;33m)\u001b[0m\u001b[1;33m,\u001b[0m \u001b[0mk_features\u001b[0m\u001b[1;33m=\u001b[0m\u001b[1;34m\"best\"\u001b[0m\u001b[1;33m,\u001b[0m \u001b[0mforward\u001b[0m \u001b[1;33m=\u001b[0m \u001b[1;32mTrue\u001b[0m\u001b[1;33m,\u001b[0m \u001b[0mverbose\u001b[0m \u001b[1;33m=\u001b[0m \u001b[1;36m2\u001b[0m\u001b[1;33m,\u001b[0m \u001b[0mscoring\u001b[0m \u001b[1;33m=\u001b[0m \u001b[1;34m\"accuracy\"\u001b[0m\u001b[1;33m,\u001b[0m \u001b[0mcv\u001b[0m \u001b[1;33m=\u001b[0m \u001b[1;36m3\u001b[0m\u001b[1;33m)\u001b[0m\u001b[1;33m\u001b[0m\u001b[1;33m\u001b[0m\u001b[0m\n\u001b[1;32m----> 3\u001b[1;33m \u001b[0msfsmodel\u001b[0m \u001b[1;33m=\u001b[0m \u001b[0msf\u001b[0m\u001b[1;33m.\u001b[0m\u001b[0mfit\u001b[0m\u001b[1;33m(\u001b[0m\u001b[0mX_train_ns\u001b[0m\u001b[1;33m,\u001b[0m \u001b[0my_train_ns\u001b[0m\u001b[1;33m)\u001b[0m\u001b[1;33m\u001b[0m\u001b[1;33m\u001b[0m\u001b[0m\n\u001b[0m",
      "\u001b[1;32mC:\\ProgramData\\Anaconda3\\lib\\site-packages\\mlxtend\\feature_selection\\sequential_feature_selector.py\u001b[0m in \u001b[0;36mfit\u001b[1;34m(self, X, y, custom_feature_names, groups, **fit_params)\u001b[0m\n\u001b[0;32m    566\u001b[0m                     \u001b[0mbest_subset\u001b[0m \u001b[1;33m=\u001b[0m \u001b[0mk\u001b[0m\u001b[1;33m\u001b[0m\u001b[1;33m\u001b[0m\u001b[0m\n\u001b[0;32m    567\u001b[0m             \u001b[0mk_score\u001b[0m \u001b[1;33m=\u001b[0m \u001b[0mmax_score\u001b[0m\u001b[1;33m\u001b[0m\u001b[1;33m\u001b[0m\u001b[0m\n\u001b[1;32m--> 568\u001b[1;33m             \u001b[0mk_idx\u001b[0m \u001b[1;33m=\u001b[0m \u001b[0mself\u001b[0m\u001b[1;33m.\u001b[0m\u001b[0msubsets_\u001b[0m\u001b[1;33m[\u001b[0m\u001b[0mbest_subset\u001b[0m\u001b[1;33m]\u001b[0m\u001b[1;33m[\u001b[0m\u001b[1;34m'feature_idx'\u001b[0m\u001b[1;33m]\u001b[0m\u001b[1;33m\u001b[0m\u001b[1;33m\u001b[0m\u001b[0m\n\u001b[0m\u001b[0;32m    569\u001b[0m \u001b[1;33m\u001b[0m\u001b[0m\n\u001b[0;32m    570\u001b[0m             \u001b[1;32mif\u001b[0m \u001b[0mself\u001b[0m\u001b[1;33m.\u001b[0m\u001b[0mk_features\u001b[0m \u001b[1;33m==\u001b[0m \u001b[1;34m'parsimonious'\u001b[0m\u001b[1;33m:\u001b[0m\u001b[1;33m\u001b[0m\u001b[1;33m\u001b[0m\u001b[0m\n",
      "\u001b[1;31mKeyError\u001b[0m: None"
     ]
    }
   ],
   "source": [
    "# Sequential feature Selection\n",
    "sf = sfs(estimator = GradientBoostingRegressor(), k_features=\"best\", forward = True, verbose = 2, scoring = \"accuracy\", cv = 3)\n",
    "sfsmodel = sf.fit(X_train_ns, y_train_ns)"
   ]
  },
  {
   "cell_type": "code",
   "execution_count": 413,
   "metadata": {},
   "outputs": [
    {
     "name": "stdout",
     "output_type": "stream",
     "text": [
      "Features:  ('Region_Code', 'Accomodation_Type', 'Upper_Age', 'Reco_Policy_Premium', 'city_code', 'Policy_cat')\n",
      "Rscore:  -0.8774051665712573\n"
     ]
    }
   ],
   "source": [
    "print(\"Features: \", sfsmodel.k_feature_names_)\n",
    "print(\"Rscore: \", sfsmodel.k_score_)"
   ]
  },
  {
   "cell_type": "code",
   "execution_count": 457,
   "metadata": {},
   "outputs": [],
   "source": [
    "y_pred_ns = mod.predict(X_test)"
   ]
  },
  {
   "cell_type": "code",
   "execution_count": 460,
   "metadata": {},
   "outputs": [
    {
     "name": "stdout",
     "output_type": "stream",
     "text": [
      "Accuracy Score: 0.7552825552825553\n"
     ]
    }
   ],
   "source": [
    "print(\"Accuracy Score:\", accuracy_score(y_test, y_pred_ns.round()))"
   ]
  },
  {
   "cell_type": "code",
   "execution_count": 461,
   "metadata": {},
   "outputs": [
    {
     "name": "stdout",
     "output_type": "stream",
     "text": [
      "Precision:  0.2830188679245283\n",
      "Recall Score:  0.006080259424402107\n",
      "F1 score:  0.011904761904761904\n"
     ]
    }
   ],
   "source": [
    "print(\"Precision: \", precision_score(y_test, y_pred_ns.round()))\n",
    "print(\"Recall Score: \", recall_score(y_test ,y_pred_ns.round()))\n",
    "print(\"F1 score: \", f1_score( y_test, y_pred_ns.round()))"
   ]
  },
  {
   "cell_type": "code",
   "execution_count": 462,
   "metadata": {},
   "outputs": [],
   "source": [
    "import pickle\n",
    "# open a file, where you ant to store the data\n",
    "file = open('GradientBoost.pkl', 'wb')\n",
    "\n",
    "# dump information to that file\n",
    "pickle.dump(mod, file)"
   ]
  },
  {
   "cell_type": "code",
   "execution_count": 463,
   "metadata": {},
   "outputs": [
    {
     "data": {
      "text/html": [
       "<div>\n",
       "<style scoped>\n",
       "    .dataframe tbody tr th:only-of-type {\n",
       "        vertical-align: middle;\n",
       "    }\n",
       "\n",
       "    .dataframe tbody tr th {\n",
       "        vertical-align: top;\n",
       "    }\n",
       "\n",
       "    .dataframe thead th {\n",
       "        text-align: right;\n",
       "    }\n",
       "</style>\n",
       "<table border=\"1\" class=\"dataframe\">\n",
       "  <thead>\n",
       "    <tr style=\"text-align: right;\">\n",
       "      <th></th>\n",
       "      <th>ID</th>\n",
       "      <th>Response</th>\n",
       "    </tr>\n",
       "  </thead>\n",
       "  <tbody>\n",
       "    <tr>\n",
       "      <td>0</td>\n",
       "      <td>50883</td>\n",
       "      <td>0.448815</td>\n",
       "    </tr>\n",
       "    <tr>\n",
       "      <td>1</td>\n",
       "      <td>50884</td>\n",
       "      <td>0.436720</td>\n",
       "    </tr>\n",
       "    <tr>\n",
       "      <td>2</td>\n",
       "      <td>50885</td>\n",
       "      <td>0.434903</td>\n",
       "    </tr>\n",
       "    <tr>\n",
       "      <td>3</td>\n",
       "      <td>50886</td>\n",
       "      <td>0.425084</td>\n",
       "    </tr>\n",
       "    <tr>\n",
       "      <td>4</td>\n",
       "      <td>50887</td>\n",
       "      <td>0.424405</td>\n",
       "    </tr>\n",
       "    <tr>\n",
       "      <td>...</td>\n",
       "      <td>...</td>\n",
       "      <td>...</td>\n",
       "    </tr>\n",
       "    <tr>\n",
       "      <td>21800</td>\n",
       "      <td>72683</td>\n",
       "      <td>0.430862</td>\n",
       "    </tr>\n",
       "    <tr>\n",
       "      <td>21801</td>\n",
       "      <td>72684</td>\n",
       "      <td>0.431472</td>\n",
       "    </tr>\n",
       "    <tr>\n",
       "      <td>21802</td>\n",
       "      <td>72685</td>\n",
       "      <td>0.433525</td>\n",
       "    </tr>\n",
       "    <tr>\n",
       "      <td>21803</td>\n",
       "      <td>72686</td>\n",
       "      <td>0.421117</td>\n",
       "    </tr>\n",
       "    <tr>\n",
       "      <td>21804</td>\n",
       "      <td>72687</td>\n",
       "      <td>0.423743</td>\n",
       "    </tr>\n",
       "  </tbody>\n",
       "</table>\n",
       "<p>21805 rows × 2 columns</p>\n",
       "</div>"
      ],
      "text/plain": [
       "          ID  Response\n",
       "0      50883  0.448815\n",
       "1      50884  0.436720\n",
       "2      50885  0.434903\n",
       "3      50886  0.425084\n",
       "4      50887  0.424405\n",
       "...      ...       ...\n",
       "21800  72683  0.430862\n",
       "21801  72684  0.431472\n",
       "21802  72685  0.433525\n",
       "21803  72686  0.421117\n",
       "21804  72687  0.423743\n",
       "\n",
       "[21805 rows x 2 columns]"
      ]
     },
     "execution_count": 463,
     "metadata": {},
     "output_type": "execute_result"
    }
   ],
   "source": [
    "result = mod.predict(test_data)\n",
    "res = pd.DataFrame({\"ID\" : test[\"ID\"],\n",
    "                    \"Response\": result})\n",
    "res"
   ]
  },
  {
   "cell_type": "code",
   "execution_count": 464,
   "metadata": {},
   "outputs": [],
   "source": [
    "res.to_csv(\"GradientBoost2.csv\", index = False)"
   ]
  },
  {
   "cell_type": "code",
   "execution_count": null,
   "metadata": {},
   "outputs": [],
   "source": []
  },
  {
   "cell_type": "code",
   "execution_count": null,
   "metadata": {},
   "outputs": [],
   "source": []
  },
  {
   "cell_type": "code",
   "execution_count": 417,
   "metadata": {},
   "outputs": [],
   "source": [
    "from sklearn.model_selection import RandomizedSearchCV\n",
    "\n",
    "#Randomized Search CV\n",
    "\n",
    "# Number of trees in extra tree\n",
    "n_estimators = [int(x) for x in np.linspace(start = 100, stop = 1000, num = 10)]\n",
    "# Number of features to consider at every split\n",
    "max_features = ['auto', 'sqrt', 'log2']\n",
    "# Maximum number of levels in tree\n",
    "max_depth = [int(x) for x in np.linspace(5, 40, num = 8)]\n",
    "# Minimum number of samples required to split a node\n",
    "min_samples_split = [2,3,4, 5, 10, 15, 100]\n",
    "# Minimum number of samples required at each leaf node\n",
    "min_samples_leaf = [1,2,3,4, 5, 10]"
   ]
  },
  {
   "cell_type": "code",
   "execution_count": 418,
   "metadata": {},
   "outputs": [],
   "source": [
    "random_grid = {'n_estimators': n_estimators,\n",
    "               'max_features': max_features,\n",
    "               'max_depth': max_depth,\n",
    "               'min_samples_split': min_samples_split,\n",
    "               'min_samples_leaf': min_samples_leaf}"
   ]
  },
  {
   "cell_type": "code",
   "execution_count": 422,
   "metadata": {},
   "outputs": [],
   "source": [
    "gbr = RandomizedSearchCV(estimator = mod, param_distributions = random_grid,scoring='neg_mean_squared_error', n_iter = 10, cv = 2, verbose=2, random_state=42, n_jobs = 1)"
   ]
  },
  {
   "cell_type": "code",
   "execution_count": 423,
   "metadata": {},
   "outputs": [
    {
     "name": "stdout",
     "output_type": "stream",
     "text": [
      "Fitting 2 folds for each of 10 candidates, totalling 20 fits\n",
      "[CV] END max_depth=30, max_features=log2, min_samples_leaf=2, min_samples_split=100, n_estimators=100; total time=   6.9s\n",
      "[CV] END max_depth=30, max_features=log2, min_samples_leaf=2, min_samples_split=100, n_estimators=100; total time=   7.4s\n",
      "[CV] END max_depth=5, max_features=log2, min_samples_leaf=1, min_samples_split=4, n_estimators=100; total time=   1.5s\n",
      "[CV] END max_depth=5, max_features=log2, min_samples_leaf=1, min_samples_split=4, n_estimators=100; total time=   1.6s\n",
      "[CV] END max_depth=25, max_features=auto, min_samples_leaf=10, min_samples_split=2, n_estimators=100; total time=  16.3s\n",
      "[CV] END max_depth=25, max_features=auto, min_samples_leaf=10, min_samples_split=2, n_estimators=100; total time=  17.1s\n",
      "[CV] END max_depth=25, max_features=auto, min_samples_leaf=3, min_samples_split=3, n_estimators=200; total time=  31.2s\n",
      "[CV] END max_depth=25, max_features=auto, min_samples_leaf=3, min_samples_split=3, n_estimators=200; total time=  34.2s\n",
      "[CV] END max_depth=25, max_features=sqrt, min_samples_leaf=4, min_samples_split=100, n_estimators=500; total time=  23.7s\n",
      "[CV] END max_depth=25, max_features=sqrt, min_samples_leaf=4, min_samples_split=100, n_estimators=500; total time=  24.4s\n",
      "[CV] END max_depth=25, max_features=log2, min_samples_leaf=10, min_samples_split=5, n_estimators=600; total time=  40.1s\n",
      "[CV] END max_depth=25, max_features=log2, min_samples_leaf=10, min_samples_split=5, n_estimators=600; total time=  46.2s\n",
      "[CV] END max_depth=5, max_features=sqrt, min_samples_leaf=1, min_samples_split=10, n_estimators=700; total time=   9.9s\n",
      "[CV] END max_depth=5, max_features=sqrt, min_samples_leaf=1, min_samples_split=10, n_estimators=700; total time=  10.0s\n",
      "[CV] END max_depth=20, max_features=sqrt, min_samples_leaf=4, min_samples_split=3, n_estimators=700; total time=  39.7s\n",
      "[CV] END max_depth=20, max_features=sqrt, min_samples_leaf=4, min_samples_split=3, n_estimators=700; total time= 1.2min\n",
      "[CV] END max_depth=25, max_features=sqrt, min_samples_leaf=2, min_samples_split=10, n_estimators=900; total time=  51.5s\n",
      "[CV] END max_depth=25, max_features=sqrt, min_samples_leaf=2, min_samples_split=10, n_estimators=900; total time= 1.1min\n",
      "[CV] END max_depth=35, max_features=sqrt, min_samples_leaf=5, min_samples_split=100, n_estimators=300; total time=  17.5s\n",
      "[CV] END max_depth=35, max_features=sqrt, min_samples_leaf=5, min_samples_split=100, n_estimators=300; total time=  18.4s\n"
     ]
    },
    {
     "data": {
      "text/plain": [
       "RandomizedSearchCV(cv=2, estimator=GradientBoostingRegressor(), n_jobs=1,\n",
       "                   param_distributions={'max_depth': [5, 10, 15, 20, 25, 30, 35,\n",
       "                                                      40],\n",
       "                                        'max_features': ['auto', 'sqrt',\n",
       "                                                         'log2'],\n",
       "                                        'min_samples_leaf': [1, 2, 3, 4, 5, 10],\n",
       "                                        'min_samples_split': [2, 3, 4, 5, 10,\n",
       "                                                              15, 100],\n",
       "                                        'n_estimators': [100, 200, 300, 400,\n",
       "                                                         500, 600, 700, 800,\n",
       "                                                         900, 1000]},\n",
       "                   random_state=42, scoring='neg_mean_squared_error',\n",
       "                   verbose=2)"
      ]
     },
     "execution_count": 423,
     "metadata": {},
     "output_type": "execute_result"
    }
   ],
   "source": [
    "gbr.fit(X_train_ns, y_train_ns)"
   ]
  },
  {
   "cell_type": "code",
   "execution_count": 424,
   "metadata": {},
   "outputs": [
    {
     "data": {
      "text/plain": [
       "{'n_estimators': 200,\n",
       " 'min_samples_split': 3,\n",
       " 'min_samples_leaf': 3,\n",
       " 'max_features': 'auto',\n",
       " 'max_depth': 25}"
      ]
     },
     "execution_count": 424,
     "metadata": {},
     "output_type": "execute_result"
    }
   ],
   "source": [
    "gbr.best_params_"
   ]
  },
  {
   "cell_type": "code",
   "execution_count": 425,
   "metadata": {},
   "outputs": [],
   "source": [
    "y_pred_hp = gbr.predict(X_test)"
   ]
  },
  {
   "cell_type": "code",
   "execution_count": 426,
   "metadata": {},
   "outputs": [
    {
     "name": "stdout",
     "output_type": "stream",
     "text": [
      "Accuracy Score: 0.6941523341523341\n"
     ]
    }
   ],
   "source": [
    "print(\"Accuracy Score:\", accuracy_score(y_test, y_pred_hp.round()))"
   ]
  },
  {
   "cell_type": "code",
   "execution_count": 427,
   "metadata": {},
   "outputs": [
    {
     "name": "stdout",
     "output_type": "stream",
     "text": [
      "Precision:  0.27887139107611547\n",
      "Recall Score:  0.17432321575061527\n",
      "F1 score:  0.21453811206461385\n"
     ]
    }
   ],
   "source": [
    "print(\"Precision: \", precision_score(y_test, y_pred_hp.round()))\n",
    "print(\"Recall Score: \", recall_score(y_test ,y_pred_hp.round()))\n",
    "print(\"F1 score: \", f1_score(y_test, y_pred_hp.round()))"
   ]
  },
  {
   "cell_type": "code",
   "execution_count": 428,
   "metadata": {},
   "outputs": [],
   "source": [
    "import pickle\n",
    "# open a file, where you ant to store the data\n",
    "file = open('GradientBoostHyper.pkl', 'wb')\n",
    "\n",
    "# dump information to that file\n",
    "pickle.dump(gbr, file)"
   ]
  },
  {
   "cell_type": "code",
   "execution_count": 174,
   "metadata": {},
   "outputs": [
    {
     "data": {
      "text/html": [
       "<div>\n",
       "<style scoped>\n",
       "    .dataframe tbody tr th:only-of-type {\n",
       "        vertical-align: middle;\n",
       "    }\n",
       "\n",
       "    .dataframe tbody tr th {\n",
       "        vertical-align: top;\n",
       "    }\n",
       "\n",
       "    .dataframe thead th {\n",
       "        text-align: right;\n",
       "    }\n",
       "</style>\n",
       "<table border=\"1\" class=\"dataframe\">\n",
       "  <thead>\n",
       "    <tr style=\"text-align: right;\">\n",
       "      <th></th>\n",
       "      <th>Region_Code</th>\n",
       "      <th>Accomodation_Type</th>\n",
       "      <th>Reco_Insurance_Type</th>\n",
       "      <th>Upper_Age</th>\n",
       "      <th>Is_Spouse</th>\n",
       "      <th>Reco_Policy_Cat</th>\n",
       "      <th>Reco_Policy_Premium</th>\n",
       "      <th>city_code</th>\n",
       "    </tr>\n",
       "  </thead>\n",
       "  <tbody>\n",
       "    <tr>\n",
       "      <td>0</td>\n",
       "      <td>2989</td>\n",
       "      <td>0</td>\n",
       "      <td>1</td>\n",
       "      <td>38</td>\n",
       "      <td>1</td>\n",
       "      <td>21</td>\n",
       "      <td>21351.0</td>\n",
       "      <td>0</td>\n",
       "    </tr>\n",
       "    <tr>\n",
       "      <td>1</td>\n",
       "      <td>491</td>\n",
       "      <td>1</td>\n",
       "      <td>0</td>\n",
       "      <td>65</td>\n",
       "      <td>0</td>\n",
       "      <td>3</td>\n",
       "      <td>20160.0</td>\n",
       "      <td>0</td>\n",
       "    </tr>\n",
       "    <tr>\n",
       "      <td>2</td>\n",
       "      <td>2923</td>\n",
       "      <td>1</td>\n",
       "      <td>0</td>\n",
       "      <td>47</td>\n",
       "      <td>0</td>\n",
       "      <td>19</td>\n",
       "      <td>13442.0</td>\n",
       "      <td>0</td>\n",
       "    </tr>\n",
       "    <tr>\n",
       "      <td>3</td>\n",
       "      <td>904</td>\n",
       "      <td>1</td>\n",
       "      <td>0</td>\n",
       "      <td>18</td>\n",
       "      <td>0</td>\n",
       "      <td>15</td>\n",
       "      <td>2408.0</td>\n",
       "      <td>1</td>\n",
       "    </tr>\n",
       "    <tr>\n",
       "      <td>4</td>\n",
       "      <td>600</td>\n",
       "      <td>0</td>\n",
       "      <td>0</td>\n",
       "      <td>46</td>\n",
       "      <td>0</td>\n",
       "      <td>16</td>\n",
       "      <td>13662.0</td>\n",
       "      <td>2</td>\n",
       "    </tr>\n",
       "  </tbody>\n",
       "</table>\n",
       "</div>"
      ],
      "text/plain": [
       "   Region_Code  Accomodation_Type  Reco_Insurance_Type  Upper_Age  Is_Spouse  \\\n",
       "0         2989                  0                    1         38          1   \n",
       "1          491                  1                    0         65          0   \n",
       "2         2923                  1                    0         47          0   \n",
       "3          904                  1                    0         18          0   \n",
       "4          600                  0                    0         46          0   \n",
       "\n",
       "   Reco_Policy_Cat  Reco_Policy_Premium  city_code  \n",
       "0               21              21351.0          0  \n",
       "1                3              20160.0          0  \n",
       "2               19              13442.0          0  \n",
       "3               15               2408.0          1  \n",
       "4               16              13662.0          2  "
      ]
     },
     "execution_count": 174,
     "metadata": {},
     "output_type": "execute_result"
    }
   ],
   "source": [
    "X_train_ns.head()"
   ]
  },
  {
   "cell_type": "code",
   "execution_count": 429,
   "metadata": {},
   "outputs": [
    {
     "data": {
      "text/html": [
       "<div>\n",
       "<style scoped>\n",
       "    .dataframe tbody tr th:only-of-type {\n",
       "        vertical-align: middle;\n",
       "    }\n",
       "\n",
       "    .dataframe tbody tr th {\n",
       "        vertical-align: top;\n",
       "    }\n",
       "\n",
       "    .dataframe thead th {\n",
       "        text-align: right;\n",
       "    }\n",
       "</style>\n",
       "<table border=\"1\" class=\"dataframe\">\n",
       "  <thead>\n",
       "    <tr style=\"text-align: right;\">\n",
       "      <th></th>\n",
       "      <th>ID</th>\n",
       "      <th>Response</th>\n",
       "    </tr>\n",
       "  </thead>\n",
       "  <tbody>\n",
       "    <tr>\n",
       "      <td>0</td>\n",
       "      <td>50883</td>\n",
       "      <td>0.455032</td>\n",
       "    </tr>\n",
       "    <tr>\n",
       "      <td>1</td>\n",
       "      <td>50884</td>\n",
       "      <td>0.415921</td>\n",
       "    </tr>\n",
       "    <tr>\n",
       "      <td>2</td>\n",
       "      <td>50885</td>\n",
       "      <td>0.119199</td>\n",
       "    </tr>\n",
       "    <tr>\n",
       "      <td>3</td>\n",
       "      <td>50886</td>\n",
       "      <td>0.194626</td>\n",
       "    </tr>\n",
       "    <tr>\n",
       "      <td>4</td>\n",
       "      <td>50887</td>\n",
       "      <td>0.254277</td>\n",
       "    </tr>\n",
       "    <tr>\n",
       "      <td>...</td>\n",
       "      <td>...</td>\n",
       "      <td>...</td>\n",
       "    </tr>\n",
       "    <tr>\n",
       "      <td>21800</td>\n",
       "      <td>72683</td>\n",
       "      <td>0.284243</td>\n",
       "    </tr>\n",
       "    <tr>\n",
       "      <td>21801</td>\n",
       "      <td>72684</td>\n",
       "      <td>0.025699</td>\n",
       "    </tr>\n",
       "    <tr>\n",
       "      <td>21802</td>\n",
       "      <td>72685</td>\n",
       "      <td>0.219179</td>\n",
       "    </tr>\n",
       "    <tr>\n",
       "      <td>21803</td>\n",
       "      <td>72686</td>\n",
       "      <td>0.612938</td>\n",
       "    </tr>\n",
       "    <tr>\n",
       "      <td>21804</td>\n",
       "      <td>72687</td>\n",
       "      <td>0.192353</td>\n",
       "    </tr>\n",
       "  </tbody>\n",
       "</table>\n",
       "<p>21805 rows × 2 columns</p>\n",
       "</div>"
      ],
      "text/plain": [
       "          ID  Response\n",
       "0      50883  0.455032\n",
       "1      50884  0.415921\n",
       "2      50885  0.119199\n",
       "3      50886  0.194626\n",
       "4      50887  0.254277\n",
       "...      ...       ...\n",
       "21800  72683  0.284243\n",
       "21801  72684  0.025699\n",
       "21802  72685  0.219179\n",
       "21803  72686  0.612938\n",
       "21804  72687  0.192353\n",
       "\n",
       "[21805 rows x 2 columns]"
      ]
     },
     "execution_count": 429,
     "metadata": {},
     "output_type": "execute_result"
    }
   ],
   "source": [
    "result = gbr.predict(test_data)\n",
    "res = pd.DataFrame({\"ID\" : test[\"ID\"],\n",
    "                    \"Response\": result})\n",
    "res"
   ]
  },
  {
   "cell_type": "code",
   "execution_count": 430,
   "metadata": {},
   "outputs": [],
   "source": [
    "res.to_csv(\"GradientBoostingHyper.csv\", index = False)"
   ]
  },
  {
   "cell_type": "code",
   "execution_count": 138,
   "metadata": {},
   "outputs": [],
   "source": []
  },
  {
   "cell_type": "code",
   "execution_count": 139,
   "metadata": {},
   "outputs": [],
   "source": []
  },
  {
   "cell_type": "code",
   "execution_count": 140,
   "metadata": {},
   "outputs": [],
   "source": []
  },
  {
   "cell_type": "code",
   "execution_count": null,
   "metadata": {},
   "outputs": [],
   "source": []
  },
  {
   "cell_type": "code",
   "execution_count": null,
   "metadata": {},
   "outputs": [],
   "source": []
  },
  {
   "cell_type": "code",
   "execution_count": null,
   "metadata": {},
   "outputs": [],
   "source": []
  }
 ],
 "metadata": {
  "kernelspec": {
   "display_name": "Python 3",
   "language": "python",
   "name": "python3"
  },
  "language_info": {
   "codemirror_mode": {
    "name": "ipython",
    "version": 3
   },
   "file_extension": ".py",
   "mimetype": "text/x-python",
   "name": "python",
   "nbconvert_exporter": "python",
   "pygments_lexer": "ipython3",
   "version": "3.7.4"
  }
 },
 "nbformat": 4,
 "nbformat_minor": 2
}
